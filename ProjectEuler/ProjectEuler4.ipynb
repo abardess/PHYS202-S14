{
 "metadata": {
  "name": "",
  "signature": "sha256:519da1f7ce38206b07c13581e29331093113f97044633baaae48c1b1118e3492"
 },
 "nbformat": 3,
 "nbformat_minor": 0,
 "worksheets": [
  {
   "cells": [
    {
     "cell_type": "heading",
     "level": 1,
     "metadata": {},
     "source": [
      "Largest palindrome product"
     ]
    },
    {
     "cell_type": "markdown",
     "metadata": {},
     "source": [
      "\n",
      "\n",
      "A palindromic number reads the same both ways. The largest palindrome made from the product of two 2-digit numbers is $9009 = 91 \u00d7 99$.\n",
      "\n",
      "Find the largest palindrome made from the product of two 3-digit numbers.\n"
     ]
    },
    {
     "cell_type": "code",
     "collapsed": false,
     "input": [
      "%pylab inline\n",
      "import numpy as np"
     ],
     "language": "python",
     "metadata": {},
     "outputs": [
      {
       "output_type": "stream",
       "stream": "stdout",
       "text": [
        "Populating the interactive namespace from numpy and matplotlib\n"
       ]
      }
     ],
     "prompt_number": 1
    },
    {
     "cell_type": "code",
     "collapsed": false,
     "input": [
      "def is_palandrome(number):\n",
      "    n = map(int, str(number))\n",
      "    p = True\n",
      "    done = False\n",
      "    while p == True and done == False:\n",
      "        for i in range(len(n)):\n",
      "            if n[i] == n[-(i + 1)]:\n",
      "                p = True\n",
      "            elif n[i] != n[-(i + 1)]:\n",
      "                p = False\n",
      "                break\n",
      "        done = True\n",
      "    return p\n",
      "                \n",
      "print is_palandrome(9009)\n",
      "print is_palandrome(93789)"
     ],
     "language": "python",
     "metadata": {},
     "outputs": [
      {
       "output_type": "stream",
       "stream": "stdout",
       "text": [
        "True\n",
        "False\n"
       ]
      }
     ],
     "prompt_number": 2
    },
    {
     "cell_type": "code",
     "collapsed": false,
     "input": [
      "def multiply_to_palandome(digits):\n",
      "    import numpy as np\n",
      "    lower_limit = (10 ** (digits - 1)) ; upper_limit = (10 ** (digits))\n",
      "    N = np.arange(lower_limit, upper_limit, 1)\n",
      "    pal = []\n",
      "    for i in range(len(N)):\n",
      "        n1 = N[i]\n",
      "        for j in range(len(N)):\n",
      "            n2 = N[j]\n",
      "            if is_palandrome(n1 * n2) == True:\n",
      "                pal.append(n1 * n2)\n",
      "    return max(pal)\n",
      "\n",
      "pal = multiply_to_palandome(2)\n",
      "print pal"
     ],
     "language": "python",
     "metadata": {},
     "outputs": [
      {
       "output_type": "stream",
       "stream": "stdout",
       "text": [
        "9009\n"
       ]
      }
     ],
     "prompt_number": 12
    },
    {
     "cell_type": "code",
     "collapsed": false,
     "input": [
      "pal = multiply_to_palandome(3)\n",
      "print pal"
     ],
     "language": "python",
     "metadata": {},
     "outputs": [
      {
       "output_type": "stream",
       "stream": "stdout",
       "text": [
        "906609\n"
       ]
      }
     ],
     "prompt_number": 13
    }
   ],
   "metadata": {}
  }
 ]
}