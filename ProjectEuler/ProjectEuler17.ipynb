{
 "metadata": {
  "name": "",
  "signature": "sha256:3376ab4405eb2f1541ee268abed11c85b2b669152c973526a9fe4f01eedc0b55"
 },
 "nbformat": 3,
 "nbformat_minor": 0,
 "worksheets": [
  {
   "cells": [
    {
     "cell_type": "heading",
     "level": 1,
     "metadata": {},
     "source": [
      "Number Letter Counts"
     ]
    },
    {
     "cell_type": "markdown",
     "metadata": {},
     "source": [
      "\n",
      "\n",
      "If the numbers 1 to 5 are written out in words: one, two, three, four, five, then there are 3 + 3 + 5 + 4 + 4 = 19 letters used in total.\n",
      "\n",
      "If all the numbers from 1 to 1000 (one thousand) inclusive were written out in words, how many letters would be used?\n",
      "\n",
      "NOTE: Do not count spaces or hyphens. For example, 342 (three hundred and forty-two) contains 23 letters and 115 (one hundred and fifteen) contains 20 letters. The use of \"and\" when writing out numbers is in compliance with British usage.\n"
     ]
    },
    {
     "cell_type": "code",
     "collapsed": false,
     "input": [
      "%pylab inline\n",
      "import numpy as np\n",
      "\n",
      "\n",
      "numbers = {'0' : 4, '1' : 3, '2' : 3, '3' : 5, '4' : 4, '5' : 4, '6' : 3, '7' : 5, '8' : 5, \n",
      "           '9' : 4, '10' : 3, '11' : 6, '12' : 6, '13' : 8, '14' : 7, '15' : 7, '16' : 7, '17' : 9, \n",
      "           '18' : 8, '19' : 8, '20' : 6, 'thirty': 30, 'fourty' : 40,\n",
      "           'fifty' : 50, 'sixty' : 60, 'seventy' : 70, 'eighty' : 80, 'ninety' : 90}\n",
      "\n",
      "\n",
      "\n",
      "def number_letter_count(number):\n",
      "    import numpy as np\n",
      "\n",
      "    x = np.arange(1, number + 1)\n",
      "    for i in x:\n",
      "       if\n",
      "    print x\n",
      "\n",
      "number_letter_count(5)"
     ],
     "language": "python",
     "metadata": {},
     "outputs": [
      {
       "output_type": "stream",
       "stream": "stdout",
       "text": [
        "Populating the interactive namespace from numpy and matplotlib\n",
        "[1 2 3 4 5]\n"
       ]
      }
     ],
     "prompt_number": 3
    },
    {
     "cell_type": "code",
     "collapsed": false,
     "input": [],
     "language": "python",
     "metadata": {},
     "outputs": []
    }
   ],
   "metadata": {}
  }
 ]
}