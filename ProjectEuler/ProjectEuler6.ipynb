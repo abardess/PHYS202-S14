{
 "metadata": {
  "name": "",
  "signature": "sha256:bfea0e6e97060b119bee8235228fa269b3236324c6a5df3500ce409dee70437c"
 },
 "nbformat": 3,
 "nbformat_minor": 0,
 "worksheets": [
  {
   "cells": [
    {
     "cell_type": "heading",
     "level": 1,
     "metadata": {},
     "source": [
      "Sum square difference"
     ]
    },
    {
     "cell_type": "markdown",
     "metadata": {},
     "source": [
      "The sum of the squares of the first ten natural numbers is:\n",
      "1^2 + 2^2 + ... + 10^2 = 385\n",
      "\n",
      "\n",
      "The square of the sum of the first ten natural numbers is:\n",
      "(1 + 2 + ... + 10)^2 = 55^2 = 3025\n",
      "\n",
      "\n",
      "Hence the difference between the sum of the squares of the first ten natural numbers and the square of the sum is 3025 \u2212 385 = 2640.\n",
      "\n",
      "\n",
      "Find the difference between the sum of the squares of the first one hundred natural numbers and the square of the sum."
     ]
    },
    {
     "cell_type": "code",
     "collapsed": false,
     "input": [
      "def difference(x, y):\n",
      "    return x - y\n",
      "\n",
      "def sum_of_squares(n):\n",
      "    total = 0\n",
      "    for x in range(n + 1):\n",
      "        total = total + (x ** 2)\n",
      "    return total\n",
      "\n",
      "def square_of_sum(n):\n",
      "    total = 0\n",
      "    for x in range(n + 1):\n",
      "        total = total + x\n",
      "    return (total ** 2)"
     ],
     "language": "python",
     "metadata": {},
     "outputs": [],
     "prompt_number": 5
    },
    {
     "cell_type": "code",
     "collapsed": false,
     "input": [
      "a = square_of_sum(10)\n",
      "\n",
      "b = sum_of_squares(10)\n",
      "\n",
      "print difference(a, b)"
     ],
     "language": "python",
     "metadata": {},
     "outputs": [
      {
       "output_type": "stream",
       "stream": "stdout",
       "text": [
        "2640\n"
       ]
      }
     ],
     "prompt_number": 8
    },
    {
     "cell_type": "code",
     "collapsed": false,
     "input": [
      "a = square_of_sum(100)\n",
      "\n",
      "b = sum_of_squares(100)\n",
      "\n",
      "print difference(a, b)"
     ],
     "language": "python",
     "metadata": {},
     "outputs": [
      {
       "output_type": "stream",
       "stream": "stdout",
       "text": [
        "25164150\n"
       ]
      }
     ],
     "prompt_number": 9
    },
    {
     "cell_type": "code",
     "collapsed": false,
     "input": [],
     "language": "python",
     "metadata": {},
     "outputs": []
    }
   ],
   "metadata": {}
  }
 ]
}