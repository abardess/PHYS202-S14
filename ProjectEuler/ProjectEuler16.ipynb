{
 "metadata": {
  "name": "",
  "signature": "sha256:be3eee837f63134bfbcdbe597a29fef95e9298f09aad3a907aec48750f4d7382"
 },
 "nbformat": 3,
 "nbformat_minor": 0,
 "worksheets": [
  {
   "cells": [
    {
     "cell_type": "heading",
     "level": 1,
     "metadata": {},
     "source": [
      "Power Digit Sum"
     ]
    },
    {
     "cell_type": "markdown",
     "metadata": {},
     "source": [
      "2^15  =  32768 and the sum of its digits is 3 + 2 + 7 + 6 + 8 = 26.\n",
      "\n",
      "What is the sum of the digits of the number 2^1000?\n",
      "\n",
      "1366"
     ]
    },
    {
     "cell_type": "code",
     "collapsed": false,
     "input": [
      "number = str(2 ** 1000)\n",
      "\n",
      "total = 0\n",
      "for digits in number:\n",
      "    total = total + int(digits)\n",
      "\n",
      "print total"
     ],
     "language": "python",
     "metadata": {},
     "outputs": [
      {
       "output_type": "stream",
       "stream": "stdout",
       "text": [
        "1366\n"
       ]
      }
     ],
     "prompt_number": 16
    },
    {
     "cell_type": "code",
     "collapsed": false,
     "input": [],
     "language": "python",
     "metadata": {},
     "outputs": []
    }
   ],
   "metadata": {}
  }
 ]
}