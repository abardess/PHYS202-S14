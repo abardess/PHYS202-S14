{
 "metadata": {
  "name": "",
  "signature": "sha256:69a6c89918308a5ffab9a092ddd0ccfe116ad1dca09b3bfcd5d1ef4c16e09679"
 },
 "nbformat": 3,
 "nbformat_minor": 0,
 "worksheets": [
  {
   "cells": [
    {
     "cell_type": "heading",
     "level": 1,
     "metadata": {},
     "source": [
      "Coin Sums"
     ]
    },
    {
     "cell_type": "markdown",
     "metadata": {},
     "source": [
      "In England the currency is made up of pound, \u00a3, and pence, p, and there are eight coins in general circulation:\n",
      "\n",
      "    1p, 2p, 5p, 10p, 20p, 50p, \u00a31 (100p) and \u00a32 (200p).\n",
      "\n",
      "It is possible to make \u00a32 in the following way:\n",
      "\n",
      "    1\u00d7\u00a31 + 1\u00d750p + 2\u00d720p + 1\u00d75p + 1\u00d72p + 3\u00d71p\n",
      "\n",
      "How many different ways can \u00a32 be made using any number of coins?\n"
     ]
    },
    {
     "cell_type": "code",
     "collapsed": false,
     "input": [
      "c = [1, 2, 5, 10, 20, 50, 100, 200]"
     ],
     "language": "python",
     "metadata": {},
     "outputs": [],
     "prompt_number": 81
    },
    {
     "cell_type": "code",
     "collapsed": false,
     "input": [
      "#Brute Force\n",
      "#run at your own risk\n",
      "#it takes like a billion computations or something\n",
      "\n",
      "ways = 0\n",
      "for m in range(200):\n",
      "    for n in range(50):\n",
      "        for o in range(40):\n",
      "            for p in range(20):\n",
      "                for q in range(10):\n",
      "                    for r in range(4):\n",
      "                        for s in range(2):\n",
      "                            for t in range(1):\n",
      "                                total = (m * c[0]) + (n * c[1]) + (o * c[2]) + (p * c[3]) + (q * c[4]) + (r * c[5]) + (s * c[6]) + (t * c[6])\n",
      "                                if total == 200:\n",
      "                                    ways = ways + 1\n",
      "print ways\n"
     ],
     "language": "python",
     "metadata": {},
     "outputs": []
    }
   ],
   "metadata": {}
  }
 ]
}