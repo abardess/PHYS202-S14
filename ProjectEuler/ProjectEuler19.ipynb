{
 "metadata": {
  "name": "",
  "signature": "sha256:a771c9eab73075a6884a9751a2921245836a944835a968be2013b1b2cbb32ec4"
 },
 "nbformat": 3,
 "nbformat_minor": 0,
 "worksheets": [
  {
   "cells": [
    {
     "cell_type": "heading",
     "level": 1,
     "metadata": {},
     "source": [
      "Counting Sundays"
     ]
    },
    {
     "cell_type": "markdown",
     "metadata": {},
     "source": [
      "You are given the following information, but you may prefer to do some research for yourself.\n",
      "\n",
      "    1 Jan 1900 was a Monday.\n",
      "    Thirty days has September,\n",
      "    April, June and November.\n",
      "    All the rest have thirty-one,\n",
      "    Saving February alone,\n",
      "    Which has twenty-eight, rain or shine.\n",
      "    And on leap years, twenty-nine.\n",
      "    A leap year occurs on any year evenly divisible by 4, but not on a century unless it is divisible by 400.\n",
      "\n",
      "How many Sundays fell on the first of the month during the twentieth century (1 Jan 1901 to 31 Dec 2000)?\n",
      "\n",
      "\n",
      "171"
     ]
    },
    {
     "cell_type": "code",
     "collapsed": false,
     "input": [
      "day_of_the_week = ['m', 't', 'w', 'r', 'f', 's', 'u']\n",
      "months = [31, 28, 31, 30, 31, 30, 31, 31, 30, 31, 30, 31]\n",
      "months_with_leap = [31, 29, 31, 30, 31, 30, 31, 31, 30, 31, 30, 31]\n",
      "\n",
      "\n",
      "\n",
      "def which_year(currentyear):\n",
      "    if currentyear % 4 == 0:\n",
      "        if currentyear % 400 == 0:\n",
      "            return 'normal year'\n",
      "        else:\n",
      "            return 'leap year'\n",
      "    else:\n",
      "        return 'normal year'\n",
      "\n",
      "\n",
      "    \n",
      "sunday_the_first = 0\n",
      "year = 1900\n",
      "month = 0\n",
      "day = 0\n",
      "\n",
      "for i in range(101):\n",
      "    if year == 1900:\n",
      "        for i in range(12):\n",
      "            total_month_days = 0\n",
      "            for j in range(months[int(month)]):\n",
      "                if day >= 6:\n",
      "                    day = 0\n",
      "                else:\n",
      "                    day += 1\n",
      "                total_month_days += 1\n",
      "            if month >= 11:\n",
      "                month = 0\n",
      "            else:\n",
      "                month += 1\n",
      "        year += 1\n",
      "    else:\n",
      "        if which_year(year) == 'normal year':\n",
      "            for i in range(12):\n",
      "                total_month_days = 0\n",
      "                for j in range(months[int(month)]):\n",
      "                    if day_of_the_week[day] == 'u' and total_month_days == 0:\n",
      "                        sunday_the_first += 1\n",
      "                    if day >= 6:\n",
      "                        day = 0\n",
      "                    else:\n",
      "                        day += 1\n",
      "                    total_month_days += 1\n",
      "                if month >= 11:\n",
      "                    month = 0\n",
      "                else:\n",
      "                    month += 1\n",
      "        if which_year(year) == 'leap year':\n",
      "            for i in range(12):\n",
      "                total_month_days = 0\n",
      "                for j in range(months_with_leap[int(month)]):\n",
      "                    if day_of_the_week[day] == 'u' and total_month_days == 0:\n",
      "                        sunday_the_first += 1\n",
      "                    if day >= 6:\n",
      "                        day = 0\n",
      "                    else:\n",
      "                        day += 1\n",
      "                    total_month_days += 1\n",
      "                if month >= 11:\n",
      "                    month = 0\n",
      "                else:\n",
      "                    month += 1\n",
      "\n",
      "        year += 1\n",
      "\n",
      "print sunday_the_first"
     ],
     "language": "python",
     "metadata": {},
     "outputs": [
      {
       "output_type": "stream",
       "stream": "stdout",
       "text": [
        "171\n"
       ]
      }
     ],
     "prompt_number": 27
    },
    {
     "cell_type": "code",
     "collapsed": false,
     "input": [],
     "language": "python",
     "metadata": {},
     "outputs": []
    }
   ],
   "metadata": {}
  }
 ]
}