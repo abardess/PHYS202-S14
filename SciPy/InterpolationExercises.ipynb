{
 "metadata": {
  "name": "",
  "signature": "sha256:bf40a8b27509aaf824dac1954dc3479626a1a207cf9d3a9adb85bb0c070fdbd0"
 },
 "nbformat": 3,
 "nbformat_minor": 0,
 "worksheets": [
  {
   "cells": [
    {
     "cell_type": "heading",
     "level": 1,
     "metadata": {},
     "source": [
      "Interpolation Exercises"
     ]
    },
    {
     "cell_type": "code",
     "collapsed": false,
     "input": [
      "%pylab inline\n",
      "from Electrostatics import *\n",
      "from scipy.interpolate import interp1d "
     ],
     "language": "python",
     "metadata": {},
     "outputs": [
      {
       "output_type": "stream",
       "stream": "stdout",
       "text": [
        "Populating the interactive namespace from numpy and matplotlib\n"
       ]
      }
     ],
     "prompt_number": 35
    },
    {
     "cell_type": "markdown",
     "metadata": {},
     "source": [
      "It is common to test functions where you know the answer they should give. Let's test the dipolePotential() function that we previously saved in Electrostatics.py to see that the function is zero along the bisector between the charges."
     ]
    },
    {
     "cell_type": "code",
     "collapsed": false,
     "input": [
      "#First, set up a grid and evaluate the function:\n",
      "\n",
      "x, y = np.meshgrid(np.arange(-5, 5.01, 0.5), np.arange( -5, 5.01, 0.5))\n",
      "Vdipole = dipolePotential(x, y, 1e-9, 2.)\n",
      "plt.contour(x, y, Vdipole, cmap = cm.coolwarm)\n",
      "plt.show()"
     ],
     "language": "python",
     "metadata": {},
     "outputs": [
      {
       "metadata": {},
       "output_type": "display_data",
       "png": "[encoded data removed]",
       "text": [
        "<matplotlib.figure.Figure at 0x106746e50>"
       ]
      }
     ],
     "prompt_number": 36
    },
    {
     "cell_type": "markdown",
     "metadata": {},
     "source": [
      "(a) Use a boolean mask to locate the positions where x = 0."
     ]
    },
    {
     "cell_type": "code",
     "collapsed": false,
     "input": [
      "ii = [x == 0]\n",
      "\n",
      "plt.plot(x[ii], y[ii])\n",
      "plt.contour(x, y, Vdipole, cmap = cm.coolwarm)\n",
      "plt.show()"
     ],
     "language": "python",
     "metadata": {},
     "outputs": [
      {
       "metadata": {},
       "output_type": "display_data",
       "png": "[encoded data removed]",
       "text": [
        "<matplotlib.figure.Figure at 0x10673b950>"
       ]
      }
     ],
     "prompt_number": 34
    },
    {
     "cell_type": "code",
     "collapsed": false,
     "input": [
      "print Vdipole[ii]"
     ],
     "language": "python",
     "metadata": {},
     "outputs": [
      {
       "output_type": "stream",
       "stream": "stdout",
       "text": [
        "[ 0.  0.  0.  0.  0.  0.  0.  0.  0.  0.  0.  0.  0.  0.  0.  0.  0.  0.\n",
        "  0.  0.  0.]\n"
       ]
      }
     ],
     "prompt_number": 24
    },
    {
     "cell_type": "markdown",
     "metadata": {},
     "source": [
      "Thermistors are electrical devices that measure temperature. They are made out of a material whose resistance changes very predictably with temperature. In the lab we measure the resistance of the thermistor and then compute the temperature from the engineering data that the manufacturer sends with the devices. The table below is data for a set of thermistors used in PHYS 340. The temperature values are in \u2218C and the resistances in mega-Ohms, M\u03a9.\n",
      "\n",
      "\n",
      "(a) Let's turn this look-up table into a continuous function. Write a reusable function Temp(Resistance) that takes any value of Resistance and returns the interpolated temperature. Be sure to include a docstring in your function."
     ]
    },
    {
     "cell_type": "code",
     "collapsed": false,
     "input": [
      "temp = np.arange(10., 39., 1)\n",
      "res = [3.239, 3.118, 3.004, 2.897, 2.795, 2.700, 2.610, 2.526, 2.446, 2.371, 2.300, 2.233, 2.169, 2.110, 2.053, 2.000, 1.950, 1.902, 1.857, 1.815, 1.774, 1.736, 1.700, 1.666, 1.634, 1.603, 1.547, 1.521, 1.496]\n",
      "bres = res[::-1]\n",
      "btemp = temp[::-1]\n",
      "\n"
     ],
     "language": "python",
     "metadata": {},
     "outputs": [],
     "prompt_number": 80
    },
    {
     "cell_type": "code",
     "collapsed": false,
     "input": [
      "def Temp(Resistance):\n",
      "    \"\"\"\n",
      "    Takes the resistance of a thermometer and returns the temperature that creates that resistance.\n",
      "    \"\"\"\n",
      "    interpfunc = interp1d(bres, btemp, kind = 'cubic')\n",
      "    NewTemp = interpfunc(Resistance)\n",
      "    \n",
      "    return NewTemp"
     ],
     "language": "python",
     "metadata": {},
     "outputs": [],
     "prompt_number": 73
    },
    {
     "cell_type": "code",
     "collapsed": false,
     "input": [
      "print Temp(3.239)\n",
      "print Temp(2.95)\n",
      "print Temp(2.4)\n",
      "print Temp(2)\n",
      "print Temp(1.834)\n",
      "print Temp(1.6)\n",
      "print Temp(1.496)"
     ],
     "language": "python",
     "metadata": {},
     "outputs": [
      {
       "output_type": "stream",
       "stream": "stdout",
       "text": [
        "10.0\n",
        "12.4984635877\n",
        "18.6063314063\n",
        "25.0\n",
        "28.5433789513\n",
        "35.0698902348\n",
        "38.0\n"
       ]
      }
     ],
     "prompt_number": 81
    },
    {
     "cell_type": "code",
     "collapsed": false,
     "input": [
      "plt.plot(Temp(bres), bres)\n",
      "plt.show()"
     ],
     "language": "python",
     "metadata": {},
     "outputs": [
      {
       "metadata": {},
       "output_type": "display_data",
       "png": "[encoded data removed]",
       "text": [
        "<matplotlib.figure.Figure at 0x106dd6650>"
       ]
      }
     ],
     "prompt_number": 88
    },
    {
     "cell_type": "code",
     "collapsed": false,
     "input": [],
     "language": "python",
     "metadata": {},
     "outputs": []
    }
   ],
   "metadata": {}
  }
 ]
}