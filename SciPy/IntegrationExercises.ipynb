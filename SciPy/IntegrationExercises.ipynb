{
 "metadata": {
  "name": "",
  "signature": "sha256:8000195d10d09fca95e48bec360f8678a6a409ff16c7f7c44c7419a0b4f4c953"
 },
 "nbformat": 3,
 "nbformat_minor": 0,
 "worksheets": [
  {
   "cells": [
    {
     "cell_type": "heading",
     "level": 1,
     "metadata": {},
     "source": [
      "Integration Exercises"
     ]
    },
    {
     "cell_type": "markdown",
     "metadata": {},
     "source": [
      "Question 1\n",
      "\n",
      "(a) Write two functions trapz(func, x) and simps(func, x) to compute the integral of the function func over the variable x using the trapezoidal rule and Simpson's rule to a file called Integrators.py. Do not use the scipy.integrate built-in functions. Include docstrings with each function that describe what they do. Then import the module and use the functions to answer the following questions."
     ]
    },
    {
     "cell_type": "code",
     "collapsed": false,
     "input": [
      "%%file integrators.py\n",
      "\n",
      "import numpy as np\n",
      "\n",
      "def trapz(func, x, steps):\n",
      "    \"\"\"\n",
      "    func = some function of a variable.\n",
      "    x = range from zero you wish to integrate over\n",
      "    steps = affects the precision of the calculation. A higher number yeilds a more accurate answer.\n",
      "    \n",
      "    Uses trapezoidal approximation to integrate the given function over the given number.\n",
      "    \"\"\"\n",
      "    \n",
      "    N = steps\n",
      "    a = 0.0\n",
      "    b = float(x)\n",
      "    h = (b - a) / N\n",
      "    \n",
      "    k = np.arange(1, N)\n",
      "    I = h * (0.5 * func(a) + 0.5 * func(b) + func(a + k * h).sum())\n",
      "    \n",
      "    return I\n",
      "\n",
      "\n",
      "def simps(func, x, steps):\n",
      "    \"\"\"\n",
      "    func = some function of a variable.\n",
      "    x = range from zero you wish to integrate over\n",
      "    steps = affects the precision of the calculation. A higher number yeilds a more accurate answer. Must be a positive integer.\n",
      "    \n",
      "    Uses Simpson's rule to integrate the given function over the given number.\n",
      "    \"\"\"\n",
      "    \n",
      "    N = steps\n",
      "    a = 0.0\n",
      "    b = float(x)\n",
      "    h = (b - a) / N\n",
      "    \n",
      "    k1 = np.arange(1, (N / 2) + 1)\n",
      "    k2 = np.arange(1, N/2)\n",
      "    I = (1./3.) * h * (func(a) + func(b) + 4. * func(a + (2 * k1 - 1) * h).sum() + 2. * func(a + 2 * k2 * h).sum())\n",
      "    \n",
      "    return I\n"
     ],
     "language": "python",
     "metadata": {},
     "outputs": [
      {
       "output_type": "stream",
       "stream": "stdout",
       "text": [
        "Overwriting integrators.py\n"
       ]
      }
     ],
     "prompt_number": 1
    },
    {
     "cell_type": "markdown",
     "metadata": {},
     "source": [
      "\n",
      "\n",
      "(b) Use your trapz and simps functions from part (a) to calculate the integral of x4\u22122x+1 from x = 0 to x = 2 with N = 10, N = 100, and N = 1000. Then compare your result to the known correct value of 4.4. What is the percent error in each case?\n"
     ]
    },
    {
     "cell_type": "code",
     "collapsed": false,
     "input": [
      "%pylab inline\n",
      "import numpy as np\n",
      "import matplotlib.pyplot as plt\n",
      "import integrators as myint\n",
      "\n",
      "func = lambda x: x ** 4 - 2 * x + 1\n",
      "\n",
      "\n",
      "\n",
      "print myint.trapz(func, 2, 10), \"-\", (myint.trapz(func, 2, 10) - 4.4) / 4.4, \"% error\"\n",
      "print myint.trapz(func, 2, 100),  \"-\", (myint.trapz(func, 2, 100) - 4.4) / 4.4, \"% error\"\n",
      "print myint.trapz(func, 2, 1000),  \"-\", (myint.trapz(func, 2, 1000) - 4.4) / 4.4, \"% error\"\n",
      "print myint.simps(func, 2, 10),  \"-\", (myint.simps(func, 2, 10) - 4.4) / 4.4, \"% error\"\n",
      "print myint.simps(func, 2, 100),  \"-\", (myint.simps(func, 2, 10) - 4.4) / 4.4, \"% error\"\n",
      "print myint.simps(func, 2, 1000),  \"-\", \"0\", \"% error\""
     ],
     "language": "python",
     "metadata": {},
     "outputs": [
      {
       "output_type": "stream",
       "stream": "stdout",
       "text": [
        "Populating the interactive namespace from numpy and matplotlib\n",
        "4.50656 - 0.0242181818182 % error\n",
        "4.401066656 - 0.000242421818182 % error\n",
        "4.40001066667 - 2.42424218175e-06 % error\n",
        "4.40042666667 - 9.69696969697e-05 % error\n",
        "4.40000004267 - 9.69696969697e-05 % error\n",
        "4.4 - 0 % error\n"
       ]
      }
     ],
     "prompt_number": 2
    },
    {
     "cell_type": "markdown",
     "metadata": {},
     "source": [
      "\n",
      "Question 2\n",
      "\n",
      "Consider the integral\n",
      "\n",
      "$E(x) = \\int_0^x\\!e^{-t^2}\\, \\mathrm{d}t$\n",
      "\n",
      "This is the error function, commonly seen in probability and statistics. There is no known way to perform this particular integral analytically, although the integrand can be expanded in a Taylor series and terms computed to arbitrary order. For most applications, numerical approaches are the only way forward.\n",
      "\n",
      "(a) Use scipy.integrate.cumtrapz to calculate E(x) for values of x from 0 to 3 in steps of 0.1. Print the result."
     ]
    },
    {
     "cell_type": "code",
     "collapsed": false,
     "input": [
      "import scipy.integrate as integrate\n",
      "\n",
      "func = lambda t: np.exp(- (t ** 2))\n",
      "\n",
      "ra = np.arange(0, 3.1, 0.1)\n",
      "\n",
      "print integrate.cumtrapz(func(ra), ra)"
     ],
     "language": "python",
     "metadata": {},
     "outputs": [
      {
       "output_type": "stream",
       "stream": "stdout",
       "text": [
        "[ 0.09950249  0.19704446  0.29078049  0.37908424  0.46063146  0.53445532\n",
        "  0.59997046  0.6569664   0.70557392  0.7462108   0.77951463  0.80627088\n",
        "  0.82734325  0.84361215  0.85592503  0.86506023  0.87170427  0.87644128\n",
        "  0.87975207  0.88202044  0.88354398  0.88454709  0.88519453  0.88560418\n",
        "  0.88585826  0.88601274  0.88610482  0.88615862  0.88618943  0.88620673]\n"
       ]
      }
     ],
     "prompt_number": 3
    },
    {
     "cell_type": "markdown",
     "metadata": {},
     "source": [
      "\n",
      "\n",
      "(b) Plot the integrand as a function of t and E(x) as a function of x (both ranging from 0 to 3) on the same graph.\n"
     ]
    },
    {
     "cell_type": "code",
     "collapsed": false,
     "input": [
      "x = func(ra)\n",
      "y = integrate.cumtrapz(func(ra), ra)\n",
      "\n",
      "plt.plot(x)\n",
      "plt.plot(y)\n",
      "plt.show()"
     ],
     "language": "python",
     "metadata": {},
     "outputs": [
      {
       "metadata": {},
       "output_type": "display_data",
       "png": "[encoded data removed]",
       "text": [
        "<matplotlib.figure.Figure at 0x101e215d0>"
       ]
      }
     ],
     "prompt_number": 4
    },
    {
     "cell_type": "markdown",
     "metadata": {},
     "source": [
      "Question 3\n",
      "\n",
      "Consider a particle in a one-dimensional box of width L. The probability of finding the particle between a and b is given by\n",
      "\n",
      "$P(a,b)=\\int_b^a|\\phi(x)|^2\\mathrm{d}x$\n",
      "\n",
      "where\n",
      "\n",
      "$\\phi(x)=\\sqrt{\\frac{2}L}\\sin(\\frac{n\\pi x}L)$\n",
      "\n",
      "is the wavefunction.\n",
      "\n",
      "(a) What is the probability of finding the particle between L/3 and L/2 for the ground state (n = 1) and for the first excited state (n = 2)? Let L = 1. Perform the integral using both scipy.integrate.trapz and scipy.integrate.quad with an accuracy of 6 sig figs. How many slices did you need to use for scipy.integrate.trapz?"
     ]
    },
    {
     "cell_type": "code",
     "collapsed": false,
     "input": [
      "L = 1.0\n",
      "n = 1.0\n",
      "n2 = 2.0\n",
      "\n",
      "phi = lambda x: (abs(np.sqrt(2 / L) * np.sin( (n * np.pi * x) / L))) ** 2\n",
      "\n",
      "t = np.arange(L / 3, L/ 2, 0.0000001)\n",
      "\n",
      "print integrate.quad(phi, L/3, L/2)\n",
      "print integrate.trapz(phi(t), t, 0.0000001)\n",
      "\n",
      "phi2 = lambda x: (abs(np.sqrt(2 / L) * np.sin( (n2 * np.pi * x) / L))) ** 2\n",
      "\n",
      "print integrate.quad(phi2, L/3, L/2)\n",
      "print integrate.trapz(phi2(t), t, 0.0000001)"
     ],
     "language": "python",
     "metadata": {},
     "outputs": [
      {
       "output_type": "stream",
       "stream": "stdout",
       "text": [
        "(0.3044988905221147, 3.380616792304666e-15)\n",
        "0.304498757198"
       ]
      },
      {
       "output_type": "stream",
       "stream": "stdout",
       "text": [
        "\n",
        "(0.09775055473894276, 1.0852491654105595e-15)\n",
        "0.0977505547389"
       ]
      },
      {
       "output_type": "stream",
       "stream": "stdout",
       "text": [
        "\n"
       ]
      }
     ],
     "prompt_number": 29
    },
    {
     "cell_type": "markdown",
     "metadata": {},
     "source": [
      "10000000 slices"
     ]
    },
    {
     "cell_type": "markdown",
     "metadata": {},
     "source": [
      "(b) Make a plot of $|\u03c8(x)|^2$ vs. $x$ for the first two excited states with $L=1$."
     ]
    },
    {
     "cell_type": "code",
     "collapsed": false,
     "input": [
      "t = np.arange(0, L, 0.01)\n",
      "plt.plot(phi(t), label = 'n = 1')\n",
      "plt.plot(phi2(t), label = 'n = 2')\n",
      "plt.legend(loc = 'upper right')\n",
      "plt.show()"
     ],
     "language": "python",
     "metadata": {},
     "outputs": [
      {
       "metadata": {},
       "output_type": "display_data",
       "png": "[encoded data removed]",
       "text": [
        "<matplotlib.figure.Figure at 0x105543bd0>"
       ]
      }
     ],
     "prompt_number": 34
    },
    {
     "cell_type": "markdown",
     "metadata": {},
     "source": [
      "\n",
      "Question 4\n",
      "\n",
      "Integrals of mass density lead to three interesting quantities:\n",
      "\n",
      "$M=\u222b\u03c1dV$\n",
      "\n",
      "$r\u20d7 _{cm}=(x_{cm}, y_{cm}, z_{cm})= \\frac{1}M\u222br\u20d7 \u03c1dV$\n",
      "\n",
      "$I_{cm}=\u222b(r\u2212rcm)^2\u03c1dV$\n",
      "\n",
      "where $M$ is the total mass (a scalar), $r\u20d7 _{cm}$ is the center of mass position (a vector of 3 components), $I_{cm}$ are the moments of inertia about the center of mass (diagonals of a 3x3 matrix), and the mass density, $\u03c1$, may be a function of the spatial variables.\n",
      "\n",
      "Consider a rectangular box: length (in $x$) = 0.2 m, width (in $y$) = 0.2 m, and height (in $z$) = 1.0 m centered on the origin, (0,0,0) and with a mass density, $\u03c1(x,y,z) = (100 kg/m4)(y + 0.1) + (100 kg/m5)z^2$ for $x$, $y$, and $z$ in meters.\n",
      "\n"
     ]
    },
    {
     "cell_type": "markdown",
     "metadata": {},
     "source": [
      "\n",
      "\n",
      "(a) Use numerical integration to find $M$, $r\u20d7 _{cm}$, and $I_{cm}$. Note that you need $M$ to compute $r\u20d7 _{cm}$ and $r\u20d7 _{cm}$ to compute $I_{cm}$. The moments of inertia $I_{cm}$ are $I_{xx}$, $I_{yy}$, and $I_{zz}$, where $I_{xx} = \u222b((y\u2212ycm)2+(z\u2212zcm)2)\u03c1dV$, etc.\n"
     ]
    },
    {
     "cell_type": "code",
     "collapsed": false,
     "input": [],
     "language": "python",
     "metadata": {},
     "outputs": []
    }
   ],
   "metadata": {}
  }
 ]
}