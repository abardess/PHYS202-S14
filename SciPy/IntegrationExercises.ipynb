{
 "metadata": {
  "name": "",
  "signature": "sha256:cd8bfdb9cb4e10df0f7ed9a3e660a4cc021d770a87e0a0c80d5b2855e1f5b21a"
 },
 "nbformat": 3,
 "nbformat_minor": 0,
 "worksheets": [
  {
   "cells": [
    {
     "cell_type": "heading",
     "level": 1,
     "metadata": {},
     "source": [
      "Integration Exercises"
     ]
    },
    {
     "cell_type": "markdown",
     "metadata": {},
     "source": [
      "Question 1\n",
      "\n",
      "(a) Write two functions trapz(func, x) and simps(func, x) to compute the integral of the function func over the variable x using the trapezoidal rule and Simpson's rule to a file called Integrators.py. Do not use the scipy.integrate built-in functions. Include docstrings with each function that describe what they do. Then import the module and use the functions to answer the following questions."
     ]
    },
    {
     "cell_type": "code",
     "collapsed": false,
     "input": [
      "%%file integrators.py\n",
      "\n",
      "import numpy as np\n",
      "\n",
      "def trapz(func, x, steps):\n",
      "    \"\"\"\n",
      "    func = some function of a variable.\n",
      "    x = range from zero you wish to integrate over\n",
      "    steps = affects the precision of the calculation. A higher number yeilds a more accurate answer.\n",
      "    \n",
      "    Uses trapezoidal approximation to integrate the given function over the given number.\n",
      "    \"\"\"\n",
      "    \n",
      "    N = steps\n",
      "    a = 0.0\n",
      "    b = float(x)\n",
      "    h = (b - a) / N\n",
      "    \n",
      "    k = np.arange(1, N)\n",
      "    I = h * (0.5 * func(a) + 0.5 * func(b) + func(a + k * h).sum())\n",
      "    \n",
      "    return I\n",
      "\n",
      "\n",
      "def simps(func, x, steps):\n",
      "    \"\"\"\n",
      "    func = some function of a variable.\n",
      "    x = range from zero you wish to integrate over\n",
      "    steps = affects the precision of the calculation. A higher number yeilds a more accurate answer. Must be a positive integer.\n",
      "    \n",
      "    Uses Simpson's rule to integrate the given function over the given number.\n",
      "    \"\"\"\n",
      "    \n",
      "    N = steps\n",
      "    a = 0.0\n",
      "    b = float(x)\n",
      "    h = (b - a) / N\n",
      "    \n",
      "    k1 = np.arange(1, (N / 2) + 1)\n",
      "    k2 = np.arange(1, N/2)\n",
      "    I = (1./3.) * h * (func(a) + func(b) + 4. * func(a + (2 * k1 - 1) * h).sum() + 2. * func(a + 2 * k2 * h).sum())\n",
      "    \n",
      "    return I\n"
     ],
     "language": "python",
     "metadata": {},
     "outputs": [
      {
       "output_type": "stream",
       "stream": "stdout",
       "text": [
        "Overwriting integrators.py\n"
       ]
      }
     ],
     "prompt_number": 1
    },
    {
     "cell_type": "markdown",
     "metadata": {},
     "source": [
      "\n",
      "\n",
      "(b) Use your trapz and simps functions from part (a) to calculate the integral of x4\u22122x+1 from x = 0 to x = 2 with N = 10, N = 100, and N = 1000. Then compare your result to the known correct value of 4.4. What is the percent error in each case?\n"
     ]
    },
    {
     "cell_type": "code",
     "collapsed": false,
     "input": [
      "%pylab inline\n",
      "import numpy as np\n",
      "import matplotlib.pyplot as plt\n",
      "import integrators as myint\n",
      "\n",
      "func = lambda x: x ** 4 - 2 * x + 1\n",
      "\n",
      "\n",
      "\n",
      "print myint.trapz(func, 2, 10), \"-\", (myint.trapz(func, 2, 10) - 4.4) / 4.4, \"% error\"\n",
      "print myint.trapz(func, 2, 100),  \"-\", (myint.trapz(func, 2, 100) - 4.4) / 4.4, \"% error\"\n",
      "print myint.trapz(func, 2, 1000),  \"-\", (myint.trapz(func, 2, 1000) - 4.4) / 4.4, \"% error\"\n",
      "print myint.simps(func, 2, 10),  \"-\", (myint.simps(func, 2, 10) - 4.4) / 4.4, \"% error\"\n",
      "print myint.simps(func, 2, 100),  \"-\", (myint.simps(func, 2, 10) - 4.4) / 4.4, \"% error\"\n",
      "print myint.simps(func, 2, 1000),  \"-\", \"0\", \"% error\""
     ],
     "language": "python",
     "metadata": {},
     "outputs": [
      {
       "output_type": "stream",
       "stream": "stdout",
       "text": [
        "Populating the interactive namespace from numpy and matplotlib\n",
        "4.50656 - 0.0242181818182 % error\n",
        "4.401066656 - 0.000242421818182 % error\n",
        "4.40001066667 - 2.42424218175e-06 % error\n",
        "4.40042666667 - 9.69696969697e-05 % error\n",
        "4.40000004267 - 9.69696969697e-05 % error\n",
        "4.4 - 0 % error\n"
       ]
      }
     ],
     "prompt_number": 2
    },
    {
     "cell_type": "markdown",
     "metadata": {},
     "source": [
      "\n",
      "Question 2\n",
      "\n",
      "Consider the integral\n",
      "\n",
      "$E(x) = \\int_0^x\\!e^{-t^2}\\, \\mathrm{d}t$\n",
      "\n",
      "This is the error function, commonly seen in probability and statistics. There is no known way to perform this particular integral analytically, although the integrand can be expanded in a Taylor series and terms computed to arbitrary order. For most applications, numerical approaches are the only way forward.\n",
      "\n",
      "(a) Use scipy.integrate.cumtrapz to calculate E(x) for values of x from 0 to 3 in steps of 0.1. Print the result."
     ]
    },
    {
     "cell_type": "code",
     "collapsed": false,
     "input": [
      "import scipy.integrate as integrate\n",
      "\n",
      "func = lambda t: np.exp(- (t ** 2))\n",
      "\n",
      "ra = np.arange(0, 3.1, 0.1)\n",
      "\n",
      "print integrate.cumtrapz(func(ra), ra)"
     ],
     "language": "python",
     "metadata": {},
     "outputs": [
      {
       "output_type": "stream",
       "stream": "stdout",
       "text": [
        "[ 0.09950249  0.19704446  0.29078049  0.37908424  0.46063146  0.53445532\n",
        "  0.59997046  0.6569664   0.70557392  0.7462108   0.77951463  0.80627088\n",
        "  0.82734325  0.84361215  0.85592503  0.86506023  0.87170427  0.87644128\n",
        "  0.87975207  0.88202044  0.88354398  0.88454709  0.88519453  0.88560418\n",
        "  0.88585826  0.88601274  0.88610482  0.88615862  0.88618943  0.88620673]\n"
       ]
      }
     ],
     "prompt_number": 3
    },
    {
     "cell_type": "markdown",
     "metadata": {},
     "source": [
      "\n",
      "\n",
      "(b) Plot the integrand as a function of t and E(x) as a function of x (both ranging from 0 to 3) on the same graph.\n"
     ]
    },
    {
     "cell_type": "code",
     "collapsed": false,
     "input": [
      "x = func(ra)\n",
      "y = integrate.cumtrapz(func(ra), ra)\n",
      "\n",
      "plt.plot(x)\n",
      "plt.plot(y)\n",
      "plt.show()"
     ],
     "language": "python",
     "metadata": {},
     "outputs": [
      {
       "metadata": {},
       "output_type": "display_data",
       "png": "[encoded data removed]",
       "text": [
        "<matplotlib.figure.Figure at 0x101e33c50>"
       ]
      }
     ],
     "prompt_number": 4
    },
    {
     "cell_type": "markdown",
     "metadata": {},
     "source": [
      "Question 3\n",
      "\n",
      "Consider a particle in a one-dimensional box of width L. The probability of finding the particle between a and b is given by\n",
      "\n",
      "$P(a,b)=\\int_b^a|\\phi(x)|^2\\mathrm{d}x$\n",
      "\n",
      "where\n",
      "\n",
      "$\\phi(x)=\\sqrt{\\frac{2}L}\\sin(\\frac{n\\pi x}L)$\n",
      "\n",
      "is the wavefunction.\n",
      "\n",
      "(a) What is the probability of finding the particle between L/3 and L/2 for the ground state (n = 1) and for the first excited state (n = 2)? Let L = 1. Perform the integral using both scipy.integrate.trapz and scipy.integrate.quad with an accuracy of 6 sig figs. How many slices did you need to use for scipy.integrate.trapz?"
     ]
    },
    {
     "cell_type": "code",
     "collapsed": false,
     "input": [
      "L = 1.0\n",
      "n1 = 1.0\n",
      "n2 = 2.0\n",
      "\n",
      "\n",
      "phi = lambda x: (abs(np.sqrt(2 / L) * np.sin( (n * np.pi * x) / L))) ** 2"
     ],
     "language": "python",
     "metadata": {},
     "outputs": [],
     "prompt_number": 37
    },
    {
     "cell_type": "code",
     "collapsed": false,
     "input": [],
     "language": "python",
     "metadata": {},
     "outputs": []
    }
   ],
   "metadata": {}
  }
 ]
}