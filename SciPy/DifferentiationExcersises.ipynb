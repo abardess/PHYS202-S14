{
 "metadata": {
  "name": "",
  "signature": "sha256:845ccd4aa70b8693e304da51f08ef188a2ee0db36c1b5ee9c3c433c9b79036f7"
 },
 "nbformat": 3,
 "nbformat_minor": 0,
 "worksheets": [
  {
   "cells": [
    {
     "cell_type": "heading",
     "level": 1,
     "metadata": {},
     "source": [
      "Differention Excersises"
     ]
    },
    {
     "cell_type": "markdown",
     "metadata": {},
     "source": [
      "\n",
      "Question 1\n",
      "\n",
      "Let\u2019s explore the accuracy of numerical differentiation.\n",
      "\n",
      "(a) Write two functions called twoPtForwardDiff(x,y) and twoPtCenteredDiff(x,y) that take as arguments arrays of values x and y(x) and return the derivatives of y with respect to x. Make sure that the arrays returned by the function have the same shape as the input arrays."
     ]
    },
    {
     "cell_type": "code",
     "collapsed": false,
     "input": [
      "%pylab inline\n",
      "import numpy as np\n",
      "import matplotlib.pyplot as plt"
     ],
     "language": "python",
     "metadata": {},
     "outputs": [
      {
       "output_type": "stream",
       "stream": "stdout",
       "text": [
        "Populating the interactive namespace from numpy and matplotlib\n"
       ]
      }
     ],
     "prompt_number": 1
    },
    {
     "cell_type": "code",
     "collapsed": false,
     "input": [
      "def twoPtForwardDiff(x, y):\n",
      "    \"\"\"\n",
      "    Takes an array of values x and y and returns the derivative of y with respect to x.\n",
      "    It does this by taking the average value of y between two points over the average\n",
      "    value of x between two points for all points. It does this in a forward direction\n",
      "    for all points but the last one, which has no point to go forward to, so that one\n",
      "    is calculated seperately.\n",
      "    \"\"\"\n",
      "    \n",
      "    dydx = np.zeros(y.shape, float)            #makes dydx the same dimensions as the given y arrray\n",
      "    dydx[0:-1] = np.diff(y)/np.diff(x)         #calculates the derivatives of all points but the last one\n",
      "    dydx[-1] = (y[-1] - y[-2])/(x[-1] - x[-2]) #calcualtes the derivative of the last point\n",
      "    \n",
      "    return dydx\n",
      "    \n",
      "def twoPtCenteredDiff(x, y):\n",
      "    \"\"\"\n",
      "    Takes an array of values x and y and returns the derivatives of y with respect to x.\n",
      "    It does this by taking the difference between two points above and below whichever point\n",
      "    it is looking at; except for the first and last points, which have either nothing above\n",
      "    or nothing below them. It calculates the first and last point induvidually.\n",
      "    \"\"\"\n",
      "    \n",
      "    dydx = np.zeros(y.shape, float)                       #makes dydx the same dimensions as the given y arrray\n",
      "    dydx[1:-1] = (y[2:] - y[:-2])/(x[2:] - x[:-2])        #calculates the derivatives of all points but the first and last\n",
      "    dydx[0] = (y[1] - y[0])/(x[1] - x[0])                 #calculates the derivative of the first point\n",
      "    dydx[-1] = (y[-1] - y[-2])/(x[-1] - x[-2])            #calculates the derivative of the last point\n",
      "    \n",
      "    return dydx"
     ],
     "language": "python",
     "metadata": {},
     "outputs": [],
     "prompt_number": 2
    },
    {
     "cell_type": "markdown",
     "metadata": {},
     "source": [
      "(b) Use your functions to take the derivative of the function $y=8x^{4}+3x$ over the range 0 < x < 10, with steps of 0.1. How do you know they work correctly? (Hint: compare to the analytical result).\n"
     ]
    },
    {
     "cell_type": "code",
     "collapsed": false,
     "input": [
      "x = np.arange(0., 10., 0.1)\n",
      "y = (8 * (x ** 4)) + (3 * x)\n",
      "\n",
      "Adydx = (32 * (x ** 3)) + (3)\n",
      "\n",
      "f = twoPtForwardDiff(x, y)\n",
      "c = twoPtCenteredDiff(x, y)\n",
      "print f\n",
      "print c\n",
      "print Adydx"
     ],
     "language": "python",
     "metadata": {},
     "outputs": [
      {
       "output_type": "stream",
       "stream": "stdout",
       "text": [
        "[  3.00800000e+00   3.12000000e+00   3.52000000e+00   4.40000000e+00\n",
        "   5.95200000e+00   8.36800000e+00   1.18400000e+01   1.65600000e+01\n",
        "   2.27200000e+01   3.05120000e+01   4.01280000e+01   5.17600000e+01\n",
        "   6.56000000e+01   8.18400000e+01   1.00672000e+02   1.22288000e+02\n",
        "   1.46880000e+02   1.74640000e+02   2.05760000e+02   2.40432000e+02\n",
        "   2.78848000e+02   3.21200000e+02   3.67680000e+02   4.18480000e+02\n",
        "   4.73792000e+02   5.33808000e+02   5.98720000e+02   6.68720000e+02\n",
        "   7.44000000e+02   8.24752000e+02   9.11168000e+02   1.00344000e+03\n",
        "   1.10176000e+03   1.20632000e+03   1.31731200e+03   1.43492800e+03\n",
        "   1.55936000e+03   1.69080000e+03   1.82944000e+03   1.97547200e+03\n",
        "   2.12908800e+03   2.29048000e+03   2.45984000e+03   2.63736000e+03\n",
        "   2.82323200e+03   3.01764800e+03   3.22080000e+03   3.43288000e+03\n",
        "   3.65408000e+03   3.88459200e+03   4.12460800e+03   4.37432000e+03\n",
        "   4.63392000e+03   4.90360000e+03   5.18355200e+03   5.47396800e+03\n",
        "   5.77504000e+03   6.08696000e+03   6.40992000e+03   6.74411200e+03\n",
        "   7.08972800e+03   7.44696000e+03   7.81600000e+03   8.19704000e+03\n",
        "   8.59027200e+03   8.99588800e+03   9.41408000e+03   9.84504000e+03\n",
        "   1.02889600e+04   1.07460320e+04   1.12164480e+04   1.17004000e+04\n",
        "   1.21980800e+04   1.27096800e+04   1.32353920e+04   1.37754080e+04\n",
        "   1.43299200e+04   1.48991200e+04   1.54832000e+04   1.60823520e+04\n",
        "   1.66967680e+04   1.73266400e+04   1.79721600e+04   1.86335200e+04\n",
        "   1.93109120e+04   2.00045280e+04   2.07145600e+04   2.14412000e+04\n",
        "   2.21846400e+04   2.29450720e+04   2.37226880e+04   2.45176800e+04\n",
        "   2.53302400e+04   2.61605600e+04   2.70088320e+04   2.78752480e+04\n",
        "   2.87600000e+04   2.96632800e+04   3.05852800e+04   3.05852800e+04]\n",
        "[  3.00800000e+00   3.06400000e+00   3.32000000e+00   3.96000000e+00\n",
        "   5.17600000e+00   7.16000000e+00   1.01040000e+01   1.42000000e+01\n",
        "   1.96400000e+01   2.66160000e+01   3.53200000e+01   4.59440000e+01\n",
        "   5.86800000e+01   7.37200000e+01   9.12560000e+01   1.11480000e+02\n",
        "   1.34584000e+02   1.60760000e+02   1.90200000e+02   2.23096000e+02\n",
        "   2.59640000e+02   3.00024000e+02   3.44440000e+02   3.93080000e+02\n",
        "   4.46136000e+02   5.03800000e+02   5.66264000e+02   6.33720000e+02\n",
        "   7.06360000e+02   7.84376000e+02   8.67960000e+02   9.57304000e+02\n",
        "   1.05260000e+03   1.15404000e+03   1.26181600e+03   1.37612000e+03\n",
        "   1.49714400e+03   1.62508000e+03   1.76012000e+03   1.90245600e+03\n",
        "   2.05228000e+03   2.20978400e+03   2.37516000e+03   2.54860000e+03\n",
        "   2.73029600e+03   2.92044000e+03   3.11922400e+03   3.32684000e+03\n",
        "   3.54348000e+03   3.76933600e+03   4.00460000e+03   4.24946400e+03\n",
        "   4.50412000e+03   4.76876000e+03   5.04357600e+03   5.32876000e+03\n",
        "   5.62450400e+03   5.93100000e+03   6.24844000e+03   6.57701600e+03\n",
        "   6.91692000e+03   7.26834400e+03   7.63148000e+03   8.00652000e+03\n",
        "   8.39365600e+03   8.79308000e+03   9.20498400e+03   9.62956000e+03\n",
        "   1.00670000e+04   1.05174960e+04   1.09812400e+04   1.14584240e+04\n",
        "   1.19492400e+04   1.24538800e+04   1.29725360e+04   1.35054000e+04\n",
        "   1.40526640e+04   1.46145200e+04   1.51911600e+04   1.57827760e+04\n",
        "   1.63895600e+04   1.70117040e+04   1.76494000e+04   1.83028400e+04\n",
        "   1.89722160e+04   1.96577200e+04   2.03595440e+04   2.10778800e+04\n",
        "   2.18129200e+04   2.25648560e+04   2.33338800e+04   2.41201840e+04\n",
        "   2.49239600e+04   2.57454000e+04   2.65846960e+04   2.74420400e+04\n",
        "   2.83176240e+04   2.92116400e+04   3.01242800e+04   3.05852800e+04]\n",
        "[  3.00000000e+00   3.03200000e+00   3.25600000e+00   3.86400000e+00\n",
        "   5.04800000e+00   7.00000000e+00   9.91200000e+00   1.39760000e+01\n",
        "   1.93840000e+01   2.63280000e+01   3.50000000e+01   4.55920000e+01\n",
        "   5.82960000e+01   7.33040000e+01   9.08080000e+01   1.11000000e+02\n",
        "   1.34072000e+02   1.60216000e+02   1.89624000e+02   2.22488000e+02\n",
        "   2.59000000e+02   2.99352000e+02   3.43736000e+02   3.92344000e+02\n",
        "   4.45368000e+02   5.03000000e+02   5.65432000e+02   6.32856000e+02\n",
        "   7.05464000e+02   7.83448000e+02   8.67000000e+02   9.56312000e+02\n",
        "   1.05157600e+03   1.15298400e+03   1.26072800e+03   1.37500000e+03\n",
        "   1.49599200e+03   1.62389600e+03   1.75890400e+03   1.90120800e+03\n",
        "   2.05100000e+03   2.20847200e+03   2.37381600e+03   2.54722400e+03\n",
        "   2.72888800e+03   2.91900000e+03   3.11775200e+03   3.32533600e+03\n",
        "   3.54194400e+03   3.76776800e+03   4.00300000e+03   4.24783200e+03\n",
        "   4.50245600e+03   4.76706400e+03   5.04184800e+03   5.32700000e+03\n",
        "   5.62271200e+03   5.92917600e+03   6.24658400e+03   6.57512800e+03\n",
        "   6.91500000e+03   7.26639200e+03   7.62949600e+03   8.00450400e+03\n",
        "   8.39160800e+03   8.79100000e+03   9.20287200e+03   9.62741600e+03\n",
        "   1.00648240e+04   1.05152880e+04   1.09790000e+04   1.14561520e+04\n",
        "   1.19469360e+04   1.24515440e+04   1.29701680e+04   1.35030000e+04\n",
        "   1.40502320e+04   1.46120560e+04   1.51886640e+04   1.57802480e+04\n",
        "   1.63870000e+04   1.70091120e+04   1.76467760e+04   1.83001840e+04\n",
        "   1.89695280e+04   1.96550000e+04   2.03567920e+04   2.10750960e+04\n",
        "   2.18101040e+04   2.25620080e+04   2.33310000e+04   2.41172720e+04\n",
        "   2.49210160e+04   2.57424240e+04   2.65816880e+04   2.74390000e+04\n",
        "   2.83145520e+04   2.92085360e+04   3.01211440e+04   3.10525680e+04]\n"
       ]
      }
     ],
     "prompt_number": 28
    },
    {
     "cell_type": "markdown",
     "metadata": {},
     "source": [
      "(c) What is the accuracy of the results if you use a spacing of 0.01? (Plot the relative error)"
     ]
    },
    {
     "cell_type": "code",
     "collapsed": false,
     "input": [
      "def percentdiff(x, y):\n",
      "    return 100 * abs(x[1:] - y[1:])/x[1:]\n",
      "\n",
      "h = percentdiff(Adydx, f)\n",
      "j = percentdiff(Adydx, c)\n",
      "\n",
      "plt.semilogy(x[1:], h, c = 'b', label = \"Forward Difference\")\n",
      "plt.semilogy(x[1:], j, c = 'r', label = \"Centered Difference\")\n",
      "plt.ylabel('% Difference with Analytical Derivative')\n",
      "plt.xlabel('x Value of Function')\n",
      "plt.legend(loc = \"upper right\")\n",
      "plt.show()"
     ],
     "language": "python",
     "metadata": {},
     "outputs": [
      {
       "metadata": {},
       "output_type": "display_data",
       "png": "[encoded data removed]",
       "text": [
        "<matplotlib.figure.Figure at 0x106478ad0>"
       ]
      }
     ],
     "prompt_number": 52
    },
    {
     "cell_type": "markdown",
     "metadata": {},
     "source": [
      "d) For what minimum spacing is the 2pt-centered difference derivative accurate to 5 significant figures over its full range (excluding the last point)?"
     ]
    },
    {
     "cell_type": "code",
     "collapsed": false,
     "input": [
      "def findspacing(desired_percent_error, spacing, incriment):\n",
      "    x = np.arange(0., 10., spacing)\n",
      "    y = (8 * (x ** 4)) + (3 * x)\n",
      "    Adydx = (32 * (x ** 3)) + (3)\n",
      "    percent_error = percentdiff(Adydx, twoPtCenteredDiff(x, y))\n",
      "    \n",
      "    while percent_error.any > desired_percent_error and spacing - incriment > 0:\n",
      "        spacing = spacing - incriment\n",
      "        x = np.arange(0., 10., spacing)\n",
      "        y = (8 * (x ** 4)) + (3 * x)\n",
      "        Adydx = (32 * (x ** 3)) + (3)\n",
      "        percent_error = percentdiff(Adydx, twoPtCenteredDiff(x, y))\n",
      "    else:\n",
      "        incriment = incriment/10\n",
      "        while percent_error.any > desired_percent_error:\n",
      "            return findspacing(desired_percent_error, spacing, incriment)\n",
      "        \n",
      "    return spacing"
     ],
     "language": "python",
     "metadata": {},
     "outputs": [],
     "prompt_number": 77
    },
    {
     "cell_type": "code",
     "collapsed": false,
     "input": [
      "100*abs((1.00000 - 1.00001)/1.00001)"
     ],
     "language": "python",
     "metadata": {},
     "outputs": [
      {
       "metadata": {},
       "output_type": "pyout",
       "prompt_number": 78,
       "text": [
        "0.00099999000010655"
       ]
      }
     ],
     "prompt_number": 78
    },
    {
     "cell_type": "code",
     "collapsed": false,
     "input": [
      "findspacing(0.00099999000010655, 0.1, 0.01)"
     ],
     "language": "python",
     "metadata": {},
     "outputs": [
      {
       "ename": "MemoryError",
       "evalue": "",
       "output_type": "pyerr",
       "traceback": [
        "\u001b[0;31m---------------------------------------------------------------------------\u001b[0m\n\u001b[0;31mMemoryError\u001b[0m                               Traceback (most recent call last)",
        "\u001b[0;32m<ipython-input-89-d1cb23d8608a>\u001b[0m in \u001b[0;36m<module>\u001b[0;34m()\u001b[0m\n\u001b[0;32m----> 1\u001b[0;31m \u001b[0mfindspacing\u001b[0m\u001b[0;34m(\u001b[0m\u001b[0;36m0.00099999000010655\u001b[0m\u001b[0;34m,\u001b[0m \u001b[0;36m0.1\u001b[0m\u001b[0;34m,\u001b[0m \u001b[0;36m0.01\u001b[0m\u001b[0;34m)\u001b[0m\u001b[0;34m\u001b[0m\u001b[0m\n\u001b[0m",
        "\u001b[0;32m<ipython-input-77-3002079d8c16>\u001b[0m in \u001b[0;36mfindspacing\u001b[0;34m(desired_percent_error, spacing, incriment)\u001b[0m\n\u001b[1;32m      7\u001b[0m     \u001b[0;32mwhile\u001b[0m \u001b[0mpercent_error\u001b[0m\u001b[0;34m.\u001b[0m\u001b[0many\u001b[0m \u001b[0;34m>\u001b[0m \u001b[0mdesired_percent_error\u001b[0m \u001b[0;32mand\u001b[0m \u001b[0mspacing\u001b[0m \u001b[0;34m-\u001b[0m \u001b[0mincriment\u001b[0m \u001b[0;34m>\u001b[0m \u001b[0;36m0\u001b[0m\u001b[0;34m:\u001b[0m\u001b[0;34m\u001b[0m\u001b[0m\n\u001b[1;32m      8\u001b[0m         \u001b[0mspacing\u001b[0m \u001b[0;34m=\u001b[0m \u001b[0mspacing\u001b[0m \u001b[0;34m-\u001b[0m \u001b[0mincriment\u001b[0m\u001b[0;34m\u001b[0m\u001b[0m\n\u001b[0;32m----> 9\u001b[0;31m         \u001b[0mx\u001b[0m \u001b[0;34m=\u001b[0m \u001b[0mnp\u001b[0m\u001b[0;34m.\u001b[0m\u001b[0marange\u001b[0m\u001b[0;34m(\u001b[0m\u001b[0;36m0.\u001b[0m\u001b[0;34m,\u001b[0m \u001b[0;36m10.\u001b[0m\u001b[0;34m,\u001b[0m \u001b[0mspacing\u001b[0m\u001b[0;34m)\u001b[0m\u001b[0;34m\u001b[0m\u001b[0m\n\u001b[0m\u001b[1;32m     10\u001b[0m         \u001b[0my\u001b[0m \u001b[0;34m=\u001b[0m \u001b[0;34m(\u001b[0m\u001b[0;36m8\u001b[0m \u001b[0;34m*\u001b[0m \u001b[0;34m(\u001b[0m\u001b[0mx\u001b[0m \u001b[0;34m**\u001b[0m \u001b[0;36m4\u001b[0m\u001b[0;34m)\u001b[0m\u001b[0;34m)\u001b[0m \u001b[0;34m+\u001b[0m \u001b[0;34m(\u001b[0m\u001b[0;36m3\u001b[0m \u001b[0;34m*\u001b[0m \u001b[0mx\u001b[0m\u001b[0;34m)\u001b[0m\u001b[0;34m\u001b[0m\u001b[0m\n\u001b[1;32m     11\u001b[0m         \u001b[0mAdydx\u001b[0m \u001b[0;34m=\u001b[0m \u001b[0;34m(\u001b[0m\u001b[0;36m32\u001b[0m \u001b[0;34m*\u001b[0m \u001b[0;34m(\u001b[0m\u001b[0mx\u001b[0m \u001b[0;34m**\u001b[0m \u001b[0;36m3\u001b[0m\u001b[0;34m)\u001b[0m\u001b[0;34m)\u001b[0m \u001b[0;34m+\u001b[0m \u001b[0;34m(\u001b[0m\u001b[0;36m3\u001b[0m\u001b[0;34m)\u001b[0m\u001b[0;34m\u001b[0m\u001b[0m\n",
        "\u001b[0;31mMemoryError\u001b[0m: "
       ]
      }
     ],
     "prompt_number": 89
    },
    {
     "cell_type": "markdown",
     "metadata": {},
     "source": [
      "\n",
      "Question 2\n",
      "\n",
      "Numerical differentiation plays an important role in fast electronic signal processing in many experimental contexts, such as the data acquisition systems of high energy particle and nuclear physics. The data collected is often a series of fast time samples of energy deposited in a detector by a fast-moving charged particle. The sheer volume of data can be enormous, so some signal processing within the electronics chain is necessary to reduce the size of the collected dataset.\n",
      "\n",
      "Due to the stochastic nature of the particle interactions and the inherent noise in the readout electronics, these signals can be very noisy. Unfortunately, numerical differentiation can amplify these fluctuations. By choosing your differentiation algorithm carefully, you can minimize the impact of these fluctuations on the collected signals.\n",
      "\n",
      "Generate and plot an example of a noisy sinusoidally varying dataset with the following:"
     ]
    },
    {
     "cell_type": "code",
     "collapsed": false,
     "input": [
      "x = np.linspace(0,2*pi,100)\n",
      "y = np.sin(x) + 0.1*random.random(size=x.shape)"
     ],
     "language": "python",
     "metadata": {},
     "outputs": [],
     "prompt_number": 60
    },
    {
     "cell_type": "markdown",
     "metadata": {},
     "source": [
      "(a) Now that we do not control the spacing of the data points, we have to use higher order differencing methods to reach a smoother and more accurate derivative. The four-point center differencing method is defined by\n",
      "\n",
      "dydx[i]\u2243y[i\u22122]\u22128y[i\u22121]+8y[i+1]\u2212y[i+2]12h\n",
      "\n",
      "where h is the spacing between points on the x axis (assumed to be equal). This comes from keeping higher order terms from the Taylor expansion used to define the derivative. This method can be used to obtain dydx[2:-2]. In order to calculate values for dydx[0], dydx[1], dydx[-1] and dydx[-2] you must use the lowest order finite difference method (like the ones you defined in your twoPtForwardDiff(x,y) and twoPtCenteredDiff(x,y) functions). Create another function, fourPtCenteredDiff(x,y), that computes the derivative using the higher order method above. Test that it works for y=8x4+3x and plot the relative error from the analytical result.\n"
     ]
    },
    {
     "cell_type": "code",
     "collapsed": false,
     "input": [],
     "language": "python",
     "metadata": {},
     "outputs": []
    }
   ],
   "metadata": {}
  }
 ]
}