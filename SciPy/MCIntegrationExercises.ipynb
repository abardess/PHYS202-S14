{
 "metadata": {
  "name": "",
  "signature": "sha256:f994ddc9b2bc4d4d0e5bf336e4df038ae6ac0c584c4b7945a51d2c423695c774"
 },
 "nbformat": 3,
 "nbformat_minor": 0,
 "worksheets": [
  {
   "cells": [
    {
     "cell_type": "heading",
     "level": 1,
     "metadata": {},
     "source": [
      "Monte Carlo Integration Exercises"
     ]
    },
    {
     "cell_type": "code",
     "collapsed": false,
     "input": [
      "%pylab inline\n",
      "import numpy as np\n",
      "import matplotlib.pyplot as plt\n",
      "from Electrostatics import *"
     ],
     "language": "python",
     "metadata": {},
     "outputs": [
      {
       "output_type": "stream",
       "stream": "stdout",
       "text": [
        "Populating the interactive namespace from numpy and matplotlib\n"
       ]
      }
     ],
     "prompt_number": 1
    },
    {
     "cell_type": "markdown",
     "metadata": {},
     "source": [
      "Question 1\n",
      "\n",
      "\n",
      "(a) Use the sample mean method to compute the potential at point $P(2,3)$ due to the disk of charge for different numbers of samples $N=(10^1,10^2,10^3,10^4,10^5,10^6)$. Report the value and its statistical uncertainty for each sample size. How does the result depend on N?\n",
      "\n",
      "\n",
      "$V = \\frac{kQ}r$"
     ]
    },
    {
     "cell_type": "code",
     "collapsed": false,
     "input": [
      "sig = 1 #C * 10^-6 / m^2\n",
      "N = [10, 100, 1000, 10000, 100000, 1000000]\n",
      "A = 4\n",
      "\n",
      "xmin = -1\n",
      "xmax = 1\n",
      "ymin = 0\n",
      "ymax = 2\n",
      "\n",
      "q = sig * A\n",
      "\n",
      "\n",
      "for i in N:\n",
      "    \n",
      "    x = xmin + (xmax - xmin) * np.random.random_sample(i)\n",
      "    y = ymin + (ymax - ymin) * np.random.random_sample(i)\n",
      "    f = pointPotential(x, y, q, 2, 3)\n",
      "    Unc = (xmax - xmin) * (ymax - ymin) * np.sqrt( ((f ** 2).mean() - (f.mean()) ** 2) / i)\n",
      "    print \"N size = \" , i\n",
      "    print f.mean() * (xmax - xmin) * (ymax - ymin) * (10 ** -6), \"C\"\n",
      "    print \"Uncertainty: \", Unc * (10 ** - 6)\n",
      "    print"
     ],
     "language": "python",
     "metadata": {},
     "outputs": [
      {
       "output_type": "stream",
       "stream": "stdout",
       "text": [
        "N size =  10\n",
        "47406.3945336 C\n",
        "Uncertainty:  2710.5416415\n",
        "\n",
        "N size =  100\n",
        "52344.5645497 C\n",
        "Uncertainty:  1201.68831702\n",
        "\n",
        "N size =  1000\n",
        "52157.3932148 C\n",
        "Uncertainty:  371.930223695\n",
        "\n",
        "N size =  10000\n",
        "52080.0110334 C\n",
        "Uncertainty:  119.320602999\n",
        "\n",
        "N size =  100000\n",
        "52055.0458776 C\n",
        "Uncertainty:  37.4562227326\n",
        "\n",
        "N size = "
       ]
      },
      {
       "output_type": "stream",
       "stream": "stdout",
       "text": [
        " 1000000\n",
        "52102.3387314 C\n",
        "Uncertainty:  11.8840233081\n",
        "\n"
       ]
      }
     ],
     "prompt_number": 2
    },
    {
     "cell_type": "markdown",
     "metadata": {},
     "source": [
      "Uncertainty of calculation decreases as N increases."
     ]
    },
    {
     "cell_type": "markdown",
     "metadata": {},
     "source": [
      "(b) Now use the same method to compute the electric potential, V, at point $P(2,3)$, from a disk centered on the origin with radius, $R = 1.2 m$, and charge density, $\u03c3 = 2 \\frac{nC}{m^2}$.\n",
      "\n",
      "The integral is\n",
      "\n",
      "$V=\\int_0^{2\u03c0}\\int_0^{1.2}\\frac{K \u03c3}{|r\u2212r_0|}rd\u03b8dr$"
     ]
    },
    {
     "cell_type": "code",
     "collapsed": false,
     "input": [
      "sig = 2. * (10 ** - 9) # C / m^2\n",
      "N = 100000\n",
      "R = 1.2 #m\n",
      "k = 8.987 * (10 ** 9) #Nm^2 / C^2 \n",
      "func = lambda r: (k * sig) / abs(r - R)\n",
      "\n",
      "rmin = 0 ; rmax = 1.2\n",
      "theta_min = 0 ; theta_max = 2 * np.pi\n",
      "\n",
      "r = (rmax - rmin) * np.random.random_sample(N)\n",
      "\n",
      "V = (rmax - rmin) * (theta_max - theta_min) * func(r).mean()\n",
      "\n",
      "print V"
     ],
     "language": "python",
     "metadata": {},
     "outputs": [
      {
       "output_type": "stream",
       "stream": "stdout",
       "text": [
        "1194.5455474\n"
       ]
      }
     ],
     "prompt_number": 3
    },
    {
     "cell_type": "markdown",
     "metadata": {},
     "source": [
      "Question 2\n",
      "\n",
      "Use the sample mean method to compute the volume of a sphere with radius 1 using spherical coordinates:\n",
      "\n",
      "$V=\u222b_0^{2\u03c0}\u222b_0^\u03c0\u222b_0^1r^2sin(\u03b8)dr d\u03b8 d\u03d5$\n",
      "\n",
      "for $N=(101,102,103,104,105,106)$.\n",
      "\n",
      "Report the value and statistical uncertainty for each sample size. How does the result depend on N?"
     ]
    },
    {
     "cell_type": "code",
     "collapsed": false,
     "input": [
      "N = [10, 100, 1000, 10000, 100000, 1000000]\n",
      "func = lambda r, theta, phi: (r ** 2) * np.sin(theta)\n",
      "\n",
      "rmin = 0 ; rmax = 1\n",
      "theta_min = 0 ; theta_max = np.pi\n",
      "phi_min = 0 ; phi_max = 2 * np.pi\n",
      "\n",
      "for i in N:\n",
      "    r = (rmax - rmin) * np.random.random_sample(i)\n",
      "    theta = (theta_max - theta_min) * np.random.random_sample(i)\n",
      "    phi = (phi_max - phi_min) * np.random.random_sample(i)\n",
      "\n",
      "    V = (rmax - rmin) * (theta_max - theta_min) * (phi_max - phi_min) * func(r, theta, phi).mean()\n",
      "\n",
      "    Unc = (rmax - rmin) * (theta_max - theta_min) * (phi_max - phi_min) * np.sqrt(((func(r, theta, phi) ** 2).mean() - (func(r, theta, phi).mean())**2) / i)\n",
      " \n",
      "    \n",
      "    print \"N =\", i\n",
      "    print V\n",
      "    print \"Uncertainty = \" , Unc\n",
      "    print \n",
      "    \n",
      "    "
     ],
     "language": "python",
     "metadata": {},
     "outputs": [
      {
       "output_type": "stream",
       "stream": "stdout",
       "text": [
        "N = 10\n",
        "2.53036553804\n",
        "Uncertainty =  1.10470637554\n",
        "\n",
        "N = 100\n",
        "4.1040951108\n",
        "Uncertainty =  0.506809334173\n",
        "\n",
        "N = 1000\n",
        "4.01748845266\n",
        "Uncertainty =  0.140568743376\n",
        "\n",
        "N = 10000\n",
        "4.2077547126\n",
        "Uncertainty =  0.0461943324538\n",
        "\n",
        "N = 100000\n",
        "4.1820066416\n",
        "Uncertainty =  0.0146446775617\n",
        "\n",
        "N ="
       ]
      },
      {
       "output_type": "stream",
       "stream": "stdout",
       "text": [
        " 1000000\n",
        "4.18356638183\n",
        "Uncertainty =  0.00462327148717\n",
        "\n"
       ]
      }
     ],
     "prompt_number": 4
    },
    {
     "cell_type": "markdown",
     "metadata": {},
     "source": [
      "As N increases the uncertainty decreases."
     ]
    },
    {
     "cell_type": "markdown",
     "metadata": {},
     "source": [
      "Question 3\n",
      "\n",
      "(a) Use the hit or miss Monte Carlo method to estimate the integral of $f(x)=4\\sqrt{1\u2212x^2}$ in the interval $0 \u2264 x \u2264 1$ as a function of N, the number of samples. Let N range from $10^1$ to $10^6$ and use at least 100 different values for N.\n",
      "\n",
      "(np.logspace might be useful here to get evenly spaced values for N.)\n"
     ]
    },
    {
     "cell_type": "code",
     "collapsed": false,
     "input": [
      "func = lambda x: 4. * (1. - ( x ** 2.)) ** (1. / 2.)\n",
      "h = np.arange(0, 1, .0001)\n",
      "\n",
      "hmin = 0 ; hmax = 1\n",
      "\n",
      "subh = h[logical_and((h > hmin),(h < hmax))]\n",
      "ymax = func(subh).max()*1.03\n",
      "ymin = 0.\n",
      "\n",
      "N = np.logspace(1., 6., 100)\n",
      "for i in N:\n",
      "    samples_h = hmin + (hmax - hmin) * np.random.random_sample(i);\n",
      "    samples_y = ymin + (ymax - ymin) * np.random.random_sample(i);\n",
      "    newmask = (samples_y < func(samples_h))\n",
      "    I = (hmax - hmin) * (ymax - ymin) * newmask.sum() / newmask.size\n",
      "    print \"N = \", i\n",
      "    print I\n",
      "    print"
     ],
     "language": "python",
     "metadata": {},
     "outputs": [
      {
       "output_type": "stream",
       "stream": "stdout",
       "text": [
        "N =  10.0\n",
        "3.29599998352\n",
        "\n",
        "N =  11.2332403298\n",
        "2.99636362138\n",
        "\n",
        "N =  12.6185688307\n",
        "2.74666665293\n",
        "\n",
        "N =  14.1747416293\n",
        "3.23714284096\n",
        "\n",
        "N =  15.9228279334\n",
        "3.29599998352\n",
        "\n",
        "N =  17.8864952906\n",
        "2.90823527958\n",
        "\n",
        "N =  20.0923300257\n",
        "3.29599998352\n",
        "\n",
        "N =  22.5701971963\n",
        "2.80909089505\n",
        "\n",
        "N =  25.3536449397\n",
        "2.47199998764\n",
        "\n",
        "N =  28.4803586844\n",
        "3.53142855377\n",
        "\n",
        "N =  31.992671378\n",
        "3.32258062855\n",
        "\n",
        "N =  35.938136638\n",
        "3.29599998352\n",
        "\n",
        "N =  40.370172586\n",
        "3.08999998455\n",
        "\n",
        "N =  45.3487850813\n",
        "2.47199998764\n",
        "\n",
        "N =  50.9413801482\n",
        "3.37839998311\n",
        "\n",
        "N =  57.2236765935\n",
        "3.32491226408\n",
        "\n",
        "N =  64.2807311728\n",
        "3.47624998262\n",
        "\n",
        "N =  72.2080901839\n",
        "3.20444442842\n",
        "\n",
        "N =  81.113083079\n",
        "3.35703702025\n",
        "\n",
        "N =  91.1162756115\n",
        "2.98813185319\n",
        "\n",
        "N =  102.35310219\n",
        "3.27176468952\n",
        "\n",
        "N =  114.97569954\n",
        "3.1080701599\n",
        "\n",
        "N =  129.154966501\n",
        "3.35348835533\n",
        "\n",
        "N =  145.08287785\n",
        "2.75613791725\n",
        "\n",
        "N =  162.975083462\n",
        "3.15358023115\n",
        "\n",
        "N =  183.07382803\n",
        "2.83672129729\n",
        "\n",
        "N =  205.651230835\n",
        "3.15531705739\n",
        "\n",
        "N =  231.012970008\n",
        "3.28173158532\n",
        "\n",
        "N =  259.50242114\n",
        "2.83150577735\n",
        "\n",
        "N =  291.505306283\n",
        "3.08646046567\n",
        "\n",
        "N =  327.454916288\n",
        "3.17504585568\n",
        "\n",
        "N =  367.837977183\n",
        "3.25558581478\n",
        "\n",
        "N =  413.201240012\n",
        "3.16232443939\n",
        "\n",
        "N =  464.158883361\n",
        "3.10775860515\n",
        "\n",
        "N =  521.4008288\n",
        "3.17896351578\n",
        "\n",
        "N =  585.702081806\n",
        "3.20444442842\n",
        "\n",
        "N =  657.933224658\n",
        "3.09783864509\n",
        "\n",
        "N =  739.072203353\n",
        "3.16108252817\n",
        "\n",
        "N =  830.217568132\n",
        "3.23146986336\n",
        "\n",
        "N =  932.603346883\n",
        "3.05463517786\n",
        "\n",
        "N =  1047.61575279\n",
        "3.13230179905\n",
        "\n",
        "N =  1176.81195243\n",
        "3.14605440604\n",
        "\n",
        "N =  1321.94114847\n",
        "3.18746402645\n",
        "\n",
        "N =  1484.96826225\n",
        "3.19549863631\n",
        "\n",
        "N =  1668.1005372\n",
        "3.10482012836\n",
        "\n",
        "N =  1873.81742286\n",
        "3.1389428567\n",
        "\n",
        "N =  2104.90414451\n",
        "3.17811785483\n",
        "\n",
        "N =  2364.48941265\n",
        "3.23988154048\n",
        "\n",
        "N =  2656.08778295\n",
        "3.13498492408\n",
        "\n",
        "N =  2983.64724028\n",
        "3.14766341034\n",
        "\n",
        "N =  3351.60265094\n",
        "3.15977318623\n",
        "\n",
        "N =  3764.93580679\n",
        "3.22353877241\n",
        "\n",
        "N =  4229.24287439\n",
        "3.08050128514\n",
        "\n",
        "N =  4750.8101621\n",
        "3.1546189316\n",
        "\n",
        "N =  5336.69923121\n",
        "3.13787104878\n",
        "\n",
        "N =  5994.84250319\n",
        "3.15907906328\n",
        "\n",
        "N =  6734.15065775\n",
        "3.12640331077\n",
        "\n",
        "N =  7564.63327555\n",
        "3.16788998945\n",
        "\n",
        "N =  8497.53435909\n",
        "3.11727431653\n",
        "\n",
        "N =  9545.48456662\n",
        "3.14578940281\n",
        "\n",
        "N =  10722.6722201\n",
        "3.11401602621\n",
        "\n",
        "N =  12045.0354026\n",
        "3.13763053641\n",
        "\n",
        "N =  13530.4777458\n",
        "3.14283220897\n",
        "\n",
        "N =  15199.1108295\n",
        "3.16339231263\n",
        "\n",
        "N =  17073.5264747\n",
        "3.14821763786\n",
        "\n",
        "N =  19179.1026167\n",
        "3.129258027\n",
        "\n",
        "N =  21544.3469003\n",
        "3.14622352679\n",
        "\n",
        "N =  24201.2826479\n",
        "3.12460144713\n",
        "\n",
        "N =  27185.8824273\n",
        "3.15490305577\n",
        "\n",
        "N = "
       ]
      },
      {
       "output_type": "stream",
       "stream": "stdout",
       "text": [
        " 30538.5550883\n",
        "3.13445410706\n",
        "\n",
        "N =  34304.6928631\n",
        "3.1445265701\n",
        "\n",
        "N =  38535.2859371\n",
        "3.13370181384\n",
        "\n",
        "N =  43287.6128108\n",
        "3.15726752412\n",
        "\n",
        "N =  48626.0158007\n",
        "3.12351004073\n",
        "\n",
        "N =  54622.7721768\n",
        "3.15777157807\n",
        "\n",
        "N =  61359.0727341\n",
        "3.13705241346\n",
        "\n",
        "N =  68926.1210435\n",
        "3.13121433016\n",
        "\n",
        "N =  77426.3682681\n",
        "3.14568644618\n",
        "\n"
       ]
      },
      {
       "output_type": "stream",
       "stream": "stdout",
       "text": [
        "N =  86974.9002618\n",
        "3.14089956348\n",
        "\n",
        "N =  97700.9957299\n",
        "3.14262802932\n",
        "\n",
        "N =  109749.876549\n",
        "3.14121420948\n",
        "\n",
        "N =  123284.673944\n",
        "3.14895069968\n",
        "\n",
        "N = "
       ]
      },
      {
       "output_type": "stream",
       "stream": "stdout",
       "text": [
        " 138488.637139\n",
        "3.13816502388\n",
        "\n",
        "N =  155567.614393\n",
        "3.14261660606\n",
        "\n",
        "N = "
       ]
      },
      {
       "output_type": "stream",
       "stream": "stdout",
       "text": [
        " 174752.840001\n",
        "3.14130194364\n",
        "\n",
        "N =  196304.065004\n",
        "3.13915354205\n",
        "\n",
        "N = "
       ]
      },
      {
       "output_type": "stream",
       "stream": "stdout",
       "text": [
        " 220513.07399\n",
        "3.14405661586\n",
        "\n",
        "N =  247707.635599\n",
        "3.14762762498\n",
        "\n",
        "N = "
       ]
      },
      {
       "output_type": "stream",
       "stream": "stdout",
       "text": [
        " 278255.940221\n",
        "3.14208576891\n",
        "\n",
        "N =  312571.584969\n",
        "3.1406117493\n",
        "\n",
        "N = "
       ]
      },
      {
       "output_type": "stream",
       "stream": "stdout",
       "text": [
        " 351119.173422\n",
        "3.14335115582\n",
        "\n",
        "N = "
       ]
      },
      {
       "output_type": "stream",
       "stream": "stdout",
       "text": [
        " 394420.605944\n",
        "3.14459975102\n",
        "\n",
        "N = "
       ]
      },
      {
       "output_type": "stream",
       "stream": "stdout",
       "text": [
        " 443062.145758\n",
        "3.13859151326\n",
        "\n",
        "N = "
       ]
      },
      {
       "output_type": "stream",
       "stream": "stdout",
       "text": [
        " 497702.356433\n",
        "3.1386045308\n",
        "\n",
        "N = "
       ]
      },
      {
       "output_type": "stream",
       "stream": "stdout",
       "text": [
        " 559081.018251\n",
        "3.14327403581\n",
        "\n",
        "N = "
       ]
      },
      {
       "output_type": "stream",
       "stream": "stdout",
       "text": [
        " 628029.144183\n",
        "3.14468750667\n",
        "\n",
        "N = "
       ]
      },
      {
       "output_type": "stream",
       "stream": "stdout",
       "text": [
        " 705480.231072\n",
        "3.14185914401\n",
        "\n",
        "N = "
       ]
      },
      {
       "output_type": "stream",
       "stream": "stdout",
       "text": [
        " 792482.898354\n",
        "3.13635558609\n",
        "\n",
        "N = "
       ]
      },
      {
       "output_type": "stream",
       "stream": "stdout",
       "text": [
        " 890215.085445\n",
        "3.14307845409\n",
        "\n",
        "N = "
       ]
      },
      {
       "output_type": "stream",
       "stream": "stdout",
       "text": [
        " 1000000.0\n",
        "3.14512146427"
       ]
      },
      {
       "output_type": "stream",
       "stream": "stdout",
       "text": [
        "\n",
        "\n"
       ]
      }
     ],
     "prompt_number": 5
    },
    {
     "cell_type": "markdown",
     "metadata": {},
     "source": [
      "(b) Calculate the percent error for the N values from part (a) using the exact result \u03c0. Make a log-log plot of the error as a function of N.\n",
      "\n",
      "What is the approximate functional dependence of the error on N for large N, for example $N \u2265 10^4$?\n"
     ]
    },
    {
     "cell_type": "code",
     "collapsed": false,
     "input": [
      "func = lambda x: 4. * (1. - ( x ** 2.)) ** (1. / 2.)\n",
      "h = np.arange(0, 1, .0001)\n",
      "\n",
      "hmin = 0 ; hmax = 1\n",
      "\n",
      "subh = h[logical_and((h > hmin),(h < hmax))]\n",
      "ymax = func(subh).max()*1.03\n",
      "ymin = 0.\n",
      "\n",
      "N = np.logspace(1., 6., 100)\n",
      "err = []\n",
      "for i in N:\n",
      "    samples_h = hmin + (hmax - hmin) * np.random.random_sample(i);\n",
      "    samples_y = ymin + (ymax - ymin) * np.random.random_sample(i);\n",
      "    newmask = (samples_y < func(samples_h))\n",
      "    I = (hmax - hmin) * (ymax - ymin) * newmask.sum() / newmask.size\n",
      "    \n",
      "    err.append((abs(np.pi - I) / np.pi) * 100)\n",
      "plt.plot(log(err), log(N))\n",
      "plt.show()"
     ],
     "language": "python",
     "metadata": {},
     "outputs": [
      {
       "metadata": {},
       "output_type": "display_data",
       "png": "[encoded data removed]",
       "text": [
        "<matplotlib.figure.Figure at 0x104f8a1d0>"
       ]
      }
     ],
     "prompt_number": 6
    },
    {
     "cell_type": "markdown",
     "metadata": {},
     "source": [
      "Well that doesn't seem right at all, but just looking at the generated err numbers I can see that for N greater than $10^4$ the error is less than 1%:"
     ]
    },
    {
     "cell_type": "code",
     "collapsed": false,
     "input": [
      "N = np.logspace(4., 6., 100)\n",
      "err = []\n",
      "for i in N:\n",
      "    samples_h = hmin + (hmax - hmin) * np.random.random_sample(i);\n",
      "    samples_y = ymin + (ymax - ymin) * np.random.random_sample(i);\n",
      "    newmask = (samples_y < func(samples_h))\n",
      "    I = (hmax - hmin) * (ymax - ymin) * newmask.sum() / newmask.size\n",
      "    \n",
      "    err.append((abs(np.pi - I) / np.pi) * 100)\n",
      "print err"
     ],
     "language": "python",
     "metadata": {},
     "outputs": [
      {
       "output_type": "stream",
       "stream": "stdout",
       "text": [
        "[0.31179505853740103, 0.16506416526086889, 0.29969408507969475, 0.68122501177754113, 0.0063521959984049097, 0.96129610071018157, 0.13675717513682606, 0.11921614403379038, 0.75319638475528849, 0.19345512946007334, 0.70931309324490832, 0.26228971766676362, 0.051927961665773431, 0.31878456425715473, 0.05072943162137835, 0.17363495515925967, 0.1162845090618454, 0.22371630135419254, 0.23257351684222638, 0.15610243675209468, 0.32984936216849936, 0.14517939275350369, 0.029166706938219183, 0.13735514864083884, 0.15422147786105592, 0.44526040355856233, 0.13810912375196238, 0.32522691067788845, 0.08865146609870099, 0.29881852461679909, 0.18505965865208837, 0.35163926727830441, 0.16966910150501183, 0.16523704795672531, 0.063159982129181863, 0.10209721388389893, 0.16655373528767192, 0.35679934734470209, 0.42529865779335829, 0.42614347532201524, 0.46323458123134981, 0.15974435192738159, 0.22040047775782357, 0.039481584952006168, 0.039069906395363799, 0.097837648416190456, 0.30148584407862938, 0.27325248107820854, 0.15349173682806339, 0.37390373534756571, 0.033908877069493158, 0.064532498280807662, 0.089517281184367817, 0.070865295544760842, 0.1912871487449917, 0.045520627852713054, 0.12245852680525195, 0.10614234732845905, 0.12492980889034827, 0.15371056273031075, 0.010543977827945092, 0.021293792617361047, 0.05658635143262155, 0.081726626307014133, 0.047288671624992777, 0.045587196913975517, 0.018342669561974077, 0.027361138278311267, 0.069930026085276986, 0.15398010053345473, 0.089393377070818819, 0.0250073899318798, 0.0063054416042081412, 0.10252811933905215, 0.14793085708831755, 0.048876513421613074, 0.0098283480314700737, 0.086814879197239486, 0.015890524242780365, 0.0086045335266469129, 0.027947767214511504, 0.036866013423625672, 0.04975145879303846, 0.057707654074199519, 0.039005774761313207, 0.065590042779118438, 0.069056254359647934, 0.06137858417264775, 0.076340140763638958, 0.032625383624662795, 0.049774109734371901, 0.043954687745028156, 0.033010868330717244, 0.14180292734784905, 0.037126489901811846, 0.019723876828975858, 0.056969665240052259, 0.067284553770802696, 0.03823792552774137, 0.042819386338343438]\n"
       ]
      }
     ],
     "prompt_number": 7
    },
    {
     "cell_type": "markdown",
     "metadata": {},
     "source": [
      "\n",
      "\n",
      "(c) Estimate the same integral using the sample mean method and compute the statistical uncertainty and error as a function of the number of samples N for $N \u2265 10^4$. Use at least 100 different values for N.\n",
      "\n",
      "Make a log-log plot of both the statistical uncertainty and the error as a function of N.\n",
      "\n",
      "How many samples are needed to determine the result to two decimal places? What is the approximate functional dependence of the error on N for large N?\n"
     ]
    },
    {
     "cell_type": "code",
     "collapsed": false,
     "input": [
      "smm_func = lambda x: 4. * (1. - ( x ** 2.)) ** (1. / 2.)\n",
      "N = np.logspace(4, 6, 100)\n",
      "xmin = 0 ; xmax = 1\n",
      "\n",
      "unc = []\n",
      "err = []\n",
      "\n",
      "for i in N:\n",
      "    x = xmin + (xmax - xmin) * np.random.random_sample(i);\n",
      "    \n",
      "    I = smm_func(x).mean() * (xmax - xmin)\n",
      "    Unc = (xmax - xmin) * np.sqrt(((smm_func(x) ** 2).mean() - (smm_func(x).mean())**2) / i)\n",
      "    Err = 100 * (abs(np.pi - I) / np.pi)\n",
      "    unc.append(Unc)\n",
      "    err.append(Err)\n",
      "    print \"N = \", i\n",
      "    print I\n",
      "    print \"% Error = \" , Err\n",
      "    print \"Uncertainty = \", Unc\n",
      "    print"
     ],
     "language": "python",
     "metadata": {},
     "outputs": [
      {
       "output_type": "stream",
       "stream": "stdout",
       "text": [
        "N =  10000.0\n",
        "3.13743325113\n",
        "% Error =  0.132397892435\n",
        "Uncertainty =  0.00883440639797\n",
        "\n",
        "N =  10476.1575279\n",
        "3.14494380495\n",
        "% Error =  0.106670460708\n",
        "Uncertainty =  0.00873906868674\n",
        "\n",
        "N =  10974.9876549\n",
        "3.14067465227\n",
        "% Error =  0.0292208897187\n",
        "Uncertainty =  0.00849394904597\n",
        "\n",
        "N =  11497.569954\n",
        "3.14832967876\n",
        "% Error =  0.214446171415\n",
        "Uncertainty =  0.00834423267613\n",
        "\n",
        "N =  12045.0354026\n",
        "3.14783104719\n",
        "% Error =  0.198574235667\n",
        "Uncertainty =  0.00807577744622\n",
        "\n",
        "N =  12618.5688307\n",
        "3.14566049317\n",
        "% Error =  0.129483355274\n",
        "Uncertainty =  0.00793198886627\n",
        "\n",
        "N =  13219.4114847\n",
        "3.14283266108\n",
        "% Error =  0.0394706643987\n",
        "Uncertainty =  0.00774491416152\n",
        "\n",
        "N =  13848.8637139\n",
        "3.13966997426\n",
        "% Error =  0.0612007838447\n",
        "Uncertainty =  0.00757291044332\n",
        "\n",
        "N =  14508.287785\n",
        "3.1445105074\n",
        "% Error =  0.0928781713935\n",
        "Uncertainty =  0.0073592440421\n",
        "\n",
        "N =  15199.1108295\n",
        "3.1360420395\n",
        "% Error =  0.176681533776\n",
        "Uncertainty =  0.00729773093072\n",
        "\n",
        "N =  15922.8279334\n",
        "3.14306892524\n",
        "% Error =  0.0469911860869\n",
        "Uncertainty =  0.00711948387458\n",
        "\n",
        "N =  16681.005372\n",
        "3.14559517092\n",
        "% Error =  0.127404083635\n",
        "Uncertainty =  0.00695420912831\n",
        "\n",
        "N =  17475.2840001\n",
        "3.13191899203\n",
        "% Error =  0.307922211109\n",
        "Uncertainty =  0.00681599294185\n",
        "\n",
        "N =  18307.382803\n",
        "3.13290422613\n",
        "% Error =  0.276561235597\n",
        "Uncertainty =  0.0066531184036\n",
        "\n",
        "N =  19179.1026167\n",
        "3.13229808818\n",
        "% Error =  0.295855205712\n",
        "Uncertainty =  0.0064757971203\n",
        "\n",
        "N =  20092.3300257\n",
        "3.1419631299\n",
        "% Error =  0.0117926272188\n",
        "Uncertainty =  0.00633823113686\n",
        "\n",
        "N = "
       ]
      },
      {
       "output_type": "stream",
       "stream": "stdout",
       "text": [
        " 21049.0414451\n",
        "3.13551420351\n",
        "% Error =  0.193483075157\n",
        "Uncertainty =  0.00619144363555\n",
        "\n",
        "N =  22051.307399\n",
        "3.12660421025\n",
        "% Error =  0.477096969436\n",
        "Uncertainty =  0.00608708792777\n",
        "\n",
        "N =  23101.2970008\n",
        "3.14587802527\n",
        "% Error =  0.136407617111\n",
        "Uncertainty =  0.00585582318293\n",
        "\n",
        "N =  24201.2826479\n",
        "3.14529816461\n",
        "% Error =  0.117950079064\n",
        "Uncertainty =  0.00569499238622\n",
        "\n",
        "N =  25353.6449397\n",
        "3.13831064788\n",
        "% Error =  0.104469486309\n",
        "Uncertainty =  0.00561568933598\n",
        "\n",
        "N =  26560.8778295\n",
        "3.13860043433\n",
        "% Error =  0.0952452970969\n",
        "Uncertainty =  0.00551659011625\n",
        "\n",
        "N =  27825.5940221\n",
        "3.1349872794\n",
        "% Error =  0.210255590601\n",
        "Uncertainty =  0.00537563337903\n",
        "\n",
        "N =  29150.5306283\n",
        "3.14760483122\n",
        "% Error =  0.191373557803\n",
        "Uncertainty =  0.00522138679734\n",
        "\n",
        "N =  30538.5550883\n",
        "3.1418129366\n",
        "% Error =  0.00701182600546\n",
        "Uncertainty =  0.0050950734267\n",
        "\n",
        "N =  31992.671378\n",
        "3.13532592047\n",
        "% Error =  0.19947631068\n",
        "Uncertainty =  0.00499558743837\n",
        "\n",
        "N =  33516.0265094\n",
        "3.14294179808\n",
        "% Error =  0.0429446028009\n",
        "Uncertainty =  0.00490356942308\n",
        "\n",
        "N =  35111.9173422\n",
        "3.13666628951\n",
        "% Error =  0.156811038968\n",
        "Uncertainty =  0.00478302411335\n",
        "\n",
        "N =  36783.7977183\n",
        "3.14609652713\n",
        "% Error =  0.143362747349\n",
        "Uncertainty =  0.00461798980342\n",
        "\n",
        "N =  38535.2859371\n",
        "3.15008942238\n",
        "% Error =  0.270460550692\n",
        "Uncertainty =  0.00452509860905\n",
        "\n",
        "N =  40370.172586\n",
        "3.14370056758\n",
        "% Error =  0.0670969863473\n",
        "Uncertainty =  0.00444679287433\n",
        "\n",
        "N =  42292.4287439\n",
        "3.14044557328\n",
        "% Error =  0.0365127003614\n",
        "Uncertainty =  0.00435745276182\n",
        "\n",
        "N = "
       ]
      },
      {
       "output_type": "stream",
       "stream": "stdout",
       "text": [
        " 44306.2145758\n",
        "3.14456273246\n",
        "% Error =  0.0945405467791\n",
        "Uncertainty =  0.00423304330097\n",
        "\n",
        "N =  46415.8883361\n",
        "3.14269033134\n",
        "% Error =  0.0349401681106\n",
        "Uncertainty =  0.004131081975\n",
        "\n",
        "N =  48626.0158007\n",
        "3.14157977386\n",
        "% Error =  0.000409974637079\n",
        "Uncertainty =  0.00404918951865\n",
        "\n",
        "N =  50941.3801482\n",
        "3.14719983481\n",
        "% Error =  0.178482121731\n",
        "Uncertainty =  0.00394309997938\n",
        "\n",
        "N =  53366.9923121\n",
        "3.13700107531\n",
        "% Error =  0.146154475837\n",
        "Uncertainty =  0.00387472274079\n",
        "\n",
        "N =  55908.1018251\n",
        "3.14432376797\n",
        "% Error =  0.0869340708329\n",
        "Uncertainty =  0.00377328661695\n",
        "\n",
        "N =  58570.2081806\n",
        "3.1407535762\n",
        "% Error =  0.0267086627862\n",
        "Uncertainty =  0.00369257693265\n",
        "\n",
        "N =  61359.0727341\n",
        "3.14314055467\n",
        "% Error =  0.0492712217016\n",
        "Uncertainty =  0.00360441016483\n",
        "\n",
        "N =  64280.7311728\n",
        "3.13690119845\n",
        "% Error =  0.149333655263\n",
        "Uncertainty =  0.003523702785\n",
        "\n",
        "N = "
       ]
      },
      {
       "output_type": "stream",
       "stream": "stdout",
       "text": [
        " 67341.5065775\n",
        "3.14074425073\n",
        "% Error =  0.0270055018925\n",
        "Uncertainty =  0.00344074965505\n",
        "\n",
        "N =  70548.0231072\n",
        "3.14109096131\n",
        "% Error =  0.0159693611841\n",
        "Uncertainty =  0.00336224843606\n",
        "\n",
        "N =  73907.2203353\n",
        "3.13848716693\n",
        "% Error =  0.098850710676\n",
        "Uncertainty =  0.00329948595165\n",
        "\n",
        "N =  77426.3682681\n",
        "3.14016263653\n",
        "% Error =  0.0455188568752\n",
        "Uncertainty =  0.00320480525054\n",
        "\n",
        "N =  81113.083079\n",
        "3.14468489415\n",
        "% Error =  0.0984290740182\n",
        "Uncertainty =  0.0031135116085\n",
        "\n",
        "N =  84975.3435909\n",
        "3.14520039085\n",
        "% Error =  0.11483784361\n",
        "Uncertainty =  0.00304849766692\n",
        "\n",
        "N = "
       ]
      },
      {
       "output_type": "stream",
       "stream": "stdout",
       "text": [
        " 89021.5085445\n",
        "3.14247869571\n",
        "% Error =  0.0282035966886\n",
        "Uncertainty =  0.00298729587535\n",
        "\n",
        "N =  93260.3346883\n",
        "3.14264726139\n",
        "% Error =  0.0335692090441\n",
        "Uncertainty =  0.00292271215594\n",
        "\n",
        "N =  97700.9957299\n",
        "3.1403381354\n",
        "% Error =  0.039932554314\n",
        "Uncertainty =  0.00286549693043\n",
        "\n",
        "N =  102353.10219\n",
        "3.14402123327\n",
        "% Error =  0.0773040922255\n",
        "Uncertainty =  0.00279607669397\n",
        "\n",
        "N =  107226.722201\n",
        "3.13701011171\n",
        "% Error =  0.145866838373\n",
        "Uncertainty =  0.00273374620289\n",
        "\n",
        "N = "
       ]
      },
      {
       "output_type": "stream",
       "stream": "stdout",
       "text": [
        " 112332.403298\n",
        "3.13905567817\n",
        "% Error =  0.0807544356364\n",
        "Uncertainty =  0.00267361761178\n",
        "\n",
        "N =  117681.195243\n",
        "3.13851658621\n",
        "% Error =  0.0979142656816\n",
        "Uncertainty =  0.00260863981205\n",
        "\n",
        "N =  123284.673944\n",
        "3.14330034626\n",
        "% Error =  0.054357545902\n",
        "Uncertainty =  0.00254552033293\n",
        "\n",
        "N =  129154.966501\n",
        "3.14267887356\n",
        "% Error =  0.0345754555588\n",
        "Uncertainty =  0.00248195424143\n",
        "\n",
        "N = "
       ]
      },
      {
       "output_type": "stream",
       "stream": "stdout",
       "text": [
        " 135304.777458\n",
        "3.13953226235\n",
        "% Error =  0.0655842901057\n",
        "Uncertainty =  0.00243051540579\n",
        "\n",
        "N =  141747.416293\n",
        "3.14163803066\n",
        "% Error =  0.00144439704826\n",
        "Uncertainty =  0.00236885296339\n",
        "\n",
        "N =  148496.826225\n",
        "3.14227446668\n",
        "% Error =  0.0217027846909\n",
        "Uncertainty =  0.00231301075091\n",
        "\n",
        "N = "
       ]
      },
      {
       "output_type": "stream",
       "stream": "stdout",
       "text": [
        " 155567.614393\n",
        "3.14240417486\n",
        "% Error =  0.0258315244193\n",
        "Uncertainty =  0.00226217899822\n",
        "\n",
        "N =  162975.083462\n",
        "3.14190716726\n",
        "% Error =  0.0100112811453\n",
        "Uncertainty =  0.00221451720139\n",
        "\n",
        "N =  170735.264747\n",
        "3.14010212699\n",
        "% Error =  0.0474449351423\n",
        "Uncertainty =  0.00216250562007\n",
        "\n",
        "N = "
       ]
      },
      {
       "output_type": "stream",
       "stream": "stdout",
       "text": [
        " 178864.952906\n",
        "3.14071963866\n",
        "% Error =  0.0277889282462\n",
        "Uncertainty =  0.0021190316383\n",
        "\n",
        "N =  187381.742286\n",
        "3.14452619482\n",
        "% Error =  0.0933775175115\n",
        "Uncertainty =  0.00205691057922\n",
        "\n",
        "N = "
       ]
      },
      {
       "output_type": "stream",
       "stream": "stdout",
       "text": [
        " 196304.065004\n",
        "3.14398771059\n",
        "% Error =  0.0762370321505\n",
        "Uncertainty =  0.00201070475379\n",
        "\n",
        "N =  205651.230835\n",
        "3.14185291196\n",
        "% Error =  0.0082842812084\n",
        "Uncertainty =  0.0019675850244\n",
        "\n",
        "N = "
       ]
      },
      {
       "output_type": "stream",
       "stream": "stdout",
       "text": [
        " 215443.469003\n",
        "3.14184843426\n",
        "% Error =  0.0081417516329\n",
        "Uncertainty =  0.0019259684114\n",
        "\n",
        "N =  225701.971963\n",
        "3.14217450307\n",
        "% Error =  0.0185208441069\n",
        "Uncertainty =  0.00187811907221\n",
        "\n",
        "N = "
       ]
      },
      {
       "output_type": "stream",
       "stream": "stdout",
       "text": [
        " 236448.941265\n",
        "3.14071814362\n",
        "% Error =  0.0278365170286\n",
        "Uncertainty =  0.0018395446988\n",
        "\n",
        "N =  247707.635599\n",
        "3.13984326468\n",
        "% Error =  0.0556847784862\n",
        "Uncertainty =  0.00179469393608\n",
        "\n",
        "N = "
       ]
      },
      {
       "output_type": "stream",
       "stream": "stdout",
       "text": [
        " 259502.42114\n",
        "3.1394574275\n",
        "% Error =  0.0679663572167\n",
        "Uncertainty =  0.00175700914704\n",
        "\n",
        "N = "
       ]
      },
      {
       "output_type": "stream",
       "stream": "stdout",
       "text": [
        " 271858.824273\n",
        "3.14022275527\n",
        "% Error =  0.0436052177446\n",
        "Uncertainty =  0.00171682041818\n",
        "\n",
        "N = "
       ]
      },
      {
       "output_type": "stream",
       "stream": "stdout",
       "text": [
        " 284803.586844\n",
        "3.14180872813\n",
        "% Error =  0.00687786632375\n",
        "Uncertainty =  0.00167337577838\n",
        "\n",
        "N = "
       ]
      },
      {
       "output_type": "stream",
       "stream": "stdout",
       "text": [
        " 298364.724028\n",
        "3.14043106957\n",
        "% Error =  0.0369743676604\n",
        "Uncertainty =  0.00163544413775\n",
        "\n",
        "N = "
       ]
      },
      {
       "output_type": "stream",
       "stream": "stdout",
       "text": [
        " 312571.584969\n",
        "3.14083838393\n",
        "% Error =  0.0240091489768\n",
        "Uncertainty =  0.00159654731466\n",
        "\n",
        "N = "
       ]
      },
      {
       "output_type": "stream",
       "stream": "stdout",
       "text": [
        " 327454.916288\n",
        "3.14304383041\n",
        "% Error =  0.0461923929439\n",
        "Uncertainty =  0.00155930811723\n",
        "\n",
        "N = "
       ]
      },
      {
       "output_type": "stream",
       "stream": "stdout",
       "text": [
        " 343046.928631\n",
        "3.14091867926\n",
        "% Error =  0.0214532692239\n",
        "Uncertainty =  0.0015266443963\n",
        "\n",
        "N = "
       ]
      },
      {
       "output_type": "stream",
       "stream": "stdout",
       "text": [
        " 359381.36638\n",
        "3.14028475812\n",
        "% Error =  0.0416316058194\n",
        "Uncertainty =  0.00149213466067\n",
        "\n",
        "N = "
       ]
      },
      {
       "output_type": "stream",
       "stream": "stdout",
       "text": [
        " 376493.580679\n",
        "3.14084553924\n",
        "% Error =  0.0237813883807\n",
        "Uncertainty =  0.00145508935607\n",
        "\n",
        "N = "
       ]
      },
      {
       "output_type": "stream",
       "stream": "stdout",
       "text": [
        " 394420.605944\n",
        "3.14236230937\n",
        "% Error =  0.0244989043453\n",
        "Uncertainty =  0.00142115171018\n",
        "\n",
        "N = "
       ]
      },
      {
       "output_type": "stream",
       "stream": "stdout",
       "text": [
        " 413201.240012\n",
        "3.14209629106\n",
        "% Error =  0.0160312784256\n",
        "Uncertainty =  0.00138781748653\n",
        "\n",
        "N = "
       ]
      },
      {
       "output_type": "stream",
       "stream": "stdout",
       "text": [
        " 432876.128108\n",
        "3.14255789407\n",
        "% Error =  0.0307245588515\n",
        "Uncertainty =  0.00135678919357\n",
        "\n",
        "N = "
       ]
      },
      {
       "output_type": "stream",
       "stream": "stdout",
       "text": [
        " 453487.850813\n",
        "3.14076737045\n",
        "% Error =  0.026269578238\n",
        "Uncertainty =  0.0013257678761\n",
        "\n",
        "N = "
       ]
      },
      {
       "output_type": "stream",
       "stream": "stdout",
       "text": [
        " 475081.01621\n",
        "3.14216244254\n",
        "% Error =  0.0181369455972\n",
        "Uncertainty =  0.00129445514145\n",
        "\n",
        "N = "
       ]
      },
      {
       "output_type": "stream",
       "stream": "stdout",
       "text": [
        " 497702.356433\n",
        "3.14030130067\n",
        "% Error =  0.0411050402513\n",
        "Uncertainty =  0.00126771105261\n",
        "\n",
        "N = "
       ]
      },
      {
       "output_type": "stream",
       "stream": "stdout",
       "text": [
        " 521400.8288\n",
        "3.14128572201\n",
        "% Error =  0.00976993561136\n",
        "Uncertainty =  0.00123799569315\n",
        "\n",
        "N = "
       ]
      },
      {
       "output_type": "stream",
       "stream": "stdout",
       "text": [
        " 546227.721768\n",
        "3.13815471703\n",
        "% Error =  0.109432919396\n",
        "Uncertainty =  0.00121021253974\n",
        "\n",
        "N = "
       ]
      },
      {
       "output_type": "stream",
       "stream": "stdout",
       "text": [
        " 572236.765935\n",
        "3.14124820973\n",
        "% Error =  0.0109639886879\n",
        "Uncertainty =  0.00118010150376\n",
        "\n",
        "N = "
       ]
      },
      {
       "output_type": "stream",
       "stream": "stdout",
       "text": [
        " 599484.250319\n",
        "3.14043131785\n",
        "% Error =  0.0369664646096\n",
        "Uncertainty =  0.00115476379685\n",
        "\n",
        "N = "
       ]
      },
      {
       "output_type": "stream",
       "stream": "stdout",
       "text": [
        " 628029.144183\n",
        "3.14118110515\n",
        "% Error =  0.0130999935661\n",
        "Uncertainty =  0.00112680107851\n",
        "\n",
        "N = "
       ]
      },
      {
       "output_type": "stream",
       "stream": "stdout",
       "text": [
        " 657933.224658\n",
        "3.14088904127\n",
        "% Error =  0.0223966758853\n",
        "Uncertainty =  0.00110126605682\n",
        "\n",
        "N = "
       ]
      },
      {
       "output_type": "stream",
       "stream": "stdout",
       "text": [
        " 689261.210435\n",
        "3.14289154153\n",
        "% Error =  0.0413448872078\n",
        "Uncertainty =  0.00107429941609\n",
        "\n",
        "N = "
       ]
      },
      {
       "output_type": "stream",
       "stream": "stdout",
       "text": [
        " 722080.901839\n",
        "3.14329019112\n",
        "% Error =  0.0540342978358\n",
        "Uncertainty =  0.00104929070483\n",
        "\n",
        "N = "
       ]
      },
      {
       "output_type": "stream",
       "stream": "stdout",
       "text": [
        " 756463.327555\n",
        "3.14163875598\n",
        "% Error =  0.00146748462535\n",
        "Uncertainty =  0.00102687600993\n",
        "\n",
        "N = "
       ]
      },
      {
       "output_type": "stream",
       "stream": "stdout",
       "text": [
        " 792482.898354\n",
        "3.14315481254\n",
        "% Error =  0.0497250638931\n",
        "Uncertainty =  0.00100236785492\n",
        "\n",
        "N = "
       ]
      },
      {
       "output_type": "stream",
       "stream": "stdout",
       "text": [
        " 830217.568132\n",
        "3.14067733718\n",
        "% Error =  0.0291354263328\n",
        "Uncertainty =  0.000980679519789\n",
        "\n",
        "N = "
       ]
      },
      {
       "output_type": "stream",
       "stream": "stdout",
       "text": [
        " 869749.002618\n",
        "3.14257779768\n",
        "% Error =  0.0313581104387\n",
        "Uncertainty =  0.000956189137705\n",
        "\n",
        "N = "
       ]
      },
      {
       "output_type": "stream",
       "stream": "stdout",
       "text": [
        " 911162.756115\n",
        "3.14233390181\n",
        "% Error =  0.0235946637141\n",
        "Uncertainty =  0.000934598052686\n",
        "\n",
        "N = "
       ]
      },
      {
       "output_type": "stream",
       "stream": "stdout",
       "text": [
        " 954548.456662\n",
        "3.14312655981\n",
        "% Error =  0.0488257514007\n",
        "Uncertainty =  0.000913475343519\n",
        "\n",
        "N = "
       ]
      },
      {
       "output_type": "stream",
       "stream": "stdout",
       "text": [
        " 1000000.0\n",
        "3.14047871473\n",
        "% Error =  0.0354577751368\n",
        "Uncertainty =  0.000893346821065\n",
        "\n"
       ]
      }
     ],
     "prompt_number": 8
    },
    {
     "cell_type": "code",
     "collapsed": false,
     "input": [
      "plt.plot(log(err), log(N)) ; plt.show()\n",
      "plt.plot(log(unc), log(N), 'g') ; plt.show()"
     ],
     "language": "python",
     "metadata": {},
     "outputs": [
      {
       "metadata": {},
       "output_type": "display_data",
       "png": "[encoded data removed]",
       "text": [
        "<matplotlib.figure.Figure at 0x104faf850>"
       ]
      },
      {
       "metadata": {},
       "output_type": "display_data",
       "png": "[encoded data removed]",
       "text": [
        "<matplotlib.figure.Figure at 0x104fa5910>"
       ]
      }
     ],
     "prompt_number": 9
    }
   ],
   "metadata": {}
  }
 ]
}