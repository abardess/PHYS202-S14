{
 "metadata": {
  "name": "",
  "signature": "sha256:63d852fe24df9981b34dc92d5fe791aa487d082cf9228f9df660a433c32be472"
 },
 "nbformat": 3,
 "nbformat_minor": 0,
 "worksheets": [
  {
   "cells": [
    {
     "cell_type": "heading",
     "level": 1,
     "metadata": {},
     "source": [
      "Monte Carlo Integration Exercises"
     ]
    },
    {
     "cell_type": "code",
     "collapsed": false,
     "input": [
      "%pylab inline\n",
      "import numpy as np\n",
      "import matplotlib.pyplot as plt\n",
      "from Electrostatics import *"
     ],
     "language": "python",
     "metadata": {},
     "outputs": [
      {
       "output_type": "stream",
       "stream": "stdout",
       "text": [
        "Populating the interactive namespace from numpy and matplotlib\n"
       ]
      }
     ],
     "prompt_number": 2
    },
    {
     "cell_type": "markdown",
     "metadata": {},
     "source": [
      "Question 1\n",
      "\n",
      "\n",
      "(a) Use the sample mean method to compute the potential at point $P(2,3)$ due to the disk of charge for different numbers of samples $N=(10^1,10^2,10^3,10^4,10^5,10^6)$. Report the value and its statistical uncertainty for each sample size. How does the result depend on N?\n",
      "\n",
      "\n",
      "$V = \\frac{kQ}r$"
     ]
    },
    {
     "cell_type": "code",
     "collapsed": false,
     "input": [
      "sig = 1 #C * 10^-6 / m^2\n",
      "N = [10, 100, 1000, 10000, 100000, 1000000]\n",
      "A = 4\n",
      "\n",
      "xmin = -1\n",
      "xmax = 1\n",
      "ymin = 0\n",
      "ymax = 2\n",
      "\n",
      "q = sig * A\n",
      "\n",
      "\n",
      "for i in N:\n",
      "    \n",
      "    x = xmin + (xmax - xmin) * np.random.random_sample(i)\n",
      "    y = ymin + (ymax - ymin) * np.random.random_sample(i)\n",
      "    f = pointPotential(x, y, q, 2, 3)\n",
      "    Unc = (xmax - xmin) * (ymax - ymin) * np.sqrt( ((f ** 2).mean() - (f.mean()) ** 2) / i)\n",
      "    print \"N size = \" , i\n",
      "    print f.mean() * (xmax - xmin) * (ymax - ymin) * (10 ** -6), \"C\"\n",
      "    print \"Uncertainty: \", Unc * (10 ** - 6)\n",
      "    print"
     ],
     "language": "python",
     "metadata": {},
     "outputs": [
      {
       "output_type": "stream",
       "stream": "stdout",
       "text": [
        "N size =  10\n",
        "45519.131547 C\n",
        "Uncertainty:  1628.16767558\n",
        "\n",
        "N size =  100\n",
        "50825.4560649 C\n",
        "Uncertainty:  1161.91295928\n",
        "\n",
        "N size =  1000\n",
        "52377.5848985 C\n",
        "Uncertainty:  397.024777982\n",
        "\n",
        "N size =  10000\n",
        "51801.6692023 C\n",
        "Uncertainty:  116.98960069\n",
        "\n",
        "N size =  100000\n",
        "52107.7684803 C\n",
        "Uncertainty:  37.7448624869\n",
        "\n",
        "N size = "
       ]
      },
      {
       "output_type": "stream",
       "stream": "stdout",
       "text": [
        " 1000000\n",
        "52104.9963994 C\n",
        "Uncertainty:  11.8922398456\n",
        "\n"
       ]
      }
     ],
     "prompt_number": 5
    },
    {
     "cell_type": "markdown",
     "metadata": {},
     "source": [
      "Uncertainty of calculation decreases as N increases."
     ]
    },
    {
     "cell_type": "markdown",
     "metadata": {},
     "source": [
      "(b) Now use the same method to compute the electric potential, V, at point $P(2,3)$, from a disk centered on the origin with radius, $R = 1.2 m$, and charge density, $\u03c3 = 2 \\frac{nC}{m^2}$.\n",
      "\n",
      "The integral is\n",
      "\n",
      "$V=\\int_0^{2\u03c0}\\int_0^{1.2}\\frac{K \u03c3}{|r\u2212r_0|}rd\u03b8dr$"
     ]
    },
    {
     "cell_type": "code",
     "collapsed": false,
     "input": [
      "sig = 2. * (10 ** - 9) # C / m^2\n",
      "N = 100000\n",
      "R = 1.2 #m\n",
      "k = 8.987 * (10 ** 9) #Nm^2 / C^2 \n",
      "func = lambda r: (k * sig) / abs(r - R)\n",
      "\n",
      "rmin = 0 ; rmax = 1.2\n",
      "theta_min = 0 ; theta_max = 2 * np.pi\n",
      "\n",
      "r = (rmax - rmin) * np.random.random_sample(N)\n",
      "\n",
      "V = (rmax - rmin) * (theta_max - theta_min) * func(r).mean()\n",
      "\n",
      "print V"
     ],
     "language": "python",
     "metadata": {},
     "outputs": [
      {
       "output_type": "stream",
       "stream": "stdout",
       "text": [
        "1417.3670554\n"
       ]
      }
     ],
     "prompt_number": 6
    },
    {
     "cell_type": "markdown",
     "metadata": {},
     "source": [
      "Question 2\n",
      "\n",
      "Use the sample mean method to compute the volume of a sphere with radius 1 using spherical coordinates:\n",
      "\n",
      "$V=\u222b_0^{2\u03c0}\u222b_0^\u03c0\u222b_0^1r^2sin(\u03b8)dr d\u03b8 d\u03d5$\n",
      "\n",
      "for $N=(101,102,103,104,105,106)$.\n",
      "\n",
      "Report the value and statistical uncertainty for each sample size. How does the result depend on N?"
     ]
    },
    {
     "cell_type": "code",
     "collapsed": false,
     "input": [
      "N = [10, 100, 1000, 10000, 100000, 1000000]\n",
      "func = lambda r, theta, phi: (r ** 2) * np.sin(theta)\n",
      "\n",
      "rmin = 0 ; rmax = 1\n",
      "theta_min = 0 ; theta_max = np.pi\n",
      "phi_min = 0 ; phi_max = 2 * np.pi\n",
      "\n",
      "for i in N:\n",
      "    r = (rmax - rmin) * np.random.random_sample(i)\n",
      "    theta = (theta_max - theta_min) * np.random.random_sample(i)\n",
      "    phi = (phi_max - phi_min) * np.random.random_sample(i)\n",
      "\n",
      "    V = (rmax - rmin) * (theta_max - theta_min) * (phi_max - phi_min) * func(r, theta, phi).mean()\n",
      "\n",
      "    Unc = (rmax - rmin) * (theta_max - theta_min) * (phi_max - phi_min) * np.sqrt(((func(r, theta, phi) ** 2).mean() - (func(r, theta, phi).mean())**2) / i)\n",
      " \n",
      "    \n",
      "    print \"N =\", i\n",
      "    print V\n",
      "    print \"Uncertainty = \" , Unc\n",
      "    print \n",
      "    \n",
      "    "
     ],
     "language": "python",
     "metadata": {},
     "outputs": [
      {
       "output_type": "stream",
       "stream": "stdout",
       "text": [
        "N = 10\n",
        "3.00794263972\n",
        "Uncertainty =  1.10933685555\n",
        "\n",
        "N = 100\n",
        "3.94307127063\n",
        "Uncertainty =  0.424562419748\n",
        "\n",
        "N = 1000\n",
        "4.09767272992\n",
        "Uncertainty =  0.147469953106\n",
        "\n",
        "N = 10000\n",
        "4.18082835199\n",
        "Uncertainty =  0.0462732618092\n",
        "\n",
        "N = 100000\n",
        "4.15252951782\n",
        "Uncertainty =  0.0145765860804\n",
        "\n",
        "N ="
       ]
      },
      {
       "output_type": "stream",
       "stream": "stdout",
       "text": [
        " 1000000\n",
        "4.1885745534\n",
        "Uncertainty =  0.00463145398312\n",
        "\n"
       ]
      }
     ],
     "prompt_number": 7
    },
    {
     "cell_type": "markdown",
     "metadata": {},
     "source": [
      "As N increases the uncertainty decreases."
     ]
    },
    {
     "cell_type": "markdown",
     "metadata": {},
     "source": [
      "Question 3\n",
      "\n",
      "(a) Use the hit or miss Monte Carlo method to estimate the integral of $f(x)=4\\sqrt{1\u2212x^2}$ in the interval $0 \u2264 x \u2264 1$ as a function of N, the number of samples. Let N range from 101 to 106 and use at least 100 different values for N.\n",
      "\n",
      "(np.logspace might be useful here to get evenly spaced values for N.)\n"
     ]
    },
    {
     "cell_type": "code",
     "collapsed": false,
     "input": [
      "func = lambda x: 4. * (1. - ( x ** 2.)) ** (1. / 2.)\n",
      "h = np.arange(0, 1, .0001)\n",
      "\n",
      "hmin = 0 ; hmax = 1\n",
      "\n",
      "subh = h[logical_and((h > hmin),(h < hmax))]\n",
      "ymax = func(subh).max()*1.03\n",
      "ymin = 0.\n",
      "\n",
      "N = np.logspace(1., 6., 100)\n",
      "for i in N:\n",
      "    samples_h = hmin + (hmax - hmin) * np.random.random_sample(i);\n",
      "    samples_y = ymin + (ymax - ymin) * np.random.random_sample(i);\n",
      "    newmask = (samples_y < func(samples_h))\n",
      "    I = (hmax - hmin) * (ymax - ymin) * newmask.sum() / newmask.size\n",
      "    print \"N = \", i\n",
      "    print I\n",
      "    print"
     ],
     "language": "python",
     "metadata": {},
     "outputs": [
      {
       "output_type": "stream",
       "stream": "stdout",
       "text": [
        "N =  10.0\n",
        "2.47199998764\n",
        "\n",
        "N =  11.2332403298\n",
        "3.37090907405\n",
        "\n",
        "N =  12.6185688307\n",
        "3.08999998455\n",
        "\n",
        "N =  14.1747416293\n",
        "3.82571426659\n",
        "\n",
        "N =  15.9228279334\n",
        "3.29599998352\n",
        "\n",
        "N =  17.8864952906\n",
        "3.39294115951\n",
        "\n",
        "N =  20.0923300257\n",
        "2.67799998661\n",
        "\n",
        "N =  22.5701971963\n",
        "2.80909089505\n",
        "\n",
        "N =  25.3536449397\n",
        "3.13119998434\n",
        "\n",
        "N =  28.4803586844\n",
        "3.53142855377\n",
        "\n",
        "N =  31.992671378\n",
        "3.32258062855\n",
        "\n",
        "N =  35.938136638\n",
        "3.17828569839\n",
        "\n",
        "N =  40.370172586\n",
        "2.98699998507\n",
        "\n",
        "N =  45.3487850813\n",
        "3.20444442842\n",
        "\n",
        "N =  50.9413801482\n",
        "3.13119998434\n",
        "\n",
        "N =  57.2236765935\n",
        "3.46947366686\n",
        "\n",
        "N =  64.2807311728\n",
        "2.96124998519\n",
        "\n",
        "N =  72.2080901839\n",
        "3.26166665036\n",
        "\n",
        "N =  81.113083079\n",
        "3.20444442842\n",
        "\n",
        "N =  91.1162756115\n",
        "3.07868130329\n",
        "\n",
        "N =  102.35310219\n",
        "3.1909803762\n",
        "\n",
        "N =  114.97569954\n",
        "3.21649121199\n",
        "\n",
        "N =  129.154966501\n",
        "3.25767440232\n",
        "\n",
        "N =  145.08287785\n",
        "2.95503446798\n",
        "\n",
        "N =  162.975083462\n",
        "2.97555554068\n",
        "\n",
        "N =  183.07382803\n",
        "3.17442621364\n",
        "\n",
        "N =  205.651230835\n",
        "3.05482925302\n",
        "\n",
        "N =  231.012970008\n",
        "3.04987011462\n",
        "\n",
        "N =  259.50242114\n",
        "3.05420847894\n",
        "\n",
        "N =  291.505306283\n",
        "3.11477661673\n",
        "\n",
        "N =  327.454916288\n",
        "3.20024463232\n",
        "\n",
        "N =  367.837977183\n",
        "3.14332423496\n",
        "\n",
        "N =  413.201240012\n",
        "3.05259078377\n",
        "\n",
        "N =  464.158883361\n",
        "3.24982756996\n",
        "\n",
        "N =  521.4008288\n",
        "3.06825334358\n",
        "\n",
        "N =  585.702081806\n",
        "3.14810254836\n",
        "\n",
        "N =  657.933224658\n",
        "3.21071535685\n",
        "\n",
        "N =  739.072203353\n",
        "3.24470905008\n",
        "\n",
        "N =  830.217568132\n",
        "3.12722890003\n",
        "\n",
        "N =  932.603346883\n",
        "3.17399140044\n",
        "\n",
        "N =  1047.61575279\n",
        "3.08901622142\n",
        "\n",
        "N =  1176.81195243\n",
        "3.01993195769\n",
        "\n",
        "N =  1321.94114847\n",
        "3.09389854623\n",
        "\n",
        "N =  1484.96826225\n",
        "3.14830187105\n",
        "\n",
        "N =  1668.1005372\n",
        "3.14928055979\n",
        "\n",
        "N =  1873.81742286\n",
        "3.10594766199\n",
        "\n",
        "N =  2104.90414451\n",
        "3.15461975609\n",
        "\n",
        "N =  2364.48941265\n",
        "3.17365480647\n",
        "\n",
        "N =  2656.08778295\n",
        "3.12257528559\n",
        "\n",
        "N =  2983.64724028\n",
        "3.14075761085\n",
        "\n",
        "N =  3351.60265094\n",
        "3.13518351163\n",
        "\n",
        "N =  3764.93580679\n",
        "3.18303930396\n",
        "\n",
        "N =  4229.24287439\n",
        "3.14577439903\n",
        "\n",
        "N =  4750.8101621\n",
        "3.14421051059\n",
        "\n",
        "N =  5336.69923121\n",
        "3.12320088393\n",
        "\n",
        "N =  5994.84250319\n",
        "3.18244909987\n",
        "\n",
        "N =  6734.15065775\n",
        "3.11355507799\n",
        "\n",
        "N =  7564.63327555\n",
        "3.15481754107\n",
        "\n",
        "N =  8497.53435909\n",
        "3.19388488458\n",
        "\n",
        "N =  9545.48456662\n",
        "3.12291250403\n",
        "\n",
        "N =  10722.6722201\n",
        "3.12093264621\n",
        "\n",
        "N =  12045.0354026\n",
        "3.15781152427\n",
        "\n",
        "N =  13530.4777458\n",
        "3.13339244553\n",
        "\n",
        "N =  15199.1108295\n",
        "3.13249027975\n",
        "\n",
        "N =  17073.5264747\n",
        "3.14025418684\n",
        "\n",
        "N =  19179.1026167\n",
        "3.13742112202\n",
        "\n",
        "N =  21544.3469003\n",
        "3.12709987296\n",
        "\n",
        "N =  24201.2826479\n",
        "3.16290564924\n",
        "\n",
        "N =  27185.8824273\n",
        "3.15187197247\n",
        "\n",
        "N = "
       ]
      },
      {
       "output_type": "stream",
       "stream": "stdout",
       "text": [
        " 30538.5550883\n",
        "3.13040669075\n",
        "\n",
        "N =  34304.6928631\n",
        "3.1275921019\n",
        "\n",
        "N =  38535.2859371\n",
        "3.14685245604\n",
        "\n",
        "N =  43287.6128108\n",
        "3.13147409897\n",
        "\n",
        "N = "
       ]
      },
      {
       "output_type": "stream",
       "stream": "stdout",
       "text": [
        " 48626.0158007\n",
        "3.14503103762\n",
        "\n",
        "N =  54622.7721768\n",
        "3.14359121126\n",
        "\n",
        "N =  61359.0727341\n",
        "3.14645282737\n",
        "\n",
        "N =  68926.1210435\n",
        "3.14281053473\n",
        "\n",
        "N =  77426.3682681\n",
        "3.15334898844\n",
        "\n",
        "N = "
       ]
      },
      {
       "output_type": "stream",
       "stream": "stdout",
       "text": [
        " 86974.9002618\n",
        "3.14033111774\n",
        "\n",
        "N =  97700.9957299\n",
        "3.14186897098\n",
        "\n",
        "N =  109749.876549\n",
        "3.14080126722\n",
        "\n",
        "N = "
       ]
      },
      {
       "output_type": "stream",
       "stream": "stdout",
       "text": [
        " 123284.673944\n",
        "3.1481820679\n",
        "\n",
        "N =  138488.637139\n",
        "3.13444629014\n",
        "\n",
        "N =  155567.614393\n",
        "3.13612808347\n",
        "\n",
        "N = "
       ]
      },
      {
       "output_type": "stream",
       "stream": "stdout",
       "text": [
        " 174752.840001\n",
        "3.14514487532\n",
        "\n",
        "N =  196304.065004\n",
        "3.13770538002\n",
        "\n",
        "N = "
       ]
      },
      {
       "output_type": "stream",
       "stream": "stdout",
       "text": [
        " 220513.07399\n",
        "3.14523368932\n",
        "\n",
        "N =  247707.635599\n",
        "3.14333642613\n",
        "\n",
        "N = "
       ]
      },
      {
       "output_type": "stream",
       "stream": "stdout",
       "text": [
        " 278255.940221\n",
        "3.14439559262\n",
        "\n",
        "N = "
       ]
      },
      {
       "output_type": "stream",
       "stream": "stdout",
       "text": [
        " 312571.584969\n",
        "3.14791402619\n",
        "\n",
        "N = "
       ]
      },
      {
       "output_type": "stream",
       "stream": "stdout",
       "text": [
        " 351119.173422\n",
        "3.14035900788\n",
        "\n",
        "N = "
       ]
      },
      {
       "output_type": "stream",
       "stream": "stdout",
       "text": [
        " 394420.605944\n",
        "3.14157049289\n",
        "\n",
        "N = "
       ]
      },
      {
       "output_type": "stream",
       "stream": "stdout",
       "text": [
        " 443062.145758\n",
        "3.14388260116\n",
        "\n",
        "N = "
       ]
      },
      {
       "output_type": "stream",
       "stream": "stdout",
       "text": [
        " 497702.356433\n",
        "3.13745388243\n",
        "\n",
        "N = "
       ]
      },
      {
       "output_type": "stream",
       "stream": "stdout",
       "text": [
        " 559081.018251\n",
        "3.14042951061\n",
        "\n",
        "N = "
       ]
      },
      {
       "output_type": "stream",
       "stream": "stdout",
       "text": [
        " 628029.144183\n",
        "3.14436605655\n",
        "\n",
        "N = "
       ]
      },
      {
       "output_type": "stream",
       "stream": "stdout",
       "text": [
        " 705480.231072\n",
        "3.14459810187\n",
        "\n",
        "N = "
       ]
      },
      {
       "output_type": "stream",
       "stream": "stdout",
       "text": [
        " 792482.898354\n",
        "3.13872106567\n",
        "\n",
        "N = "
       ]
      },
      {
       "output_type": "stream",
       "stream": "stdout",
       "text": [
        " 890215.085445\n",
        "3.14452704796\n",
        "\n",
        "N = "
       ]
      },
      {
       "output_type": "stream",
       "stream": "stdout",
       "text": [
        " 1000000.0\n",
        "3.14191610429\n",
        "\n"
       ]
      }
     ],
     "prompt_number": 15
    },
    {
     "cell_type": "markdown",
     "metadata": {},
     "source": [
      "(b) Calculate the percent error for the N values from part (a) using the exact result \u03c0. Make a log-log plot of the error as a function of N.\n",
      "\n",
      "What is the approximate functional dependence of the error on N for large N, for example $N \u2265 10^4$?\n"
     ]
    },
    {
     "cell_type": "code",
     "collapsed": false,
     "input": [
      "func = lambda x: 4. * (1. - ( x ** 2.)) ** (1. / 2.)\n",
      "h = np.arange(0, 1, .0001)\n",
      "\n",
      "hmin = 0 ; hmax = 1\n",
      "\n",
      "subh = h[logical_and((h > hmin),(h < hmax))]\n",
      "ymax = func(subh).max()*1.03\n",
      "ymin = 0.\n",
      "\n",
      "N = np.logspace(1., 6., 100)\n",
      "err = []\n",
      "for i in N:\n",
      "    samples_h = hmin + (hmax - hmin) * np.random.random_sample(i);\n",
      "    samples_y = ymin + (ymax - ymin) * np.random.random_sample(i);\n",
      "    newmask = (samples_y < func(samples_h))\n",
      "    I = (hmax - hmin) * (ymax - ymin) * newmask.sum() / newmask.size\n",
      "    \n",
      "    err.append((abs(np.pi - I) / np.pi) * 100)\n",
      "plt.plot(log(err), log(N))\n",
      "plt.show()"
     ],
     "language": "python",
     "metadata": {},
     "outputs": [
      {
       "metadata": {},
       "output_type": "display_data",
       "png": "[encoded data removed]",
       "text": [
        "<matplotlib.figure.Figure at 0x101e1de50>"
       ]
      }
     ],
     "prompt_number": 3
    },
    {
     "cell_type": "markdown",
     "metadata": {},
     "source": [
      "Well that doesn't seem right at all, but just looking at the generated err numbers I can see that for N greater than $10^4$ the error is less than 1%:"
     ]
    },
    {
     "cell_type": "code",
     "collapsed": false,
     "input": [
      "N = np.logspace(4., 6., 100)\n",
      "err = []\n",
      "for i in N:\n",
      "    samples_h = hmin + (hmax - hmin) * np.random.random_sample(i);\n",
      "    samples_y = ymin + (ymax - ymin) * np.random.random_sample(i);\n",
      "    newmask = (samples_y < func(samples_h))\n",
      "    I = (hmax - hmin) * (ymax - ymin) * newmask.sum() / newmask.size\n",
      "    \n",
      "    err.append((abs(np.pi - I) / np.pi) * 100)\n",
      "print err"
     ],
     "language": "python",
     "metadata": {},
     "outputs": [
      {
       "output_type": "stream",
       "stream": "stdout",
       "text": [
        "[0.23900836576101586, 0.52345263359941607, 0.86136281163739192, 0.69899455564808122, 0.071679056497529134, 0.628707931549912, 0.5335910429089894, 0.54369958904248561, 0.55751718744902379, 0.098542280129702023, 0.22142644871441444, 0.11507952144937002, 0.23324855067621519, 0.096713561579906238, 0.0028642818657020645, 0.35639539855245511, 0.36968662739388602, 0.11071780801657616, 0.70412645088992409, 0.31325158352735427, 0.52123956769543078, 0.76828368720208517, 0.4845677152457285, 0.10108789218098435, 0.58012811901144334, 0.2484957037055959, 0.40969234847861363, 0.25371613366891044, 0.18231390122729296, 0.15928587713965339, 0.30547030271160619, 0.2307037895135389, 0.45678453119500256, 0.71902698225798201, 0.16834246116567503, 0.20425910071119291, 0.061988061699857482, 0.07062334321031899, 0.13197748498794681, 0.31286564093821567, 0.40996846496431416, 0.2921713982548223, 0.14580839383377189, 0.17788804782096343, 0.055782541843119197, 0.031506523247538706, 0.16922695495476292, 0.36610625275054903, 0.40942298694886387, 0.19120871196351077, 0.21072662348021221, 0.08345758217255439, 0.1116991151816922, 0.095180261472528616, 0.064700592324135373, 0.26586360539955156, 0.3214588886667033, 0.0095070777493187104, 0.3377680338993212, 0.27426019832549164, 0.033713742588438407, 0.08043844824629133, 0.084921882662770426, 0.19370696365350132, 0.12373576062147607, 0.22160916370373315, 0.27765582647379811, 0.045373702892620785, 4.5304163534524015e-05, 0.079498806204476441, 0.13285491428774948, 0.054105831978554807, 0.10881244027555909, 0.18229545102768488, 0.12401568476023324, 0.032055725637744774, 0.050351278716885856, 0.031712649139841648, 0.065618612324882156, 0.10444462380228038, 0.077106566104156435, 0.0025186542843560864, 0.043678479586369688, 0.073965748481589405, 0.10697232968353558, 0.11374528222717346, 0.16461209769200849, 0.027231121944913894, 0.072839966014620935, 0.014567452970710631, 0.044192959634507228, 0.051945904777448405, 0.065971656439873044, 0.028787536022804185, 0.010202143835327779, 0.034931364714374184, 0.074309751094676899, 0.009712498548129625, 0.03705083156325141, 0.0081974568110142962]\n"
       ]
      }
     ],
     "prompt_number": 5
    },
    {
     "cell_type": "markdown",
     "metadata": {},
     "source": [
      "\n",
      "\n",
      "(c) Estimate the same integral using the sample mean method and compute the statistical uncertainty and error as a function of the number of samples N for $N \u2265 10^4$. Use at least 100 different values for N.\n",
      "\n",
      "Make a log-log plot of both the statistical uncertainty and the error as a function of N.\n",
      "\n",
      "How many samples are needed to determine the result to two decimal places? What is the approximate functional dependence of the error on N for large N?\n"
     ]
    },
    {
     "cell_type": "code",
     "collapsed": false,
     "input": [
      "smm_func = lambda x: 4. * (1. - ( x ** 2.)) ** (1. / 2.)\n",
      "N = np.logspace(4, 6, 100)\n",
      "xmin = 0 ; xmax = 1\n",
      "\n",
      "unc = []\n",
      "err = []\n",
      "\n",
      "for i in N:\n",
      "    x = xmin + (xmax - xmin) * np.random.random_sample(i);\n",
      "    \n",
      "    I = smm_func(x).mean() * (xmax - xmin)\n",
      "    Unc = (xmax - xmin) * np.sqrt(((smm_func(x) ** 2).mean() - (smm_func(x).mean())**2) / i)\n",
      "    Err = 100 * (abs(np.pi - I) / np.pi)\n",
      "    unc.append(Unc)\n",
      "    err.append(Err)\n",
      "    print \"N = \", i\n",
      "    print I\n",
      "    print \"% Error = \" , Err\n",
      "    print \"Uncertainty = \", Unc\n",
      "    print"
     ],
     "language": "python",
     "metadata": {},
     "outputs": [
      {
       "output_type": "stream",
       "stream": "stdout",
       "text": [
        "N =  10000.0\n",
        "3.14826185149\n",
        "% Error =  0.212287162456\n",
        "Uncertainty =  0.00885957489589\n",
        "\n",
        "N =  10476.1575279\n",
        "3.14810118945\n",
        "% Error =  0.207173130817\n",
        "Uncertainty =  0.00870342345991\n",
        "\n",
        "N =  10974.9876549\n",
        "3.15201740175\n",
        "% Error =  0.331830039931\n",
        "Uncertainty =  0.00848712522392\n",
        "\n",
        "N =  11497.569954\n",
        "3.1408334235\n",
        "% Error =  0.0241670442333\n",
        "Uncertainty =  0.0082953116297\n",
        "\n",
        "N =  12045.0354026\n",
        "3.12504214482\n",
        "% Error =  0.526819056233\n",
        "Uncertainty =  0.00817576210007\n",
        "\n",
        "N =  12618.5688307\n",
        "3.13900691956\n",
        "% Error =  0.082306470496\n",
        "Uncertainty =  0.00794260937256\n",
        "\n",
        "N =  13219.4114847\n",
        "3.14001801947\n",
        "% Error =  0.050122160813\n",
        "Uncertainty =  0.00772958871352\n",
        "\n",
        "N =  13848.8637139\n",
        "3.13511020467\n",
        "% Error =  0.20634275784\n",
        "Uncertainty =  0.00758919862455\n",
        "\n",
        "N =  14508.287785\n",
        "3.13620314429\n",
        "% Error =  0.171553409203\n",
        "Uncertainty =  0.00744451671137\n",
        "\n",
        "N =  15199.1108295\n",
        "3.14103463359\n",
        "% Error =  0.0177623283505\n",
        "Uncertainty =  0.00721117101614\n",
        "\n",
        "N =  15922.8279334\n",
        "3.1441695254\n",
        "% Error =  0.0820243772946\n",
        "Uncertainty =  0.00708299293138\n",
        "\n",
        "N =  16681.005372\n",
        "3.13674876128\n",
        "% Error =  0.154185881076\n",
        "Uncertainty =  0.0069889781728\n",
        "\n",
        "N =  17475.2840001\n",
        "3.14632752469\n",
        "% Error =  0.150715628209\n",
        "Uncertainty =  0.00670829194862\n",
        "\n",
        "N =  18307.382803\n",
        "3.13895571988\n",
        "% Error =  0.0839362069097\n",
        "Uncertainty =  0.00662361120911\n",
        "\n",
        "N =  19179.1026167\n",
        "3.1456734914\n",
        "% Error =  0.129897102039\n",
        "Uncertainty =  0.0063907015793\n",
        "\n",
        "N =  20092.3300257\n",
        "3.15411502563\n",
        "% Error =  0.398599481798\n",
        "Uncertainty =  0.00622668162744\n",
        "\n",
        "N = "
       ]
      },
      {
       "output_type": "stream",
       "stream": "stdout",
       "text": [
        " 21049.0414451\n",
        "3.14207221665\n",
        "% Error =  0.0152649662973\n",
        "Uncertainty =  0.00616827463976\n",
        "\n",
        "N =  22051.307399\n",
        "3.14509844401\n",
        "% Error =  0.111592774952\n",
        "Uncertainty =  0.0059911133066\n",
        "\n",
        "N =  23101.2970008\n",
        "3.14544828047\n",
        "% Error =  0.12272841543\n",
        "Uncertainty =  0.00586336135494\n",
        "\n",
        "N =  24201.2826479\n",
        "3.14566567588\n",
        "% Error =  0.129648326271\n",
        "Uncertainty =  0.00575038514672\n",
        "\n",
        "N =  25353.6449397\n",
        "3.14572370947\n",
        "% Error =  0.13149559274\n",
        "Uncertainty =  0.00558411231796\n",
        "\n",
        "N =  26560.8778295\n",
        "3.13279720102\n",
        "% Error =  0.279967950552\n",
        "Uncertainty =  0.00548967377423\n",
        "\n",
        "N =  27825.5940221\n",
        "3.14384305669\n",
        "% Error =  0.071632555329\n",
        "Uncertainty =  0.0053338553196\n",
        "\n",
        "N =  29150.5306283\n",
        "3.14684932833\n",
        "% Error =  0.167325153823\n",
        "Uncertainty =  0.00520789581785\n",
        "\n",
        "N =  30538.5550883\n",
        "3.14769268845\n",
        "% Error =  0.194170140247\n",
        "Uncertainty =  0.00508061419794\n",
        "\n",
        "N =  31992.671378\n",
        "3.14818635539\n",
        "% Error =  0.209884047058\n",
        "Uncertainty =  0.00498165973433\n",
        "\n",
        "N =  33516.0265094\n",
        "3.13954564409\n",
        "% Error =  0.0651583361755\n",
        "Uncertainty =  0.00491325752827\n",
        "\n",
        "N =  35111.9173422\n",
        "3.13408962401\n",
        "% Error =  0.238828849006\n",
        "Uncertainty =  0.00480233132368\n",
        "\n",
        "N =  36783.7977183\n",
        "3.13317583644\n",
        "% Error =  0.267915610939\n",
        "Uncertainty =  0.0046784020525\n",
        "\n",
        "N =  38535.2859371\n",
        "3.1487765455\n",
        "% Error =  0.228670381542\n",
        "Uncertainty =  0.00452287948816\n",
        "\n",
        "N =  40370.172586\n",
        "3.14523780553\n",
        "% Error =  0.116028789914\n",
        "Uncertainty =  0.00443514348058\n",
        "\n",
        "N =  42292.4287439\n",
        "3.13433011029\n",
        "% Error =  0.231173933063\n",
        "Uncertainty =  0.00436884809041\n",
        "\n",
        "N = "
       ]
      },
      {
       "output_type": "stream",
       "stream": "stdout",
       "text": [
        " 44306.2145758\n",
        "3.14404109167\n",
        "% Error =  0.0779362045204\n",
        "Uncertainty =  0.00424206137876\n",
        "\n",
        "N =  46415.8883361\n",
        "3.14841700811\n",
        "% Error =  0.217225950981\n",
        "Uncertainty =  0.0041458073659\n",
        "\n",
        "N =  48626.0158007\n",
        "3.14276624549\n",
        "% Error =  0.037356590519\n",
        "Uncertainty =  0.00404820404443\n",
        "\n",
        "N =  50941.3801482\n",
        "3.13949761947\n",
        "% Error =  0.0666870073183\n",
        "Uncertainty =  0.0039554004434\n",
        "\n",
        "N =  53366.9923121\n",
        "3.13855356991\n",
        "% Error =  0.0967370380244\n",
        "Uncertainty =  0.00386900292271\n",
        "\n",
        "N =  55908.1018251\n",
        "3.1415241869\n",
        "% Error =  0.00217936249471\n",
        "Uncertainty =  0.00377633281959\n",
        "\n",
        "N =  58570.2081806\n",
        "3.14015337625\n",
        "% Error =  0.0458136207072\n",
        "Uncertainty =  0.00368897079448\n",
        "\n",
        "N =  61359.0727341\n",
        "3.14728817941\n",
        "% Error =  0.181294217504\n",
        "Uncertainty =  0.00358301503203\n",
        "\n",
        "N =  64280.7311728\n",
        "3.13974902974\n",
        "% Error =  0.0586843697303\n",
        "Uncertainty =  0.00352438446101\n",
        "\n",
        "N = "
       ]
      },
      {
       "output_type": "stream",
       "stream": "stdout",
       "text": [
        " 67341.5065775\n",
        "3.14017763356\n",
        "% Error =  0.0450414865335\n",
        "Uncertainty =  0.00344005431735\n",
        "\n",
        "N =  70548.0231072\n",
        "3.13557891905\n",
        "% Error =  0.191423115837\n",
        "Uncertainty =  0.0033704194319\n",
        "\n",
        "N =  73907.2203353\n",
        "3.14582483516\n",
        "% Error =  0.134714523277\n",
        "Uncertainty =  0.00327414599211\n",
        "\n",
        "N =  77426.3682681\n",
        "3.14134534322\n",
        "% Error =  0.00787213360398\n",
        "Uncertainty =  0.00321195664995\n",
        "\n",
        "N =  81113.083079\n",
        "3.14657751761\n",
        "% Error =  0.158673150019\n",
        "Uncertainty =  0.00312438866819\n",
        "\n",
        "N =  84975.3435909\n",
        "3.1489307501\n",
        "% Error =  0.23357886653\n",
        "Uncertainty =  0.00304416815357\n",
        "\n",
        "N = "
       ]
      },
      {
       "output_type": "stream",
       "stream": "stdout",
       "text": [
        " 89021.5085445\n",
        "3.13997268372\n",
        "% Error =  0.0515652424336\n",
        "Uncertainty =  0.0029999508776\n",
        "\n",
        "N =  93260.3346883\n",
        "3.13798412966\n",
        "% Error =  0.114862884171\n",
        "Uncertainty =  0.00292415274961\n",
        "\n",
        "N =  97700.9957299\n",
        "3.14356626925\n",
        "% Error =  0.062822137659\n",
        "Uncertainty =  0.00285135250229\n",
        "\n",
        "N =  102353.10219\n",
        "3.14302377104\n",
        "% Error =  0.045553883302\n",
        "Uncertainty =  0.00278193846384\n",
        "\n",
        "N =  107226.722201\n",
        "3.1377960819\n",
        "% Error =  0.120848630305\n",
        "Uncertainty =  0.00273881938098\n",
        "\n",
        "N = "
       ]
      },
      {
       "output_type": "stream",
       "stream": "stdout",
       "text": [
        " 112332.403298\n",
        "3.14524264153\n",
        "% Error =  0.116182724577\n",
        "Uncertainty =  0.00265651513302\n",
        "\n",
        "N =  117681.195243\n",
        "3.14060010302\n",
        "% Error =  0.0315938658036\n",
        "Uncertainty =  0.00259719694459\n",
        "\n",
        "N =  123284.673944\n",
        "3.14078490735\n",
        "% Error =  0.0257113614746\n",
        "Uncertainty =  0.00254508967658\n",
        "\n",
        "N =  129154.966501\n",
        "3.13996309133\n",
        "% Error =  0.0518705778473\n",
        "Uncertainty =  0.0024895166928\n",
        "\n",
        "N = "
       ]
      },
      {
       "output_type": "stream",
       "stream": "stdout",
       "text": [
        " 135304.777458\n",
        "3.13930561013\n",
        "% Error =  0.0727988544743\n",
        "Uncertainty =  0.00243109723136\n",
        "\n",
        "N =  141747.416293\n",
        "3.13932256291\n",
        "% Error =  0.0722592307257\n",
        "Uncertainty =  0.00237762306793\n",
        "\n",
        "N =  148496.826225\n",
        "3.14462370328\n",
        "% Error =  0.0964813081681\n",
        "Uncertainty =  0.00231083972975\n",
        "\n",
        "N = "
       ]
      },
      {
       "output_type": "stream",
       "stream": "stdout",
       "text": [
        " 155567.614393\n",
        "3.144136481\n",
        "% Error =  0.080972541191\n",
        "Uncertainty =  0.00226215716052\n",
        "\n",
        "N =  162975.083462\n",
        "3.14073375599\n",
        "% Error =  0.0273395598692\n",
        "Uncertainty =  0.00220972807393\n",
        "\n",
        "N =  170735.264747\n",
        "3.13893575159\n",
        "% Error =  0.084571817447\n",
        "Uncertainty =  0.00215921850652\n",
        "\n",
        "N = "
       ]
      },
      {
       "output_type": "stream",
       "stream": "stdout",
       "text": [
        " 178864.952906\n",
        "3.14285948864\n",
        "% Error =  0.0403246120012\n",
        "Uncertainty =  0.00210813201161\n",
        "\n",
        "N =  187381.742286\n",
        "3.14492636215\n",
        "% Error =  0.106115239255\n",
        "Uncertainty =  0.00205880006693\n",
        "\n",
        "N = "
       ]
      },
      {
       "output_type": "stream",
       "stream": "stdout",
       "text": [
        " 196304.065004\n",
        "3.13923496354\n",
        "% Error =  0.0750476050918\n",
        "Uncertainty =  0.00201489186522\n",
        "\n",
        "N =  205651.230835\n",
        "3.14463229582\n",
        "% Error =  0.0967548171406\n",
        "Uncertainty =  0.00196934280764\n",
        "\n",
        "N = "
       ]
      },
      {
       "output_type": "stream",
       "stream": "stdout",
       "text": [
        " 215443.469003\n",
        "3.14446433113\n",
        "% Error =  0.0914083350678\n",
        "Uncertainty =  0.00192071866197\n",
        "\n",
        "N =  225701.971963\n",
        "3.14159238871\n",
        "% Error =  8.43137123613e-06\n",
        "Uncertainty =  0.00188125858315\n",
        "\n",
        "N = "
       ]
      },
      {
       "output_type": "stream",
       "stream": "stdout",
       "text": [
        " 236448.941265\n",
        "3.14335189187\n",
        "% Error =  0.0559982935403\n",
        "Uncertainty =  0.00183502992975\n",
        "\n",
        "N =  247707.635599\n",
        "3.14188696646\n",
        "% Error =  0.00936826953724\n",
        "Uncertainty =  0.00179054586717\n",
        "\n",
        "N = "
       ]
      },
      {
       "output_type": "stream",
       "stream": "stdout",
       "text": [
        " 259502.42114\n",
        "3.14134967905\n",
        "% Error =  0.00773411970958\n",
        "Uncertainty =  0.00175336207539\n",
        "\n",
        "N = "
       ]
      },
      {
       "output_type": "stream",
       "stream": "stdout",
       "text": [
        " 271858.824273\n",
        "3.13885726673\n",
        "% Error =  0.0870700681256\n",
        "Uncertainty =  0.00171466711499\n",
        "\n",
        "N = "
       ]
      },
      {
       "output_type": "stream",
       "stream": "stdout",
       "text": [
        " 284803.586844\n",
        "3.14034167007\n",
        "% Error =  0.0398200422494\n",
        "Uncertainty =  0.00167512161613\n",
        "\n",
        "N = "
       ]
      },
      {
       "output_type": "stream",
       "stream": "stdout",
       "text": [
        " 298364.724028\n",
        "3.14174789797\n",
        "% Error =  0.00494158195001\n",
        "Uncertainty =  0.00163519081628\n",
        "\n",
        "N = "
       ]
      },
      {
       "output_type": "stream",
       "stream": "stdout",
       "text": [
        " 312571.584969\n",
        "3.13969706342\n",
        "% Error =  0.0603385091258\n",
        "Uncertainty =  0.00159787561142\n",
        "\n",
        "N = "
       ]
      },
      {
       "output_type": "stream",
       "stream": "stdout",
       "text": [
        " 327454.916288\n",
        "3.14300327862\n",
        "% Error =  0.0449015894172\n",
        "Uncertainty =  0.00156163056704\n",
        "\n",
        "N = "
       ]
      },
      {
       "output_type": "stream",
       "stream": "stdout",
       "text": [
        " 343046.928631\n",
        "3.1422533214\n",
        "% Error =  0.0210297093935\n",
        "Uncertainty =  0.00152253417939\n",
        "\n",
        "N = "
       ]
      },
      {
       "output_type": "stream",
       "stream": "stdout",
       "text": [
        " 359381.36638\n",
        "3.13951733168\n",
        "% Error =  0.0660595481171\n",
        "Uncertainty =  0.00149264790178\n",
        "\n",
        "N = "
       ]
      },
      {
       "output_type": "stream",
       "stream": "stdout",
       "text": [
        " 376493.580679\n",
        "3.14215715681\n",
        "% Error =  0.0179686957257\n",
        "Uncertainty =  0.00145487637442\n",
        "\n",
        "N = "
       ]
      },
      {
       "output_type": "stream",
       "stream": "stdout",
       "text": [
        " 394420.605944\n",
        "3.14212805125\n",
        "% Error =  0.0170422369668\n",
        "Uncertainty =  0.00142054629712\n",
        "\n",
        "N = "
       ]
      },
      {
       "output_type": "stream",
       "stream": "stdout",
       "text": [
        " 413201.240012\n",
        "3.14263736453\n",
        "% Error =  0.0332541821944\n",
        "Uncertainty =  0.00138772144091\n",
        "\n",
        "N = "
       ]
      },
      {
       "output_type": "stream",
       "stream": "stdout",
       "text": [
        " 432876.128108\n",
        "3.14031498278\n",
        "% Error =  0.0406695249293\n",
        "Uncertainty =  0.00135792324963\n",
        "\n",
        "N = "
       ]
      },
      {
       "output_type": "stream",
       "stream": "stdout",
       "text": [
        " 453487.850813\n",
        "3.1415663221\n",
        "% Error =  0.00083815724128\n",
        "Uncertainty =  0.00132565545403\n",
        "\n",
        "N = "
       ]
      },
      {
       "output_type": "stream",
       "stream": "stdout",
       "text": [
        " 475081.01621\n",
        "3.14130617681\n",
        "% Error =  0.00911883908759\n",
        "Uncertainty =  0.00129491673532\n",
        "\n",
        "N = "
       ]
      },
      {
       "output_type": "stream",
       "stream": "stdout",
       "text": [
        " 497702.356433\n",
        "3.13946005657\n",
        "% Error =  0.067882671331\n",
        "Uncertainty =  0.00126685132929\n",
        "\n",
        "N = "
       ]
      },
      {
       "output_type": "stream",
       "stream": "stdout",
       "text": [
        " 521400.8288\n",
        "3.14412651493\n",
        "% Error =  0.0806553115624\n",
        "Uncertainty =  0.00123398584443\n",
        "\n",
        "N = "
       ]
      },
      {
       "output_type": "stream",
       "stream": "stdout",
       "text": [
        " 546227.721768\n",
        "3.1420118645\n",
        "% Error =  0.0133438978188\n",
        "Uncertainty =  0.00120841176257\n",
        "\n",
        "N = "
       ]
      },
      {
       "output_type": "stream",
       "stream": "stdout",
       "text": [
        " 572236.765935\n",
        "3.1407261554\n",
        "% Error =  0.0275814939575\n",
        "Uncertainty =  0.0011812612518\n",
        "\n",
        "N = "
       ]
      },
      {
       "output_type": "stream",
       "stream": "stdout",
       "text": [
        " 599484.250319\n",
        "3.14007458642\n",
        "% Error =  0.0483215787431\n",
        "Uncertainty =  0.00115255522381\n",
        "\n",
        "N = "
       ]
      },
      {
       "output_type": "stream",
       "stream": "stdout",
       "text": [
        " 628029.144183\n",
        "3.14183284197\n",
        "% Error =  0.0076454334563\n",
        "Uncertainty =  0.00112616651286\n",
        "\n",
        "N = "
       ]
      },
      {
       "output_type": "stream",
       "stream": "stdout",
       "text": [
        " 657933.224658\n",
        "3.14368316955\n",
        "% Error =  0.0665431896809\n",
        "Uncertainty =  0.00109935774655\n",
        "\n",
        "N = "
       ]
      },
      {
       "output_type": "stream",
       "stream": "stdout",
       "text": [
        " 689261.210435\n",
        "3.14095053615\n",
        "% Error =  0.0204392329095\n",
        "Uncertainty =  0.00107598547346\n",
        "\n",
        "N = "
       ]
      },
      {
       "output_type": "stream",
       "stream": "stdout",
       "text": [
        " 722080.901839\n",
        "3.14158715709\n",
        "% Error =  0.000174959098985\n",
        "Uncertainty =  0.0010505909704\n",
        "\n",
        "N = "
       ]
      },
      {
       "output_type": "stream",
       "stream": "stdout",
       "text": [
        " 756463.327555\n",
        "3.1400648729\n",
        "% Error =  0.0486307696317\n",
        "Uncertainty =  0.00102677808474\n",
        "\n",
        "N = "
       ]
      },
      {
       "output_type": "stream",
       "stream": "stdout",
       "text": [
        " 792482.898354\n",
        "3.14124989593\n",
        "% Error =  0.0109103151986\n",
        "Uncertainty =  0.00100329765859\n",
        "\n",
        "N = "
       ]
      },
      {
       "output_type": "stream",
       "stream": "stdout",
       "text": [
        " 830217.568132\n",
        "3.14088153085\n",
        "% Error =  0.0226357399001\n",
        "Uncertainty =  0.000980506465594\n",
        "\n",
        "N = "
       ]
      },
      {
       "output_type": "stream",
       "stream": "stdout",
       "text": [
        " 869749.002618\n",
        "3.14142508128\n",
        "% Error =  0.00533399243978\n",
        "Uncertainty =  0.000957395883783\n",
        "\n",
        "N = "
       ]
      },
      {
       "output_type": "stream",
       "stream": "stdout",
       "text": [
        " 911162.756115\n",
        "3.14154723295\n",
        "% Error =  0.00144578399838\n",
        "Uncertainty =  0.000935298118071\n",
        "\n",
        "N = "
       ]
      },
      {
       "output_type": "stream",
       "stream": "stdout",
       "text": [
        " 954548.456662\n",
        "3.1419463894\n",
        "% Error =  0.0112597606034\n",
        "Uncertainty =  0.000913900751121\n",
        "\n",
        "N = "
       ]
      },
      {
       "output_type": "stream",
       "stream": "stdout",
       "text": [
        " 1000000.0\n",
        "3.14314927754\n",
        "% Error =  0.0495488791881\n",
        "Uncertainty =  0.000891821382768\n",
        "\n"
       ]
      }
     ],
     "prompt_number": 6
    },
    {
     "cell_type": "code",
     "collapsed": false,
     "input": [
      "plt.plot(log(err), log(N)) ; plt.show()\n",
      "plt.plot(log(unc), log(N), 'g') ; plt.show()"
     ],
     "language": "python",
     "metadata": {},
     "outputs": [
      {
       "metadata": {},
       "output_type": "display_data",
       "png": "[encoded data removed]",
       "text": [
        "<matplotlib.figure.Figure at 0x10521a710>"
       ]
      },
      {
       "metadata": {},
       "output_type": "display_data",
       "png": "[encoded data removed]",
       "text": [
        "<matplotlib.figure.Figure at 0x105225fd0>"
       ]
      }
     ],
     "prompt_number": 7
    },
    {
     "cell_type": "code",
     "collapsed": false,
     "input": [],
     "language": "python",
     "metadata": {},
     "outputs": []
    }
   ],
   "metadata": {}
  }
 ]
}