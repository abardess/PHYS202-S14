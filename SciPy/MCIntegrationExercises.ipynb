{
 "metadata": {
  "name": "",
  "signature": "sha256:775f291c305d6ec0b4ffb7a90f79aecb5800c9a96354a3a679e67429a78d8d79"
 },
 "nbformat": 3,
 "nbformat_minor": 0,
 "worksheets": [
  {
   "cells": [
    {
     "cell_type": "heading",
     "level": 1,
     "metadata": {},
     "source": [
      "Monte Carlo Integration Exercises"
     ]
    },
    {
     "cell_type": "code",
     "collapsed": false,
     "input": [
      "%pylab inline\n",
      "import numpy as np\n",
      "import matplotlib.pyplot as plt\n",
      "from Electrostatics import *"
     ],
     "language": "python",
     "metadata": {},
     "outputs": [
      {
       "output_type": "stream",
       "stream": "stdout",
       "text": [
        "Populating the interactive namespace from numpy and matplotlib\n"
       ]
      }
     ],
     "prompt_number": 2
    },
    {
     "cell_type": "markdown",
     "metadata": {},
     "source": [
      "Question 1\n",
      "\n",
      "\n",
      "(a) Use the sample mean method to compute the potential at point $P(2,3)$ due to the disk of charge for different numbers of samples $N=(101,102,103,104,105,106)$. Report the value and its statistical uncertainty for each sample size. How does the result depend on N?\n",
      "\n",
      "\n",
      "$V = \\frac{kQ}r$\n",
      "\n",
      "$dQ = \u03c3 * dA$\n",
      "\n",
      "$ Q = \\int \u03c3 dA$"
     ]
    },
    {
     "cell_type": "code",
     "collapsed": false,
     "input": [
      "k = 8.987 * (10 ** 9) # N-m^2 / C^2\n",
      "o = 1 * (10 ** - 6) #C / m^2\n",
      "Q = \n",
      "V = lambda dQ: k * Q  / r\n",
      "r = lambda x, y: ((x ** 2) + (y ** 2)) ** (1 / 2)"
     ],
     "language": "python",
     "metadata": {},
     "outputs": []
    }
   ],
   "metadata": {}
  }
 ]
}