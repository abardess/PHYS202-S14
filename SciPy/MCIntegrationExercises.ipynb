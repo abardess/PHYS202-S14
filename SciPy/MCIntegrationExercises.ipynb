{
 "metadata": {
  "name": "",
  "signature": "sha256:e75c81c29ad1dfc9c7e47e89a5a774a32a2a9f882defa4b5fe22229580ddf49d"
 },
 "nbformat": 3,
 "nbformat_minor": 0,
 "worksheets": [
  {
   "cells": [
    {
     "cell_type": "heading",
     "level": 1,
     "metadata": {},
     "source": [
      "Monte Carlo Integration Exercises"
     ]
    },
    {
     "cell_type": "code",
     "collapsed": false,
     "input": [
      "%pylab inline\n",
      "import numpy as np\n",
      "import matplotlib.pyplot as plt\n",
      "from Electrostatics import *"
     ],
     "language": "python",
     "metadata": {},
     "outputs": [
      {
       "output_type": "stream",
       "stream": "stdout",
       "text": [
        "Populating the interactive namespace from numpy and matplotlib\n"
       ]
      }
     ],
     "prompt_number": 2
    },
    {
     "cell_type": "markdown",
     "metadata": {},
     "source": [
      "Question 1\n",
      "\n",
      "\n",
      "(a) Use the sample mean method to compute the potential at point $P(2,3)$ due to the disk of charge for different numbers of samples $N=(10^1,10^2,10^3,10^4,10^5,10^6)$. Report the value and its statistical uncertainty for each sample size. How does the result depend on N?\n",
      "\n",
      "\n",
      "$V = \\frac{kQ}r$"
     ]
    },
    {
     "cell_type": "code",
     "collapsed": false,
     "input": [
      "sig = 1 #C * 10^-6 / m^2\n",
      "N = [10, 100, 1000, 10000, 100000, 1000000]\n",
      "A = 4\n",
      "\n",
      "xmin = -1\n",
      "xmax = 1\n",
      "ymin = 0\n",
      "ymax = 2\n",
      "\n",
      "q = sig * A\n",
      "f = pointPotential(x, y, q, 2, 3)\n",
      "\n",
      "for i in N:\n",
      "    x = xmin + (xmax - xmin) * np.random.random_sample(i)\n",
      "    y = ymin + (ymax - ymin) * np.random.random_sample(i)\n",
      "    Unc = (xmax - xmin) * (ymax - ymin) * np.sqrt( ((f ** 2).mean() - (f.mean()) ** 2) / i)\n",
      "    print \"N size = \" , i\n",
      "    print f.mean() * (xmax - xmin) * (ymax - ymin) * (10 ** -6), \"C\"\n",
      "    print \"Uncertainty: \", Unc * (10 ** - 6)\n",
      "    print"
     ],
     "language": "python",
     "metadata": {},
     "outputs": [
      {
       "output_type": "stream",
       "stream": "stdout",
       "text": [
        "N size =  10\n",
        "26048.3171567 C\n",
        "Uncertainty:  3756.97841887\n",
        "\n",
        "N size =  100\n",
        "26048.3171567 C\n",
        "Uncertainty:  1188.06089237\n",
        "\n",
        "N size =  1000\n",
        "26048.3171567 C\n",
        "Uncertainty:  375.697841887\n",
        "\n",
        "N size =  10000\n",
        "26048.3171567 C\n",
        "Uncertainty:  118.806089237\n",
        "\n",
        "N size = "
       ]
      },
      {
       "output_type": "stream",
       "stream": "stdout",
       "text": [
        " 100000\n",
        "26048.3171567 C\n",
        "Uncertainty:  37.5697841887\n",
        "\n",
        "N size = "
       ]
      },
      {
       "output_type": "stream",
       "stream": "stdout",
       "text": [
        " 1000000\n",
        "26048.3171567 C\n",
        "Uncertainty:  11.8806089237\n",
        "\n"
       ]
      }
     ],
     "prompt_number": 17
    },
    {
     "cell_type": "markdown",
     "metadata": {},
     "source": [
      "Uncertainty of calculation decreases as N increases."
     ]
    },
    {
     "cell_type": "markdown",
     "metadata": {},
     "source": [
      "(b) Now use the same method to compute the electric potential, V, at point $P(2,3)$, from a disk centered on the origin with radius, $R = 1.2 m$, and charge density, $\u03c3 = 2 \\frac{nC}{m^2}$.\n",
      "\n",
      "The integral is\n",
      "\n",
      "$V=\\int_0^{2\u03c0}\\int_0^{1.2}\\frac{K \u03c3}{|r\u2212r_0|}rd\u03b8dr$"
     ]
    },
    {
     "cell_type": "code",
     "collapsed": false,
     "input": [
      "sig = 2. * (10 ** - 9) # C / m^2\n",
      "N = 100000\n",
      "R = 1.2 #m\n",
      "k = 8.987 * (10 ** 9) #Nm^2 / C^2 \n",
      "func = lambda r: (k * sig) / abs(r - R)\n",
      "\n",
      "rmin = 0 ; rmax = 1.2\n",
      "theta_min = 0 ; theta_max = 2 * np.pi\n",
      "\n",
      "r = (rmax - rmin) * np.random.random_sample(N)\n",
      "\n",
      "V = (rmax - rmin) * (theta_max - theta_min) * func(r).mean()\n",
      "\n",
      "print V"
     ],
     "language": "python",
     "metadata": {},
     "outputs": [
      {
       "output_type": "stream",
       "stream": "stdout",
       "text": [
        "2423.6664967\n"
       ]
      }
     ],
     "prompt_number": 82
    },
    {
     "cell_type": "markdown",
     "metadata": {},
     "source": [
      "Question 2\n",
      "\n",
      "Use the sample mean method to compute the volume of a sphere with radius 1 using spherical coordinates:\n",
      "\n",
      "$V=\u222b_0^{2\u03c0}\u222b_0^\u03c0\u222b_0^1r^2sin(\u03b8)dr d\u03b8 d\u03d5$\n",
      "\n",
      "for $N=(101,102,103,104,105,106)$.\n",
      "\n",
      "Report the value and statistical uncertainty for each sample size. How does the result depend on N?"
     ]
    },
    {
     "cell_type": "code",
     "collapsed": false,
     "input": [
      "N = [10, 100, 1000, 10000, 100000, 1000000]\n",
      "func = lambda r, theta, phi: (r ** 2) * np.sin(theta)\n",
      "\n",
      "rmin = 0 ; rmax = 1\n",
      "theta_min = 0 ; theta_max = np.pi\n",
      "phi_min = 0 ; phi_max = 2 * np.pi\n",
      "\n",
      "for i in N:\n",
      "    r = (rmax - rmin) * np.random.random_sample(i)\n",
      "    theta = (theta_max - theta_min) * np.random.random_sample(i)\n",
      "    phi = (phi_max - phi_min) * np.random.random_sample(i)\n",
      "\n",
      "    V = (rmax - rmin) * (theta_max - theta_min) * (phi_max - phi_min) * func(r, theta, phi).mean()\n",
      "\n",
      "    Unc = (rmax - rmin) * (theta_max - theta_min) * (phi_max - phi_min) * np.sqrt(((func(r, theta, phi) ** 2).mean() - (func(r, theta, phi).mean())**2) / i)\n",
      " \n",
      "    \n",
      "    print \"N =\", i\n",
      "    print V\n",
      "    print \"Uncertainty = \" , Unc\n",
      "    print \n",
      "    \n",
      "    "
     ],
     "language": "python",
     "metadata": {},
     "outputs": [
      {
       "output_type": "stream",
       "stream": "stdout",
       "text": [
        "N = 10\n",
        "4.19390082293\n",
        "Uncertainty =  1.23614737644\n",
        "\n",
        "N = 100\n",
        "4.39603690072\n",
        "Uncertainty =  0.526044020383\n",
        "\n",
        "N = 1000\n",
        "4.06202347057\n",
        "Uncertainty =  0.141819669355\n",
        "\n",
        "N = 10000\n",
        "4.23750476979\n",
        "Uncertainty =  0.0464398444553\n",
        "\n",
        "N ="
       ]
      },
      {
       "output_type": "stream",
       "stream": "stdout",
       "text": [
        " 100000\n",
        "4.171876699\n",
        "Uncertainty =  0.0146186246077\n",
        "\n",
        "N ="
       ]
      },
      {
       "output_type": "stream",
       "stream": "stdout",
       "text": [
        " 1000000\n",
        "4.18460089298\n",
        "Uncertainty =  0.00462733505764\n",
        "\n"
       ]
      }
     ],
     "prompt_number": 42
    },
    {
     "cell_type": "markdown",
     "metadata": {},
     "source": [
      "As N increases the uncertainty decreases."
     ]
    },
    {
     "cell_type": "markdown",
     "metadata": {},
     "source": [
      "Question 3\n",
      "\n",
      "(a) Use the hit or miss Monte Carlo method to estimate the integral of $f(x)=4\\sqrt{1\u2212x^2}$ in the interval $0 \u2264 x \u2264 1$ as a function of N, the number of samples. Let N range from 101 to 106 and use at least 100 different values for N.\n",
      "\n",
      "(np.logspace might be useful here to get evenly spaced values for N.)\n"
     ]
    },
    {
     "cell_type": "code",
     "collapsed": false,
     "input": [
      "func = lambda x: 4. * (1. - ( x ** 2.)) ** (1. / 2.)\n",
      "h = np.arange(0, 1, .0001)\n",
      "\n",
      "hmin = 0 ; hmax = 1\n",
      "\n",
      "subh = h[logical_and((h > hmin),(h < hmax))]\n",
      "ymax = func(subh).max()*1.03\n",
      "ymin = 0.\n",
      "\n",
      "N = np.logspace(10, 1000000, 100)\n",
      "for i in N\n",
      "    samples_h = hmin + (hmax - hmin) * np.random.random_sample(i);\n",
      "    samples_y = ymin + (ymax - ymin) * np.random.random_sample(i);\n",
      "    newmask = (samples_y < func(samples_h))\n",
      "    I = (hmax - hmin) * (ymax - ymin) * newmask.sum() / newmask.size\n",
      "    print \"N = \", i\n",
      "    print I\n",
      "    print"
     ],
     "language": "python",
     "metadata": {},
     "outputs": [
      {
       "ename": "SyntaxError",
       "evalue": "invalid syntax (<ipython-input-99-8bad3fe3b95e>, line 11)",
       "output_type": "pyerr",
       "traceback": [
        "\u001b[0;36m  File \u001b[0;32m\"<ipython-input-99-8bad3fe3b95e>\"\u001b[0;36m, line \u001b[0;32m11\u001b[0m\n\u001b[0;31m    for i in N\u001b[0m\n\u001b[0m              ^\u001b[0m\n\u001b[0;31mSyntaxError\u001b[0m\u001b[0;31m:\u001b[0m invalid syntax\n"
       ]
      }
     ],
     "prompt_number": 99
    },
    {
     "cell_type": "code",
     "collapsed": false,
     "input": [],
     "language": "python",
     "metadata": {},
     "outputs": []
    }
   ],
   "metadata": {}
  }
 ]
}