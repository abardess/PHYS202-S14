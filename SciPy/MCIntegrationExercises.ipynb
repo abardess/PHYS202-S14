{
 "metadata": {
  "name": "",
  "signature": "sha256:2ebd561de14bf3245a127c9089c41bf04828dee58f4df7befb66b5ec8ee0373e"
 },
 "nbformat": 3,
 "nbformat_minor": 0,
 "worksheets": [
  {
   "cells": [
    {
     "cell_type": "heading",
     "level": 1,
     "metadata": {},
     "source": [
      "Monte Carlo Integration Exercises"
     ]
    },
    {
     "cell_type": "code",
     "collapsed": false,
     "input": [
      "%pylab inline\n",
      "import numpy as np\n",
      "import matplotlib.pyplot as plt\n",
      "from Electrostatics import *"
     ],
     "language": "python",
     "metadata": {},
     "outputs": [
      {
       "output_type": "stream",
       "stream": "stdout",
       "text": [
        "Populating the interactive namespace from numpy and matplotlib\n"
       ]
      }
     ],
     "prompt_number": 35
    },
    {
     "cell_type": "markdown",
     "metadata": {},
     "source": [
      "Question 1\n",
      "\n",
      "\n",
      "(a) Use the sample mean method to compute the potential at point $P(2,3)$ due to the disk of charge for different numbers of samples $N=(10^1,10^2,10^3,10^4,10^5,10^6)$. Report the value and its statistical uncertainty for each sample size. How does the result depend on N?\n",
      "\n",
      "\n",
      "$V = \\frac{kQ}r$"
     ]
    },
    {
     "cell_type": "code",
     "collapsed": false,
     "input": [
      "help(pointPotential)"
     ],
     "language": "python",
     "metadata": {},
     "outputs": [
      {
       "output_type": "stream",
       "stream": "stdout",
       "text": [
        "Help on function pointPotential in module Electrostatics:\n",
        "\n",
        "pointPotential(x, y, q, Xc, Yc)\n",
        "    Return the electric potential for a point charge q at (Xc, Yc)\n",
        "    \n",
        "    Units returned are [Volts] if import units are [meters] and Coulombs]\n",
        "\n"
       ]
      }
     ],
     "prompt_number": 36
    },
    {
     "cell_type": "code",
     "collapsed": false,
     "input": [
      "sig = 1 #C * 10^-6 / m^2\n",
      "N = 10\n",
      "A = 1\n",
      "\n",
      "Xc = 2\n",
      "Yc = 3\n",
      "xmin = -1\n",
      "xmax = 1\n",
      "ymin = 0\n",
      "ymax = 2\n",
      "x = xmin + (xmax - xmin) * np.random.random_sample(N)\n",
      "y = ymin + (ymax - ymin) * np.random.random_sample(N)\n",
      "\n",
      "q = sig * A\n",
      "\n",
      "f = pointPotential(x, y, q, Xc, Yc)\n",
      "\n",
      "Unc = (xmax - xmin) * (ymax - ymin) * np.sqrt( ((f ** 2).mean() - (f.mean()) ** 2) / N)\n",
      "\n",
      "print f.mean() * (xmax - xmin) * (ymax - ymin) * (10 ** -6)\n",
      "print \"Uncertainty: \", Unc * (10 ** - 6)"
     ],
     "language": "python",
     "metadata": {},
     "outputs": [
      {
       "output_type": "stream",
       "stream": "stdout",
       "text": [
        "11762.9284241\n",
        "Uncertainty:  897.934494966\n"
       ]
      }
     ],
     "prompt_number": 47
    },
    {
     "cell_type": "markdown",
     "metadata": {},
     "source": [
      "(b) Now use the same method to compute the electric potential, V, at point P(2,3), from a disk centered on the origin with radius, R=1.2 m, and charge density, \u03c3 = 2 nC/m2.\n",
      "\n",
      "The integral is\n",
      "\n",
      "$V=\\int_0^{2\u03c0}\\int_0^{1.2}\\frac{K\u03c3}{|r\u2212r_0|}rd\u03b8dr$"
     ]
    },
    {
     "cell_type": "code",
     "collapsed": false,
     "input": [],
     "language": "python",
     "metadata": {},
     "outputs": []
    }
   ],
   "metadata": {}
  }
 ]
}