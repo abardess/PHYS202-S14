{
 "metadata": {
  "name": "",
  "signature": "sha256:3687cf8a550046a33ada2436739bdff967a4517d304fe341929b3af51cf05baa"
 },
 "nbformat": 3,
 "nbformat_minor": 0,
 "worksheets": [
  {
   "cells": [
    {
     "cell_type": "heading",
     "level": 1,
     "metadata": {},
     "source": [
      "Random Numbers, Monte Carlo Sampling, and Simulation Exercises"
     ]
    },
    {
     "cell_type": "code",
     "collapsed": false,
     "input": [
      "%pylab inline\n",
      "import numpy as np\n",
      "import matplotlib.pyplot as plot"
     ],
     "language": "python",
     "metadata": {},
     "outputs": [
      {
       "output_type": "stream",
       "stream": "stdout",
       "text": [
        "Populating the interactive namespace from numpy and matplotlib\n"
       ]
      }
     ],
     "prompt_number": 1
    },
    {
     "cell_type": "markdown",
     "metadata": {},
     "source": [
      "Question 1\n",
      "\n",
      "(a) Solve for the CDF of the Weibull distribution analytically, using\n",
      "\n",
      "$F(x)= \\int_{\u2212\u221e}^xf(t)dt$"
     ]
    },
    {
     "cell_type": "code",
     "collapsed": false,
     "input": [
      "f = lambda x: alpha * (beta ** -alpha) * (x ** (alpha - 1)) * (e ** -((x/beta) ** alpha))\n",
      "F = lambda x: 1 - e ** (- ((x / beta ) ** alpha))\n"
     ],
     "language": "python",
     "metadata": {},
     "outputs": [],
     "prompt_number": 9
    },
    {
     "cell_type": "markdown",
     "metadata": {},
     "source": [
      "(b) Find the inverse of the CDF F\u22121(x) analytically."
     ]
    },
    {
     "cell_type": "code",
     "collapsed": false,
     "input": [
      "Fin = lambda x: beta * ((-np.log(1 - x)) ** (1 / alpha))"
     ],
     "language": "python",
     "metadata": {},
     "outputs": [],
     "prompt_number": 10
    },
    {
     "cell_type": "markdown",
     "metadata": {},
     "source": [
      "\n",
      "\n",
      "(c) Write a program to generate 10,000 samples from the Weibull distribution and plot the true distribution, the CDF and the sampled distribution as a histogram, all on the same graph. Let \u03b1 = 1.5, \u03b2 = 6.\n",
      "\n",
      "Note: Do not use the built-in Weibull function from numpy.random.\n"
     ]
    },
    {
     "cell_type": "code",
     "collapsed": false,
     "input": [
      "alpha = 1.5\n",
      "beta = 6\n",
      "N = 10000\n",
      "z = np.random.random_sample(N)\n",
      "xsamples = Fin(z)\n",
      "\n",
      "plt.hist(xsamples, 50, normed = True, label = \"Sampled Distribution\")\n",
      "plt.plot(z, f(z), label = 'True Distribution', lw = 3, color = 'red')\n",
      "\n",
      "plt.legend(loc = 0)\n",
      "plt.show()"
     ],
     "language": "python",
     "metadata": {},
     "outputs": [
      {
       "metadata": {},
       "output_type": "display_data",
       "png": "[encoded data removed]",
       "text": [
        "<matplotlib.figure.Figure at 0x1055f9a90>"
       ]
      }
     ],
     "prompt_number": 17
    },
    {
     "cell_type": "markdown",
     "metadata": {},
     "source": [
      "\n",
      "\n",
      "(d) Run the four statistical tests of randomness (mean, variance, chi-square, K-S) on your results from question 1(c). Does it pass all of them?\n"
     ]
    },
    {
     "cell_type": "code",
     "collapsed": false,
     "input": [
      "mean = (1. / N) * z.sum()\n",
      "\n",
      "variance = np.sqrt((1. / (N - 1)) * ((z - mean) ** 2).sum())\n",
      "\n",
      "chi_squared = ( ((O - E) ** 2) / E)\n",
      "\n",
      "print \"Mean = \", mean\n",
      "print \"Variance =\", variance\n",
      "print \"Chi-Square = \" , chi_squared"
     ],
     "language": "python",
     "metadata": {},
     "outputs": [
      {
       "output_type": "stream",
       "stream": "stdout",
       "text": [
        "Mean =  0.497065314608\n",
        "Variance = 0.28902400033\n"
       ]
      }
     ],
     "prompt_number": 25
    },
    {
     "cell_type": "code",
     "collapsed": false,
     "input": [],
     "language": "python",
     "metadata": {},
     "outputs": []
    }
   ],
   "metadata": {}
  }
 ]
}