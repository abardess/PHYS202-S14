{
 "metadata": {
  "name": "",
  "signature": "sha256:d516ff2e7acd52d29f851f699dd332b2af7f56f565c370e4a9fe44ebe9d00d67"
 },
 "nbformat": 3,
 "nbformat_minor": 0,
 "worksheets": [
  {
   "cells": [
    {
     "cell_type": "heading",
     "level": 1,
     "metadata": {},
     "source": [
      "OED Exercises"
     ]
    },
    {
     "cell_type": "code",
     "collapsed": false,
     "input": [
      "%pylab inline\n",
      "import numpy as np\n",
      "import matplotlib.pyplot as plt"
     ],
     "language": "python",
     "metadata": {},
     "outputs": [
      {
       "output_type": "stream",
       "stream": "stdout",
       "text": [
        "Populating the interactive namespace from numpy and matplotlib\n"
       ]
      }
     ],
     "prompt_number": 1
    },
    {
     "cell_type": "markdown",
     "metadata": {},
     "source": [
      "\n",
      "Question 1\n",
      "\n",
      "For this question refer to the solutions for the simple pendulum we got using scipy's odeint from the beginning of the ODE Tour.\n",
      "\n",
      "(a) Use the numerical solution to see what happens to the period of the pendulum as you change the initial angle of release. Plot $\u03b8$ vs. $t$ for 5 different initial angles, $\u03b8_0$ , spanning $0$ to $\u03c0$. (i.e. $0$, $\u03c0/4$ , $\u03c0/2$ , $3\u03c0/4$ , and $\u03c0$ ). Put them all on the same plot. What happens to the period of the pendulum as the initial angle increases from $\u03c0/4$ to $3\u03c0/4$? What happens to the trajectory when the initial angle is $0$ or $\u03c0$?\n"
     ]
    },
    {
     "cell_type": "code",
     "collapsed": false,
     "input": [],
     "language": "python",
     "metadata": {},
     "outputs": []
    }
   ],
   "metadata": {}
  }
 ]
}