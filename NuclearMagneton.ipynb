{
 "metadata": {
  "name": "",
  "signature": "sha256:6b954421fabd2a525f17d025bd52cdb6cf8bafc52ea9995c080f194af577acc4"
 },
 "nbformat": 3,
 "nbformat_minor": 0,
 "worksheets": [
  {
   "cells": [
    {
     "cell_type": "code",
     "collapsed": false,
     "input": [
      "%pylab inline\n",
      "import numpy as np\n",
      "import matplotlib.pyplot as plt\n",
      "from random import randint\n",
      "import scipy.optimize as optimization"
     ],
     "language": "python",
     "metadata": {},
     "outputs": [
      {
       "output_type": "stream",
       "stream": "stdout",
       "text": [
        "Populating the interactive namespace from numpy and matplotlib\n"
       ]
      }
     ],
     "prompt_number": 1
    },
    {
     "cell_type": "code",
     "collapsed": false,
     "input": [
      "def saveplot(path, ext='png', close=True, verbose=True):\n",
      "    import os\n",
      "    \"\"\"Save a figure from pyplot.\n",
      "    Parameters\n",
      "    ----------\n",
      "    path : string\n",
      "    The path (and filename, without the extension) to save the\n",
      "    figure to.\n",
      "    ext : string (default='png')\n",
      "    The file extension. This must be supported by the active\n",
      "    matplotlib backend (see matplotlib.backends module). Most\n",
      "    backends support 'png', 'pdf', 'ps', 'eps', and 'svg'.\n",
      "    close : boolean (default=True)\n",
      "    Whether to close the figure after saving. If you want to save\n",
      "    the figure multiple times (e.g., to multiple formats), you\n",
      "    should NOT close it in between saves or you will have to\n",
      "    re-plot it.\n",
      "    verbose : boolean (default=True)\n",
      "    Whether to print information about when and where the image\n",
      "    has been saved.\n",
      "    \"\"\"\n",
      "    # Extract the directory and filename from the given path\n",
      "    directory = os.path.split(path)[0]\n",
      "    filename = \"%s.%s\" % (os.path.split(path)[1], ext)\n",
      "    if directory == '':\n",
      "        directory = '.'\n",
      "\n",
      "    # If the directory does not exist, create it\n",
      "    if not os.path.exists(directory):\n",
      "        os.makedirs(directory)\n",
      "\n",
      "    # The final path to save to\n",
      "    savepath = os.path.join(directory, filename)\n",
      "\n",
      "    if verbose:\n",
      "        print(\"Saving figure to '%s'...\" % savepath),\n",
      "\n",
      "    # Actually save the figure\n",
      "    plt.savefig(savepath)\n",
      "    # Close it\n",
      "    if close:\n",
      "        plt.close()\n",
      "\n",
      "    if verbose:\n",
      "        print(\"Done\") "
     ],
     "language": "python",
     "metadata": {},
     "outputs": [],
     "prompt_number": 3
    },
    {
     "cell_type": "code",
     "collapsed": false,
     "input": [
      "current = [0.0, 0.5, 1.0, 1.5, 2.0, 2.5, 3.0, 3.5, 4.0, 4.5, 5.0] #A\n",
      "B = [69.0, 641.0, 1252.0, 1930.0, 2564.0, 3210.0, 3800.0, 4261.0, 4573.0, 4829.0, 5014.0] #Gauss\n",
      "\n",
      "t, q, m, b = pylab.polyfit(current, B, 3)\n",
      "print q/10000, m/10000, b/10000, t/10000\n",
      "\n",
      "b_fit = []\n",
      "for i in range(11):\n",
      "    b_fit.append(b + current[i]*m + (current[i]**2)*q + (current[i]**3)*t)\n",
      "\n",
      "plt.plot(current, B, 'o')\n",
      "plt.plot(current, b_fit)"
     ],
     "language": "python",
     "metadata": {},
     "outputs": [
      {
       "output_type": "stream",
       "stream": "stdout",
       "text": [
        "0.0133382284382 0.112394638695 0.00539440559441 -0.00322564102564\n"
       ]
      },
      {
       "metadata": {},
       "output_type": "pyout",
       "prompt_number": 36,
       "text": [
        "[<matplotlib.lines.Line2D at 0x106b96590>]"
       ]
      },
      {
       "metadata": {},
       "output_type": "display_data",
       "png": "[encoded data removed]",
       "text": [
        "<matplotlib.figure.Figure at 0x106b96390>"
       ]
      }
     ],
     "prompt_number": 36
    },
    {
     "cell_type": "code",
     "collapsed": false,
     "input": [
      "current = [2.90, 3.0, 3.1, 3.2, 3.3, 3.4, 3.5, 3.56]\n",
      "frequency = [16.42, 17.01, 17.43, 18.13, 18.37, 18.71, 19.07, 19.20]\n",
      "\n",
      "B = []\n",
      "for i in current:\n",
      "    B.append(b + i*m + (i**2)*q + (i**3)*t)\n",
      "\n",
      "mu = 5.05*10**-27 #J/T\n",
      "h = 6.626 * 10**-34 #Js\n",
      "\n",
      "gmuh, v = pylab.polyfit(B, frequency, 1)\n",
      "print gmuh*h/mu * 10**10"
     ],
     "language": "python",
     "metadata": {},
     "outputs": [
      {
       "output_type": "stream",
       "stream": "stdout",
       "text": [
        "5.66960373293\n"
       ]
      }
     ],
     "prompt_number": 37
    },
    {
     "cell_type": "code",
     "collapsed": false,
     "input": [
      "time = [0, 1.710-1.59, 1.710-1.51, 1.710-1.43, 1.710-1.36, 1.710-1.296, 1.710-1.244, 1.710-1.190] #ms\n",
      "amplitude = [3.01, -2.16, 1.95, -1.35, 1.39, -0.825, 0.813, -0.450] #V\n",
      "\n",
      "#for i in amplitude:\n",
      "    \n",
      "\n",
      "plt.plot(time, amplitude, 'o')\n",
      "plt.show()"
     ],
     "language": "python",
     "metadata": {},
     "outputs": [
      {
       "metadata": {},
       "output_type": "display_data",
       "png": "[encoded data removed]",
       "text": [
        "<matplotlib.figure.Figure at 0x1068f3250>"
       ]
      }
     ],
     "prompt_number": 63
    },
    {
     "cell_type": "code",
     "collapsed": false,
     "input": [],
     "language": "python",
     "metadata": {},
     "outputs": []
    }
   ],
   "metadata": {}
  }
 ]
}