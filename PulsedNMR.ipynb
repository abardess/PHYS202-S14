{
 "metadata": {
  "name": "",
  "signature": "sha256:8d861afe2d4b4372639b193ffca2443cdaa126521eb7ac0aaed5375bea0390ec"
 },
 "nbformat": 3,
 "nbformat_minor": 0,
 "worksheets": [
  {
   "cells": [
    {
     "cell_type": "code",
     "collapsed": false,
     "input": [
      "%pylab inline\n",
      "import numpy as np\n",
      "import matplotlib.pyplot as plt\n",
      "from random import randint\n",
      "import scipy.optimize as optimization"
     ],
     "language": "python",
     "metadata": {},
     "outputs": [
      {
       "output_type": "stream",
       "stream": "stdout",
       "text": [
        "Populating the interactive namespace from numpy and matplotlib\n"
       ]
      }
     ],
     "prompt_number": 1
    },
    {
     "cell_type": "markdown",
     "metadata": {},
     "source": [
      "Sync pulse grows as hyperbolic then turns into an exponetial decay\n",
      "\n",
      "Repetition Period of A pulse: 10.6 ms"
     ]
    },
    {
     "cell_type": "code",
     "collapsed": false,
     "input": [
      "B1 = 12 * 10**-4 #Tesla\n",
      "theta = np.pi/2\n",
      "g = 5.586\n",
      "mu = 5.051 * 10**-27 #J/T\n",
      "h = 6.6260695729*10**-34 #Js\n",
      "\n",
      "tw = (theta*h)/(2*np.pi*g*mu*B1)"
     ],
     "language": "python",
     "metadata": {},
     "outputs": [],
     "prompt_number": 2
    },
    {
     "cell_type": "code",
     "collapsed": false,
     "input": [
      "print tw"
     ],
     "language": "python",
     "metadata": {},
     "outputs": [
      {
       "output_type": "stream",
       "stream": "stdout",
       "text": [
        "4.89256331222e-06\n"
       ]
      }
     ],
     "prompt_number": 3
    },
    {
     "cell_type": "code",
     "collapsed": false,
     "input": [
      "tw_measured = 4.6 * 10**-6\n",
      "print tw_measured"
     ],
     "language": "python",
     "metadata": {},
     "outputs": [
      {
       "output_type": "stream",
       "stream": "stdout",
       "text": [
        "4.6e-06\n"
       ]
      }
     ],
     "prompt_number": 5
    },
    {
     "cell_type": "markdown",
     "metadata": {},
     "source": [
      "As the A pulse width is adjusted from its minimum to its maximum, the FID signal grows and shrinks multiple times. When the FID signal is at a maximum, this means that the A pulse width is such that the sample has become perfeclty aligned with the x-y plane."
     ]
    },
    {
     "cell_type": "markdown",
     "metadata": {},
     "source": [
      "Measured value of $T{_{2}}^*$: 94 microseconds"
     ]
    },
    {
     "cell_type": "markdown",
     "metadata": {},
     "source": [
      "Measured value of $T_{2}$: 60 microseconds"
     ]
    },
    {
     "cell_type": "code",
     "collapsed": false,
     "input": [],
     "language": "python",
     "metadata": {},
     "outputs": []
    }
   ],
   "metadata": {}
  }
 ]
}