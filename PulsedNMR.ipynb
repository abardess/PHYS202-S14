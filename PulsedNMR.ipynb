{
 "metadata": {
  "name": "",
  "signature": "sha256:7cda65b3590ded4e7155fe0f5d5d3f56647381bac83fee861856ac925ac53718"
 },
 "nbformat": 3,
 "nbformat_minor": 0,
 "worksheets": [
  {
   "cells": [
    {
     "cell_type": "code",
     "collapsed": false,
     "input": [
      "%pylab inline\n",
      "import numpy as np\n",
      "import matplotlib.pyplot as plt\n",
      "from random import randint\n",
      "import scipy.optimize as optimization"
     ],
     "language": "python",
     "metadata": {},
     "outputs": [
      {
       "output_type": "stream",
       "stream": "stdout",
       "text": [
        "Populating the interactive namespace from numpy and matplotlib\n"
       ]
      }
     ],
     "prompt_number": 1
    },
    {
     "cell_type": "markdown",
     "metadata": {},
     "source": [
      "Sync pulse grows as hyperbolic then turns into an exponetial decay\n",
      "\n",
      "Repetition Period of A pulse: 10.6 ms"
     ]
    },
    {
     "cell_type": "code",
     "collapsed": false,
     "input": [
      "B1 = 12 * 10**-4 #Tesla\n",
      "theta = np.pi/2\n",
      "g = 5.586\n",
      "mu = 5.051 * 10**-27 #J/T\n",
      "h = 6.6260695729*10**-34 #Js\n",
      "\n",
      "tw = (theta*h)/(2*np.pi*g*mu*B1)"
     ],
     "language": "python",
     "metadata": {},
     "outputs": [],
     "prompt_number": 2
    },
    {
     "cell_type": "code",
     "collapsed": false,
     "input": [
      "print tw"
     ],
     "language": "python",
     "metadata": {},
     "outputs": [
      {
       "output_type": "stream",
       "stream": "stdout",
       "text": [
        "4.89256331222e-06\n"
       ]
      }
     ],
     "prompt_number": 3
    },
    {
     "cell_type": "code",
     "collapsed": false,
     "input": [
      "tw_measured = 4.6 * 10**-6\n",
      "print tw_measured"
     ],
     "language": "python",
     "metadata": {},
     "outputs": [
      {
       "output_type": "stream",
       "stream": "stdout",
       "text": [
        "4.6e-06\n"
       ]
      }
     ],
     "prompt_number": 6
    },
    {
     "cell_type": "markdown",
     "metadata": {},
     "source": [
      "As the A pulse width is adjusted from its minimum to its maximum, the FID signal grows and shrinks multiple times. When the FID signal is at a maximum, this means that the A pulse width is such that the sample has become perfeclty aligned with the x-y plane."
     ]
    },
    {
     "cell_type": "code",
     "collapsed": false,
     "input": [
      "FID_i_star = 11 #V +/- .9\n",
      "T2_star_height = FID_i_star/np.e\n",
      "print T2_star_height, 'Volts'"
     ],
     "language": "python",
     "metadata": {},
     "outputs": [
      {
       "output_type": "stream",
       "stream": "stdout",
       "text": [
        "4.04667385289 Volts\n"
       ]
      }
     ],
     "prompt_number": 12
    },
    {
     "cell_type": "markdown",
     "metadata": {},
     "source": [
      "Measured value of $T{_{2}}^*$: 98 +/- 5 microseconds"
     ]
    },
    {
     "cell_type": "code",
     "collapsed": false,
     "input": [
      "FID_i = 12.1\n",
      "T2_height = FID_i/np.e\n",
      "print T2_height, \"Volts\""
     ],
     "language": "python",
     "metadata": {},
     "outputs": [
      {
       "output_type": "stream",
       "stream": "stdout",
       "text": [
        "4.45134123817 Volts\n"
       ]
      }
     ],
     "prompt_number": 13
    },
    {
     "cell_type": "markdown",
     "metadata": {},
     "source": [
      "Measured value of $T_{2}$ for Mineral Oil: 49 +/- 7 milliseconds"
     ]
    },
    {
     "cell_type": "code",
     "collapsed": false,
     "input": [
      "FID_i_g = 8.0\n",
      "T2_height_g = FID_i_g/np.e\n",
      "print T2_height_g, \"Volts\""
     ],
     "language": "python",
     "metadata": {},
     "outputs": [
      {
       "output_type": "stream",
       "stream": "stdout",
       "text": [
        "2.94303552937 Volts\n"
       ]
      }
     ],
     "prompt_number": 20
    },
    {
     "cell_type": "markdown",
     "metadata": {},
     "source": [
      "Measured value of $T_{2}$ for Glycerin: 147 +/- 7 milliseconds"
     ]
    },
    {
     "cell_type": "code",
     "collapsed": false,
     "input": [
      "FID_i_CuSO = 12.3\n",
      "T2_height_CuSO = FID_i_sp/np.e\n",
      "print T2_height_CuSO, \"Volts\""
     ],
     "language": "python",
     "metadata": {},
     "outputs": [
      {
       "output_type": "stream",
       "stream": "stdout",
       "text": [
        "4.52491712641 Volts\n"
       ]
      }
     ],
     "prompt_number": 21
    },
    {
     "cell_type": "markdown",
     "metadata": {},
     "source": [
      "Measured value of $T_{2}$ for Water with CuSO: 11 +/- 3 milliseconds"
     ]
    },
    {
     "cell_type": "code",
     "collapsed": false,
     "input": [
      "M0 = 3\n",
      "T1 = 3\n",
      "t = np.arange(0, 10, .1)\n",
      "M_z = lambda(t): M0 * (1 - (2 * np.exp(-t/T1)))\n",
      "\n",
      "y = M_z(t)"
     ],
     "language": "python",
     "metadata": {},
     "outputs": [],
     "prompt_number": 38
    },
    {
     "cell_type": "code",
     "collapsed": false,
     "input": [
      "plt.plot(t, y)\n",
      "plt.show()"
     ],
     "language": "python",
     "metadata": {},
     "outputs": [
      {
       "metadata": {},
       "output_type": "display_data",
       "png": "[encoded data removed]",
       "text": [
        "<matplotlib.figure.Figure at 0x105968b10>"
       ]
      }
     ],
     "prompt_number": 39
    },
    {
     "cell_type": "markdown",
     "metadata": {},
     "source": [
      "t0 = ln(2)T1"
     ]
    },
    {
     "cell_type": "code",
     "collapsed": false,
     "input": [
      "np.log(2)"
     ],
     "language": "python",
     "metadata": {},
     "outputs": [
      {
       "metadata": {},
       "output_type": "pyout",
       "prompt_number": 41,
       "text": [
        "0.69314718055994529"
       ]
      }
     ],
     "prompt_number": 41
    },
    {
     "cell_type": "code",
     "collapsed": false,
     "input": [],
     "language": "python",
     "metadata": {},
     "outputs": []
    }
   ],
   "metadata": {}
  }
 ]
}