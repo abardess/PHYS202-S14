{
 "metadata": {
  "name": "",
  "signature": "sha256:f2787446970dcf0dddc8f03557229b5ffc1deb773800df38d57b5fc0fe66f294"
 },
 "nbformat": 3,
 "nbformat_minor": 0,
 "worksheets": [
  {
   "cells": [
    {
     "cell_type": "code",
     "collapsed": false,
     "input": [
      "%pylab inline\n",
      "import numpy as np\n",
      "import matplotlib.pyplot as plt\n",
      "from random import randint\n",
      "import scipy.optimize as optimization"
     ],
     "language": "python",
     "metadata": {},
     "outputs": [
      {
       "output_type": "stream",
       "stream": "stdout",
       "text": [
        "Populating the interactive namespace from numpy and matplotlib\n"
       ]
      }
     ],
     "prompt_number": 1
    },
    {
     "cell_type": "code",
     "collapsed": false,
     "input": [
      "V_cancel = 9.75 #V\n",
      "vertical_field = 3.85\n",
      "\n",
      "N = 3.0\n",
      "R = .0322 #m\n",
      "c_min = .1895 #A\n",
      "B_h = ((8.991 * 10**-3) * N)*c_min/R\n",
      "\n",
      "c_87 = 0.53 #A\n",
      "c_85 = .421 #A"
     ],
     "language": "python",
     "metadata": {},
     "outputs": [],
     "prompt_number": 3
    },
    {
     "cell_type": "code",
     "collapsed": false,
     "input": [
      "frequency = [70.23, 100.00, 125.23, 150.00, 177.36, 200.00, 224.91, 250.32] #kHz\n",
      "frequency2 = [70.23, 100.00, 125.23, 150.00, 177.36, 200.00, 224.91]\n",
      "\n",
      "current_87 = [.3535, 0.422, 0.480 , 0.538, 0.601, 0.654, .712, 0.771] #A\n",
      "current_85 = [.435, 0.53, 0.626, 0.712, 0.808, 0.886, .973] #A"
     ],
     "language": "python",
     "metadata": {},
     "outputs": [],
     "prompt_number": 17
    },
    {
     "cell_type": "code",
     "collapsed": false,
     "input": [
      "B_87 = []\n",
      "for i in current_87:\n",
      "    B_87.append(((8.991 * 10**-3) * N * i)/R)\n",
      "\n",
      "B_85 = []\n",
      "for i in current_85:\n",
      "    B_85.append(((8.991 * 10**-3) * N * i)/R)"
     ],
     "language": "python",
     "metadata": {},
     "outputs": [],
     "prompt_number": 18
    },
    {
     "cell_type": "code",
     "collapsed": false,
     "input": [
      "plt.plot(B_87, frequency)\n",
      "plt.plot(B_85, frequency2, 'r')\n",
      "\n",
      "gmu_h_87, a = pylab.polyfit(B_87, frequency, 1)\n",
      "gmu_h_85, b = pylab.polyfit(B_85, frequency2, 1)\n",
      "\n",
      "mu = 9.274 * 10**-24 #J/T\n",
      "h = 6.626 * 10**-34 #Js\n",
      "\n",
      "g_87 = gmu_h_87 * h/mu * 10 **3\n",
      "g_85 = gmu_h_85 * h/mu * 10 **3\n",
      "\n",
      "print g_87, g_85\n",
      "\n",
      "plt.show()"
     ],
     "language": "python",
     "metadata": {},
     "outputs": [
      {
       "output_type": "stream",
       "stream": "stdout",
       "text": [
        "3.67659824122e-08 2.43547833664e-08\n"
       ]
      },
      {
       "metadata": {},
       "output_type": "display_data",
       "png": "[encoded data removed]",
       "text": [
        "<matplotlib.figure.Figure at 0x105e65d10>"
       ]
      }
     ],
     "prompt_number": 21
    },
    {
     "cell_type": "code",
     "collapsed": false,
     "input": [],
     "language": "python",
     "metadata": {},
     "outputs": []
    }
   ],
   "metadata": {}
  }
 ]
}