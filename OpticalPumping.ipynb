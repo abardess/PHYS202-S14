{
 "metadata": {
  "name": "",
  "signature": "sha256:940d0714641e26003174f06acfd910d016fd196f2693cfd1968b88e64d2260fc"
 },
 "nbformat": 3,
 "nbformat_minor": 0,
 "worksheets": [
  {
   "cells": [
    {
     "cell_type": "code",
     "collapsed": false,
     "input": [
      "%pylab inline\n",
      "import numpy as np\n",
      "import matplotlib.pyplot as plt\n",
      "from random import randint\n",
      "import scipy.optimize as optimization"
     ],
     "language": "python",
     "metadata": {},
     "outputs": [
      {
       "output_type": "stream",
       "stream": "stdout",
       "text": [
        "Populating the interactive namespace from numpy and matplotlib\n"
       ]
      }
     ],
     "prompt_number": 1
    },
    {
     "cell_type": "code",
     "collapsed": false,
     "input": [
      "def saveplot(path, ext='png', close=True, verbose=True):\n",
      "    import os\n",
      "    \"\"\"Save a figure from pyplot.\n",
      "    Parameters\n",
      "    ----------\n",
      "    path : string\n",
      "    The path (and filename, without the extension) to save the\n",
      "    figure to.\n",
      "    ext : string (default='png')\n",
      "    The file extension. This must be supported by the active\n",
      "    matplotlib backend (see matplotlib.backends module). Most\n",
      "    backends support 'png', 'pdf', 'ps', 'eps', and 'svg'.\n",
      "    close : boolean (default=True)\n",
      "    Whether to close the figure after saving. If you want to save\n",
      "    the figure multiple times (e.g., to multiple formats), you\n",
      "    should NOT close it in between saves or you will have to\n",
      "    re-plot it.\n",
      "    verbose : boolean (default=True)\n",
      "    Whether to print information about when and where the image\n",
      "    has been saved.\n",
      "    \"\"\"\n",
      "    # Extract the directory and filename from the given path\n",
      "    directory = os.path.split(path)[0]\n",
      "    filename = \"%s.%s\" % (os.path.split(path)[1], ext)\n",
      "    if directory == '':\n",
      "        directory = '.'\n",
      "\n",
      "    # If the directory does not exist, create it\n",
      "    if not os.path.exists(directory):\n",
      "        os.makedirs(directory)\n",
      "\n",
      "    # The final path to save to\n",
      "    savepath = os.path.join(directory, filename)\n",
      "\n",
      "    if verbose:\n",
      "        print(\"Saving figure to '%s'...\" % savepath),\n",
      "\n",
      "    # Actually save the figure\n",
      "    plt.savefig(savepath)\n",
      "    # Close it\n",
      "    if close:\n",
      "        plt.close()\n",
      "\n",
      "    if verbose:\n",
      "        print(\"Done\") "
     ],
     "language": "python",
     "metadata": {},
     "outputs": [],
     "prompt_number": 2
    },
    {
     "cell_type": "code",
     "collapsed": false,
     "input": [
      "V_cancel = 9.75 #V\n",
      "vertical_field = 3.85\n",
      "\n",
      "N = 3.0\n",
      "R = .0322 #m\n",
      "c_min = .1895 #A\n",
      "B_h = ((8.991 * 10**-3) * N)*c_min/R\n",
      "\n",
      "c_87 = 0.53 #A\n",
      "c_85 = .421 #A"
     ],
     "language": "python",
     "metadata": {},
     "outputs": [],
     "prompt_number": 3
    },
    {
     "cell_type": "code",
     "collapsed": false,
     "input": [
      "frequency = [70.23 * (10 **3), 100.00 * (10 **3), 125.23 * (10 **3), 150.00 * (10 **3), 177.36 * (10 **3), 200.00 * (10 **3), 224.91 * (10 **3), 250.32 * (10 **3)] #Hz\n",
      "frequency2 = [70.23 * (10 **3), 100.00 * (10 **3), 125.23 * (10 **3), 150.00 * (10 **3), 177.36 * (10 **3), 200.00 * (10 **3), 224.91 * (10 **3)]\n",
      "\n",
      "current_87 = [.3535, 0.422, 0.480 , 0.538, 0.601, 0.654, .712, 0.771] #A\n",
      "current_85 = [.435, 0.53, 0.626, 0.712, 0.808, 0.886, .973] #A"
     ],
     "language": "python",
     "metadata": {},
     "outputs": [],
     "prompt_number": 4
    },
    {
     "cell_type": "code",
     "collapsed": false,
     "input": [
      "B_87 = [] #Tesla\n",
      "for i in current_87:\n",
      "    B_87.append(((8.991 * 10**-7) * N * i)/R)\n",
      "\n",
      "B_85 = [] #Tesla\n",
      "for i in current_85:\n",
      "    B_85.append(((8.991 * 10**-7) * N * i)/R)"
     ],
     "language": "python",
     "metadata": {},
     "outputs": [],
     "prompt_number": 5
    },
    {
     "cell_type": "code",
     "collapsed": false,
     "input": [
      "plt.plot(B_87, frequency)\n",
      "plt.plot(B_85, frequency2, 'r')\n",
      "\n",
      "gmu_h_87, a = pylab.polyfit(B_87, frequency, 1)\n",
      "gmu_h_85, b = pylab.polyfit(B_85, frequency2, 1)\n",
      "\n",
      "mu = 9.274 * 10**-24 #J/T\n",
      "h = 6.626 * 10**-34 #Js\n",
      "\n",
      "g_87 = gmu_h_87 * h/mu\n",
      "g_85 = gmu_h_85 * h/mu\n",
      "\n",
      "print \"g-factor for 87:\", g_87\n",
      "print \"g-factor for 85:\", g_85\n",
      "plt.show()"
     ],
     "language": "python",
     "metadata": {},
     "outputs": [
      {
       "output_type": "stream",
       "stream": "stdout",
       "text": [
        "g-factor for 87: 0.367659824122\n",
        "g-factor for 85: 0.243547833664\n"
       ]
      },
      {
       "metadata": {},
       "output_type": "display_data",
       "png": "[encoded data removed]",
       "text": [
        "<matplotlib.figure.Figure at 0x10596a050>"
       ]
      }
     ],
     "prompt_number": 6
    },
    {
     "cell_type": "code",
     "collapsed": false,
     "input": [
      "V_cancel_2 = 3.84\n",
      "Rv = .117 #m\n",
      "Nv = 20\n",
      "B_V = (.3905 * (8.991 * 10**-7) * Nv)/Rv\n",
      "print B_V\n",
      "print 36, \"degrees\""
     ],
     "language": "python",
     "metadata": {},
     "outputs": [
      {
       "output_type": "stream",
       "stream": "stdout",
       "text": [
        "6.00168461538e-05\n",
        "36 degrees\n"
       ]
      }
     ],
     "prompt_number": 7
    },
    {
     "cell_type": "code",
     "collapsed": false,
     "input": [
      "print 47368.3 * 10**-9 #T \n",
      "print 59, 'degrees'"
     ],
     "language": "python",
     "metadata": {},
     "outputs": [
      {
       "output_type": "stream",
       "stream": "stdout",
       "text": [
        "4.73683e-05\n",
        "59 degrees\n"
       ]
      }
     ],
     "prompt_number": 8
    },
    {
     "cell_type": "code",
     "collapsed": false,
     "input": [
      "time_constant = 1.0 #ms\n",
      "exponential_fit = .003"
     ],
     "language": "python",
     "metadata": {},
     "outputs": [],
     "prompt_number": 9
    },
    {
     "cell_type": "code",
     "collapsed": false,
     "input": [
      "v_RF = [212.5, 285.0, 337.5, 415.0, 482.5, 552.0, 622.5, 680.0, 768.75, 837.0] #mV\n",
      "Period = [5.0, 4.2, 3.68, 3.08, 2.56, 2.28, 2.08, 1.92, 1.72, 1.58] #ms\n",
      "\n",
      "frequency_higher = []\n",
      "B_RF = []\n",
      "for i in Period:\n",
      "    frequency_higher.append(1.0/i)\n",
      "for i in v_RF:\n",
      "    B_RF.append(i*2*(8.991*10**-3)*3.0/.322) #Gauss\n",
      "\n",
      "b, m = pylab.polyfit(B_RF, frequency_higher, 1)\n",
      "plt.plot(B_RF, frequency_higher, '^')\n",
      "\n",
      "#saveplot('Frequency vs Magnetic Field')\n",
      "plt.show()\n",
      "print \"slope =\", m\n",
      "print \"intercept =\", b"
     ],
     "language": "python",
     "metadata": {},
     "outputs": [
      {
       "metadata": {},
       "output_type": "display_data",
       "png": "[encoded data removed]",
       "text": [
        "<matplotlib.figure.Figure at 0x10596a610>"
       ]
      },
      {
       "output_type": "stream",
       "stream": "stdout",
       "text": [
        "slope = 0.0410938725221\n",
        "intercept = 0.00421707784415\n"
       ]
      }
     ],
     "prompt_number": 12
    },
    {
     "cell_type": "code",
     "collapsed": false,
     "input": [
      "v_RF2 = [165.0, 202.5, 242.5, 295.0, 347.5, 392.5, 435.0, 487.5, 545.0, 585.0, 637.5, 682.0, 760.0, 828.0] #mV\n",
      "Period2 = [4.08, 3.52, 3.28, 2.84, 2.44, 2.20, 1.96, 1.74, 1.58, 1.44, 1.32, 1.25, 1.12, 1.04] #ms\n",
      "\n",
      "frequency_lower = []\n",
      "B_RF2 = []\n",
      "for i in Period2:\n",
      "    frequency_lower.append(1.0/i)\n",
      "for i in v_RF2:\n",
      "    B_RF2.append(i*2*(8.991*10**-3)*3.0/.322) #Gauss\n",
      "\n",
      "b2, m2 = pylab.polyfit(B_RF2, frequency_lower, 1)\n",
      "plt.plot(B_RF2, frequency_lower, 'o')\n",
      "plt.show()\n",
      "print \"slope =\", m2\n",
      "print \"intercept =\", b2"
     ],
     "language": "python",
     "metadata": {},
     "outputs": [
      {
       "metadata": {},
       "output_type": "display_data",
       "png": "[encoded data removed]",
       "text": [
        "<matplotlib.figure.Figure at 0x105db3b50>"
       ]
      },
      {
       "output_type": "stream",
       "stream": "stdout",
       "text": [
        "slope = 0.0377421809024\n",
        "intercept = 0.00663894751368\n"
       ]
      }
     ],
     "prompt_number": 33
    },
    {
     "cell_type": "code",
     "collapsed": false,
     "input": [
      "print b/b2\n",
      "print g_85/g_87"
     ],
     "language": "python",
     "metadata": {},
     "outputs": [
      {
       "output_type": "stream",
       "stream": "stdout",
       "text": [
        "0.635202769032\n",
        "0.66242710703\n"
       ]
      }
     ],
     "prompt_number": 35
    },
    {
     "cell_type": "code",
     "collapsed": false,
     "input": [],
     "language": "python",
     "metadata": {},
     "outputs": []
    }
   ],
   "metadata": {}
  }
 ]
}