{
 "metadata": {
  "name": "",
  "signature": "sha256:90eb07d7fb8d572238e21544e3619f72b98e044df3def293af14e907599c1ae8"
 },
 "nbformat": 3,
 "nbformat_minor": 0,
 "worksheets": [
  {
   "cells": [
    {
     "cell_type": "code",
     "collapsed": false,
     "input": [
      "%pylab inline\n",
      "import numpy as np\n",
      "import matplotlib.pyplot as plt\n",
      "from random import randint\n",
      "import scipy.optimize as optimization"
     ],
     "language": "python",
     "metadata": {},
     "outputs": [
      {
       "output_type": "stream",
       "stream": "stdout",
       "text": [
        "Populating the interactive namespace from numpy and matplotlib\n"
       ]
      }
     ],
     "prompt_number": 1
    },
    {
     "cell_type": "code",
     "collapsed": false,
     "input": [
      "hbar = 1.054571726* 10**-34 #Js\n",
      "m = 2 * (1.66054892 * 10**-27) #kg\n",
      "L = 2.4463216 * 10**-10 #m\n",
      "n_x = 1\n",
      "T = 20 #K\n",
      "k = 1.3806488 * 10**-23\n",
      "\n",
      "epsilon = (hbar**2)*(np.pi**2)/(2*m*(L**2)) * n_x\n",
      "\n",
      "print k*T\n",
      "print epsilon\n",
      "\n",
      "#kT/episolon = 1 @ L = 2.4463216 * 10**-10 meters"
     ],
     "language": "python",
     "metadata": {},
     "outputs": [
      {
       "output_type": "stream",
       "stream": "stdout",
       "text": [
        "2.7612976e-22\n",
        "2.76129766902e-22\n"
       ]
      }
     ],
     "prompt_number": 2
    },
    {
     "cell_type": "code",
     "collapsed": false,
     "input": [
      "eps_vib = 0.53 #eV\n",
      "n = np.arange(0,8)\n",
      "\n",
      "f = lambda n: eps_vib*n #eV\n",
      "g = lambda n: (1.03*n -0.03*(n**2))*eps_vib #eV\n",
      "\n",
      "E_SHO = f(n)\n",
      "E_anh = g(n)\n",
      "\n",
      "print E_SHO\n",
      "print E_anh"
     ],
     "language": "python",
     "metadata": {},
     "outputs": [
      {
       "output_type": "stream",
       "stream": "stdout",
       "text": [
        "[ 0.    0.53  1.06  1.59  2.12  2.65  3.18  3.71]\n",
        "[ 0.      0.53    1.0282  1.4946  1.9292  2.332   2.703   3.0422]\n"
       ]
      }
     ],
     "prompt_number": 3
    },
    {
     "cell_type": "code",
     "collapsed": false,
     "input": [
      "x = np.arange(0, 2)\n",
      "\n",
      "for i in E_anh:\n",
      "    y = [i, i]\n",
      "    plt.plot(x, y, 'b')\n",
      "        \n",
      "for i in E_SHO:\n",
      "    y = [i, i]\n",
      "    plt.plot(x, y, '--r')\n",
      "\n",
      "plt.plot(0, 0, '--r', label = 'Harmonic')\n",
      "plt.plot(0, 0, 'b', label = 'Anharmonic')\n",
      "    \n",
      "plt.ylabel('Eenergy (eV)')\n",
      "plt.legend(loc = (1,.81))\n",
      "pylab.gca().axes.get_xaxis().set_ticks([])\n",
      "\n",
      "plt.show()"
     ],
     "language": "python",
     "metadata": {},
     "outputs": [
      {
       "metadata": {},
       "output_type": "display_data",
       "png": "[encoded data removed]",
       "text": [
        "<matplotlib.figure.Figure at 0x105b41090>"
       ]
      }
     ],
     "prompt_number": 34
    },
    {
     "cell_type": "code",
     "collapsed": false,
     "input": [
      "T = np.arange(1.0, 5100.0, 50.0)\n",
      "k = 8.6173324*10**-5 #eV/K\n",
      "\n",
      "Z_vib = []\n",
      "lnZ_vib = []\n",
      "for i in T:\n",
      "    Z_vib_n = 0\n",
      "    for n in E_anh:\n",
      "        Z_vib_n += np.exp(-n/(k*i))\n",
      "    Z_vib.append(Z_vib_n)\n",
      "    lnZ_vib.append(np.log(Z_vib_n))"
     ],
     "language": "python",
     "metadata": {},
     "outputs": [],
     "prompt_number": 76
    },
    {
     "cell_type": "code",
     "collapsed": false,
     "input": [
      "plt.plot(T, lnZ_vib, 'r', label = r'$ln(Z_{vib})$')\n",
      "plt.plot(T, Z_vib, label = r'$Z_{vib}$')\n",
      "\n",
      "plt.ylim(-.1, 1.6)\n",
      "plt.xlim(0, 5000)\n",
      "\n",
      "plt.title('Partitian Function vs. Temperature', fontsize = 13)\n",
      "plt.xlabel('Temperature (K)', fontsize = 12)\n",
      "plt.ylabel(r'$Z_{vib}$', fontsize = 18)\n",
      "plt.legend(loc = (0, .777))\n",
      "\n",
      "plt.show()"
     ],
     "language": "python",
     "metadata": {},
     "outputs": [
      {
       "metadata": {},
       "output_type": "display_data",
       "png": "[encoded data removed]",
       "text": [
        "<matplotlib.figure.Figure at 0x105b99250>"
       ]
      }
     ],
     "prompt_number": 78
    },
    {
     "cell_type": "code",
     "collapsed": false,
     "input": [
      "def deriv(x, y):\n",
      "    \"\"\"returns an array of values for the numerical rate of change in x with respect to y;\n",
      "    also put in dummy values for the rates of the first and final numbers\"\"\"\n",
      "    delx_dely = [0]\n",
      "    for i in range(len(x) - 2):\n",
      "        delx_dely.append((x[i + 2] - x[i])/(y[i + 2] - y[i]))\n",
      "    delx_dely.append(0)\n",
      "    return delx_dely"
     ],
     "language": "python",
     "metadata": {},
     "outputs": [],
     "prompt_number": 79
    },
    {
     "cell_type": "code",
     "collapsed": false,
     "input": [
      "U_N = k* T**2 * deriv(lnZ_vib, T)"
     ],
     "language": "python",
     "metadata": {},
     "outputs": [
      {
       "output_type": "stream",
       "stream": "stdout",
       "text": [
        "[  0.00000000e+00   0.00000000e+00   0.00000000e+00   1.01217347e-15\n",
        "   7.94327679e-13   7.25562137e-11   1.91504881e-09   2.30284871e-08\n",
        "   1.62207155e-07   7.78755238e-07   2.81304131e-06   8.18423855e-06\n",
        "   2.01337539e-05   4.33963083e-05   8.41512648e-05   1.49779958e-04\n",
        "   2.48497308e-04   3.88934606e-04   5.79737002e-04   8.29217374e-04\n",
        "   1.14508711e-03   1.53426802e-03   2.00277919e-03   2.55568708e-03\n",
        "   3.19710514e-03   3.93022984e-03   4.75740141e-03   5.68017956e-03\n",
        "   6.69942695e-03   7.81539459e-03   9.02780559e-03   1.03359343e-02\n",
        "   1.17386796e-02   1.32346313e-02   1.48221295e-02   1.64993167e-02\n",
        "   1.82641838e-02   2.01146089e-02   2.20483911e-02   2.40632793e-02\n",
        "   2.61569958e-02   2.83272564e-02   3.05717869e-02   3.28883362e-02\n",
        "   3.52746875e-02   3.77286665e-02   4.02481481e-02   4.28310614e-02\n",
        "   4.54753934e-02   4.81791911e-02   5.09405635e-02   5.37576816e-02\n",
        "   5.66287791e-02   5.95521512e-02   6.25261540e-02   6.55492030e-02\n",
        "   6.86197714e-02   7.17363885e-02   7.48976371e-02   7.81021520e-02\n",
        "   8.13486174e-02   8.46357644e-02   8.79623694e-02   9.13272510e-02\n",
        "   9.47292682e-02   9.81673181e-02   1.01640333e-01   1.05147281e-01\n",
        "   1.08687158e-01   1.12258994e-01   1.15861844e-01   1.19494789e-01\n",
        "   1.23156934e-01   1.26847410e-01   1.30565364e-01   1.34309967e-01\n",
        "   1.38080405e-01   1.41875883e-01   1.45695621e-01   1.49538854e-01\n",
        "   1.53404831e-01   1.57292814e-01   1.61202075e-01   1.65131900e-01\n",
        "   1.69081583e-01   1.73050431e-01   1.77037757e-01   1.81042885e-01\n",
        "   1.85065146e-01   1.89103879e-01   1.93158432e-01   1.97228160e-01\n",
        "   2.01312423e-01   2.05410591e-01   2.09522037e-01   2.13646144e-01\n",
        "   2.17782299e-01   2.21929897e-01   2.26088338e-01   2.30257029e-01\n",
        "   2.34435382e-01   0.00000000e+00]\n"
       ]
      }
     ],
     "prompt_number": 83
    },
    {
     "cell_type": "code",
     "collapsed": false,
     "input": [],
     "language": "python",
     "metadata": {},
     "outputs": []
    }
   ],
   "metadata": {}
  }
 ]
}