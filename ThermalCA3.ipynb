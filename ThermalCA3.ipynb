{
 "metadata": {
  "name": "",
  "signature": "sha256:ab64b8c504db5cc1c946beb56d05c5d7802195ff5404c6d480a9f122b2f40809"
 },
 "nbformat": 3,
 "nbformat_minor": 0,
 "worksheets": [
  {
   "cells": [
    {
     "cell_type": "code",
     "collapsed": false,
     "input": [
      "%pylab inline\n",
      "import numpy as np\n",
      "import matplotlib.pyplot as plt\n",
      "from random import randint\n",
      "import scipy.optimize as optimization"
     ],
     "language": "python",
     "metadata": {},
     "outputs": [
      {
       "output_type": "stream",
       "stream": "stdout",
       "text": [
        "Populating the interactive namespace from numpy and matplotlib\n"
       ]
      }
     ],
     "prompt_number": 1
    },
    {
     "cell_type": "code",
     "collapsed": false,
     "input": [
      "hbar = 1.054571726* 10**-34 #Js\n",
      "m = 2 * (1.66054892 * 10**-27) #kg\n",
      "L = 2.4463216 * 10**-10 #m\n",
      "n_x = 1\n",
      "T = 20 #K\n",
      "k = 1.3806488 * 10**-23\n",
      "\n",
      "epsilon = (hbar**2)*(np.pi**2)/(2*m*(L**2)) * n_x\n",
      "\n",
      "print k*T\n",
      "print epsilon\n",
      "\n",
      "#kT/episolon = 1 @ L = 2.4463216 * 10**-10 meters"
     ],
     "language": "python",
     "metadata": {},
     "outputs": [
      {
       "output_type": "stream",
       "stream": "stdout",
       "text": [
        "2.7612976e-22\n",
        "2.76129766902e-22\n"
       ]
      }
     ],
     "prompt_number": 38
    },
    {
     "cell_type": "code",
     "collapsed": false,
     "input": [
      "eps_vib = 0.53 #eV\n",
      "n = np.arange(0,8)\n",
      "\n",
      "f = lambda n: eps_vib*n\n",
      "g = lambda n: (1.03*n -0.03*(n**2))*eps_vib\n",
      "\n",
      "E_SHO = f(n)\n",
      "E_anh = g(n)\n",
      "\n",
      "print E_SHO\n",
      "print E_anh"
     ],
     "language": "python",
     "metadata": {},
     "outputs": [
      {
       "output_type": "stream",
       "stream": "stdout",
       "text": [
        "[ 0.    0.53  1.06  1.59  2.12  2.65  3.18  3.71]\n",
        "[ 0.      0.53    1.0282  1.4946  1.9292  2.332   2.703   3.0422]\n"
       ]
      }
     ],
     "prompt_number": 45
    },
    {
     "cell_type": "code",
     "collapsed": false,
     "input": [],
     "language": "python",
     "metadata": {},
     "outputs": []
    }
   ],
   "metadata": {}
  }
 ]
}