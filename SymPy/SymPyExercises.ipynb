{
 "metadata": {
  "name": "",
  "signature": "sha256:eac8f8fa82fbda45437d29d1092ab41bed2e08c9131e9a24acd3464fd7229ba5"
 },
 "nbformat": 3,
 "nbformat_minor": 0,
 "worksheets": [
  {
   "cells": [
    {
     "cell_type": "heading",
     "level": 1,
     "metadata": {},
     "source": [
      "SymPy Exercises"
     ]
    },
    {
     "cell_type": "code",
     "collapsed": false,
     "input": [
      "from IPython.html.widgets import interact\n",
      "from IPython.display import display\n",
      "%matplotlib inline\n",
      "import numpy as np\n",
      "import matplotlib.pyplot as plt\n",
      "from sympy import *\n",
      "init_printing(use_latex='mathjax')"
     ],
     "language": "python",
     "metadata": {},
     "outputs": [],
     "prompt_number": 1
    },
    {
     "cell_type": "markdown",
     "metadata": {},
     "source": [
      "\n",
      "Question 1\n",
      "\n",
      "This question looks at a class of integrals that appears often in physics, the so called Gaussian integrals of the form:\n",
      "\n",
      "$I_n(a)=\\int_{-\u221e}^\u221ez^ne^{\u2212az^2}dz$\n",
      "\n",
      "(a) Define SymPy symbols for the following variables:\n",
      "\n",
      "    z that is real\n",
      "    a that is real and positive\n",
      "    n that is a positive integer\n",
      "\n"
     ]
    },
    {
     "cell_type": "code",
     "collapsed": false,
     "input": [
      "z = Symbol('z', real = True)\n",
      "a = Symbol('a', real = True, positive = True)\n",
      "n = Symbol('n', positive = True, integer = True)"
     ],
     "language": "python",
     "metadata": {},
     "outputs": [],
     "prompt_number": 27
    },
    {
     "cell_type": "markdown",
     "metadata": {},
     "source": [
      "(b) Compute the integral $I_0(a)$ symbolically by passing the full integrand to the integrate function. Save the result as variable I0 and display it using IPython.display.display.\n"
     ]
    },
    {
     "cell_type": "code",
     "collapsed": false,
     "input": [
      "I0 = integrate((z ** n) * exp(-a * (z ** 2)), (z, -oo, oo))\n",
      "\n",
      "display(I0)"
     ],
     "language": "python",
     "metadata": {},
     "outputs": [
      {
       "latex": [
        "$$\\frac{\\left(-1\\right)^{n}}{2 a} a^{- \\frac{n}{2} + \\frac{1}{2}} \\Gamma{\\left(\\frac{n}{2} + \\frac{1}{2} \\right)} + \\frac{a^{- \\frac{n}{2} + \\frac{1}{2}}}{2 a} \\Gamma{\\left(\\frac{n}{2} + \\frac{1}{2} \\right)}$$"
       ],
       "metadata": {},
       "output_type": "display_data",
       "text": [
        "         n   1               n   1         \n",
        "       - \u2500 + \u2500             - \u2500 + \u2500         \n",
        "    n    2   2  \u239bn   1\u239e      2   2  \u239bn   1\u239e\n",
        "(-1) \u22c5a       \u22c5\u0393\u239c\u2500 + \u2500\u239f   a       \u22c5\u0393\u239c\u2500 + \u2500\u239f\n",
        "                \u239d2   2\u23a0             \u239d2   2\u23a0\n",
        "\u2500\u2500\u2500\u2500\u2500\u2500\u2500\u2500\u2500\u2500\u2500\u2500\u2500\u2500\u2500\u2500\u2500\u2500\u2500\u2500\u2500\u2500\u2500 + \u2500\u2500\u2500\u2500\u2500\u2500\u2500\u2500\u2500\u2500\u2500\u2500\u2500\u2500\u2500\u2500\u2500\n",
        "          2\u22c5a                    2\u22c5a       "
       ]
      }
     ],
     "prompt_number": 28
    },
    {
     "cell_type": "markdown",
     "metadata": {},
     "source": [
      "(c) Verify that $I_m(a)=0$ if m is odd by computing the integral symbolically for m = [1,3,5,7,9]. Use a loop or other control structure to interate through values of m. Why should you not use the variable n for this part?\n"
     ]
    },
    {
     "cell_type": "code",
     "collapsed": false,
     "input": [
      "m = [1, 3, 5, 7, 9]\n",
      "for i in m:\n",
      "    a = i\n",
      "    Im = integrate((z ** n) * exp(-a * (z ** 2)), (z, -oo, oo))\n",
      "    display(Im)"
     ],
     "language": "python",
     "metadata": {},
     "outputs": [
      {
       "latex": [
        "$$\\frac{\\left(-1\\right)^{n}}{2} \\Gamma{\\left(\\frac{n}{2} + \\frac{1}{2} \\right)} + \\frac{1}{2} \\Gamma{\\left(\\frac{n}{2} + \\frac{1}{2} \\right)}$$"
       ],
       "metadata": {},
       "output_type": "display_data",
       "text": [
        "    n  \u239bn   1\u239e    \u239bn   1\u239e\n",
        "(-1) \u22c5\u0393\u239c\u2500 + \u2500\u239f   \u0393\u239c\u2500 + \u2500\u239f\n",
        "       \u239d2   2\u23a0    \u239d2   2\u23a0\n",
        "\u2500\u2500\u2500\u2500\u2500\u2500\u2500\u2500\u2500\u2500\u2500\u2500\u2500\u2500 + \u2500\u2500\u2500\u2500\u2500\u2500\u2500\u2500\n",
        "      2             2    "
       ]
      },
      {
       "latex": [
        "$$\\frac{\\left(-1\\right)^{n}}{6} 3^{- \\frac{n}{2} + \\frac{1}{2}} \\Gamma{\\left(\\frac{n}{2} + \\frac{1}{2} \\right)} + \\frac{1}{6} 3^{- \\frac{n}{2} + \\frac{1}{2}} \\Gamma{\\left(\\frac{n}{2} + \\frac{1}{2} \\right)}$$"
       ],
       "metadata": {},
       "output_type": "display_data",
       "text": [
        "         n   1               n   1         \n",
        "       - \u2500 + \u2500             - \u2500 + \u2500         \n",
        "    n    2   2  \u239bn   1\u239e      2   2  \u239bn   1\u239e\n",
        "(-1) \u22c53       \u22c5\u0393\u239c\u2500 + \u2500\u239f   3       \u22c5\u0393\u239c\u2500 + \u2500\u239f\n",
        "                \u239d2   2\u23a0             \u239d2   2\u23a0\n",
        "\u2500\u2500\u2500\u2500\u2500\u2500\u2500\u2500\u2500\u2500\u2500\u2500\u2500\u2500\u2500\u2500\u2500\u2500\u2500\u2500\u2500\u2500\u2500 + \u2500\u2500\u2500\u2500\u2500\u2500\u2500\u2500\u2500\u2500\u2500\u2500\u2500\u2500\u2500\u2500\u2500\n",
        "           6                      6        "
       ]
      },
      {
       "latex": [
        "$$\\frac{\\left(-1\\right)^{n}}{10} 5^{- \\frac{n}{2} + \\frac{1}{2}} \\Gamma{\\left(\\frac{n}{2} + \\frac{1}{2} \\right)} + \\frac{1}{10} 5^{- \\frac{n}{2} + \\frac{1}{2}} \\Gamma{\\left(\\frac{n}{2} + \\frac{1}{2} \\right)}$$"
       ],
       "metadata": {},
       "output_type": "display_data",
       "text": [
        "         n   1               n   1         \n",
        "       - \u2500 + \u2500             - \u2500 + \u2500         \n",
        "    n    2   2  \u239bn   1\u239e      2   2  \u239bn   1\u239e\n",
        "(-1) \u22c55       \u22c5\u0393\u239c\u2500 + \u2500\u239f   5       \u22c5\u0393\u239c\u2500 + \u2500\u239f\n",
        "                \u239d2   2\u23a0             \u239d2   2\u23a0\n",
        "\u2500\u2500\u2500\u2500\u2500\u2500\u2500\u2500\u2500\u2500\u2500\u2500\u2500\u2500\u2500\u2500\u2500\u2500\u2500\u2500\u2500\u2500\u2500 + \u2500\u2500\u2500\u2500\u2500\u2500\u2500\u2500\u2500\u2500\u2500\u2500\u2500\u2500\u2500\u2500\u2500\n",
        "           10                     10       "
       ]
      },
      {
       "latex": [
        "$$\\frac{\\left(-1\\right)^{n}}{14} 7^{- \\frac{n}{2} + \\frac{1}{2}} \\Gamma{\\left(\\frac{n}{2} + \\frac{1}{2} \\right)} + \\frac{1}{14} 7^{- \\frac{n}{2} + \\frac{1}{2}} \\Gamma{\\left(\\frac{n}{2} + \\frac{1}{2} \\right)}$$"
       ],
       "metadata": {},
       "output_type": "display_data",
       "text": [
        "         n   1               n   1         \n",
        "       - \u2500 + \u2500             - \u2500 + \u2500         \n",
        "    n    2   2  \u239bn   1\u239e      2   2  \u239bn   1\u239e\n",
        "(-1) \u22c57       \u22c5\u0393\u239c\u2500 + \u2500\u239f   7       \u22c5\u0393\u239c\u2500 + \u2500\u239f\n",
        "                \u239d2   2\u23a0             \u239d2   2\u23a0\n",
        "\u2500\u2500\u2500\u2500\u2500\u2500\u2500\u2500\u2500\u2500\u2500\u2500\u2500\u2500\u2500\u2500\u2500\u2500\u2500\u2500\u2500\u2500\u2500 + \u2500\u2500\u2500\u2500\u2500\u2500\u2500\u2500\u2500\u2500\u2500\u2500\u2500\u2500\u2500\u2500\u2500\n",
        "           14                     14       "
       ]
      },
      {
       "latex": [
        "$$\\frac{\\left(-1\\right)^{n}}{18} 9^{- \\frac{n}{2} + \\frac{1}{2}} \\Gamma{\\left(\\frac{n}{2} + \\frac{1}{2} \\right)} + \\frac{1}{18} 9^{- \\frac{n}{2} + \\frac{1}{2}} \\Gamma{\\left(\\frac{n}{2} + \\frac{1}{2} \\right)}$$"
       ],
       "metadata": {},
       "output_type": "display_data",
       "text": [
        "         n   1               n   1         \n",
        "       - \u2500 + \u2500             - \u2500 + \u2500         \n",
        "    n    2   2  \u239bn   1\u239e      2   2  \u239bn   1\u239e\n",
        "(-1) \u22c59       \u22c5\u0393\u239c\u2500 + \u2500\u239f   9       \u22c5\u0393\u239c\u2500 + \u2500\u239f\n",
        "                \u239d2   2\u23a0             \u239d2   2\u23a0\n",
        "\u2500\u2500\u2500\u2500\u2500\u2500\u2500\u2500\u2500\u2500\u2500\u2500\u2500\u2500\u2500\u2500\u2500\u2500\u2500\u2500\u2500\u2500\u2500 + \u2500\u2500\u2500\u2500\u2500\u2500\u2500\u2500\u2500\u2500\u2500\u2500\u2500\u2500\u2500\u2500\u2500\n",
        "           18                     18       "
       ]
      }
     ],
     "prompt_number": 25
    },
    {
     "cell_type": "markdown",
     "metadata": {},
     "source": [
      "\n",
      "\n",
      "(d) Define a symbolic expression, saved under the variable In, for the unevaluated integral In(a) using SymPy's Integral class. Use symbolic manipulations to verify the following identity:"
     ]
    },
    {
     "cell_type": "code",
     "collapsed": false,
     "input": [
      "z = Symbol('z', real = True)\n",
      "a = Symbol('a', real = True, positive = True)\n",
      "n = Symbol('n', positive = True, integer = True)\n",
      "\n",
      "In = Integral((z ** n) * exp(-a * (z ** 2)), z)"
     ],
     "language": "python",
     "metadata": {},
     "outputs": [],
     "prompt_number": 33
    },
    {
     "cell_type": "code",
     "collapsed": false,
     "input": [
      "diff(In, a)"
     ],
     "language": "python",
     "metadata": {},
     "outputs": [
      {
       "latex": [
        "$$\\int - z^{2} z^{n} e^{- a z^{2}}\\, dz$$"
       ],
       "metadata": {},
       "output_type": "pyout",
       "prompt_number": 37,
       "text": [
        "\u2320                 \n",
        "\u23ae             2   \n",
        "\u23ae   2  n  -a\u22c5z    \n",
        "\u23ae -z \u22c5z \u22c5\u212f      dz\n",
        "\u2321                 "
       ]
      }
     ],
     "prompt_number": 37
    },
    {
     "cell_type": "code",
     "collapsed": false,
     "input": [],
     "language": "python",
     "metadata": {},
     "outputs": []
    }
   ],
   "metadata": {}
  }
 ]
}