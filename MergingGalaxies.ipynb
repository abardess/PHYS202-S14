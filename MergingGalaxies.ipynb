{
 "metadata": {
  "name": "",
  "signature": "sha256:60bf478be994a12e2191f3748c69ac15fb4b97563a5b18cab1686895745cdf72"
 },
 "nbformat": 3,
 "nbformat_minor": 0,
 "worksheets": [
  {
   "cells": [
    {
     "cell_type": "heading",
     "level": 1,
     "metadata": {},
     "source": [
      "Merging Galaxies Project"
     ]
    },
    {
     "cell_type": "markdown",
     "metadata": {},
     "source": [
      "What it needs to do:\n",
      "    \n",
      "    Simulate two merging galaxies. This means it keeps track of where one is reletive to the other, where all of the surrounding 'stars' are, how one galaxy center is affected by the other, and how the motion of the stars is affected by the other galaxy.\n",
      "\n",
      "How it can do this:\n",
      "    \n",
      "    Define the 'central' galaxy (the galaxy in whose frame of referance we are in) as a point mass surrounded by massess 'stars'. Create a general function that simulates the force of gravity from both galactic centers on any given star and calculates the resulting movement. Keep track of each stars position and their new positions. Create a function for the motion of the second galactic center reletive to the first and make it fully customizable (initial position, initial velocity, initial acceleration(?), etc.)."
     ]
    },
    {
     "cell_type": "markdown",
     "metadata": {},
     "source": [
      "https://polylearn.calpoly.edu/AY_2013-2014/pluginfile.php/433573/mod_resource/content/1/GalaxyMergers.html"
     ]
    },
    {
     "cell_type": "code",
     "collapsed": false,
     "input": [],
     "language": "python",
     "metadata": {},
     "outputs": []
    }
   ],
   "metadata": {}
  }
 ]
}