{
 "metadata": {
  "name": "",
  "signature": "sha256:5f9c5413774565f255e10697df870c0949ecd625d8d120e209c694c0200e3cef"
 },
 "nbformat": 3,
 "nbformat_minor": 0,
 "worksheets": [
  {
   "cells": [
    {
     "cell_type": "heading",
     "level": 1,
     "metadata": {},
     "source": [
      "Merging Galaxies Project"
     ]
    },
    {
     "cell_type": "markdown",
     "metadata": {},
     "source": [
      "What it needs to do:\n",
      "    \n",
      "    Simulate two merging galaxies. This means it keeps track of where one is reletive to the other, where all of the surrounding 'stars' are, how one galaxy center is affected by the other, and how the motion of the stars is affected by the other galaxy.\n",
      "\n",
      "How it can do this:\n",
      "    \n",
      "    Define the 'central' galaxy (the galaxy in whose frame of referance we are in) as a point mass surrounded by massless 'stars'. Create a general function that simulates the force of gravity from both galactic centers on any given star and calculates the resulting movement. Keep track of each stars position and their new positions. Create a function for the motion of the second galactic center reletive to the first and make it fully customizable (initial position, initial velocity, initial acceleration(?), etc.)."
     ]
    },
    {
     "cell_type": "markdown",
     "metadata": {},
     "source": [
      "https://polylearn.calpoly.edu/AY_2013-2014/pluginfile.php/433573/mod_resource/content/1/GalaxyMergers.html"
     ]
    },
    {
     "cell_type": "code",
     "collapsed": false,
     "input": [
      "%pylab inline\n",
      "import numpy as np\n",
      "import matplotlib.pyplot as plt\n",
      "from scipy.integrate import odeint"
     ],
     "language": "python",
     "metadata": {},
     "outputs": [
      {
       "output_type": "stream",
       "stream": "stdout",
       "text": [
        "Populating the interactive namespace from numpy and matplotlib\n"
       ]
      }
     ],
     "prompt_number": 1
    },
    {
     "cell_type": "code",
     "collapsed": false,
     "input": [
      "def create_star_field(stars, r, vr, vtheta, ar, atheta):\n",
      "    \"\"\"\n",
      "    Creates a 'field' of stars (where 'stars' is the desired number of stars) in a ring r distance from the origin\n",
      "    and returns them in a list. vr and vtheta are the desired initial components of the velocity of every star. ar and atheta \n",
      "    are the desired initial components of acceleration of every star. Each star is defined by a list of four numbers:\n",
      "    its initial position components (r and theta), and its initial velocity components (vr and vtheta).\n",
      "    \"\"\"\n",
      "    import numpy as np\n",
      "    star_field = []                                       #creates an empty list\n",
      "    theta = np.arange(0, 2 * np.pi, (2 * np.pi) / stars)  #creates an array of theta coordinates in a ring around the origin\n",
      "    for i in theta:                                       #for each theta a star is creates at (r, theta)\n",
      "        star_field.append([r, theta, vr, vtheta, ar, atheta])     \n",
      "    return star_field                                     #each star is added to the list, which is returned at the very end\n",
      "\n",
      "def star_movement(star, t, da):\n",
      "    \"\"\"\n",
      "    Takes a star and moves it through some time t while applying some change (da) to its initial accelration.\n",
      "    Creates a plot for each time step. Each subsequent plot has a lighter shade of color, making it easy to tell how the\n",
      "    star is moving.\n",
      "    \"\"\"\n",
      "    import numpy as np\n",
      "    import matplotlib.pyplot as plt\n",
      "    r = star[0]; theta = star[1]                         #extracts the position, velocity, and acceleration components \n",
      "    vr = star[2]; vtheta = star[3]                       #of each star and sets them to a variable\n",
      "    ar = star[4]; atheta = star[5]\n",
      "    star_path = []                                       #creates an empty list that will hold the star's new positions\n",
      "    for i in t:\n",
      "        x = r * np.cos(theta)                            #converts positions from polar to cartesian to plot them\n",
      "        y = r * np.sin(theta)\n",
      "        plt.plot(x, y, color = (.0 + i / 6, .0 + i / 6, .0 + i / 6), marker ='o', markersize = 4, linewidth = 0)\n",
      "        r = r + vr                                       #then its position is incrimented by its current velocity,\n",
      "        theta = theta + vtheta                                       \n",
      "        vr = vr + ar                                     #its velocity is incrimented by its current acceleration,\n",
      "        vtheta = vtheta + atheta\n",
      "        ar = da                                          #and finally its acceleration is incrimented by the given da\n",
      "        atheta = da\n",
      "    return star_path                                     #returns a list of the star's aspects at each time step\n",
      "    \n",
      "def field_movement(star_field, t, da):\n",
      "    \"\"\"\n",
      "    Applies the function star_movement, with desired acceleration change da, to each star in \n",
      "    a field of stars over some set of time steps t.\n",
      "    \"\"\"\n",
      "    for i in star_field:\n",
      "        return star_movement(i, t, da)\n",
      "\n",
      "def gal_movement(dis_gal, t, aR, aphi):\n",
      "    import numpy as np\n",
      "    import matplotlib.pyplot as plt\n",
      "    R = dis_gal[0]; phi = dis_gal[1]\n",
      "    vR = dis_gal[2]; vphi = dis_gal[3]\n",
      "    gal_path = []\n",
      "    for i in t:\n",
      "        x = R * np.cos(phi)                            #converts gal's position from polar to cartesian to plot it\n",
      "        y = R * np.sin(phi)\n",
      "        plt.plot(x, y, 'b^', markersize = 10)\n",
      "        R = R + vR\n",
      "        phi = phi + vphi\n",
      "        vR = vR + aR\n",
      "        vphi = vphi + aphi\n",
      "    return gal_path"
     ],
     "language": "python",
     "metadata": {},
     "outputs": [],
     "prompt_number": 2
    },
    {
     "cell_type": "code",
     "collapsed": false,
     "input": [
      "t = np.arange(0., 6., 1)\n",
      "ring1 = create_star_field(3, 1, 0, 5, 0, 0)\n",
      "ring2 = create_star_field(6, 2, 0, 3, 0, 0)\n",
      "ring3 = create_star_field(12, 4, 0, 1, 0, 0)\n",
      "field_movement(ring1, t, 0)\n",
      "field_movement(ring2, t, 0)\n",
      "field_movement(ring3, t, 0)\n",
      "\n",
      "\n",
      "dis_gal = [24, np.pi / 3, -9, -np.pi / 6, 4] #creates a galaxy at (R = 24, phi = pi/3) with velcity (0, 0) and mass S = 4\n",
      "gal_movement(dis_gal, t, 0, 0)\n",
      "\n",
      "plt.scatter(0, 0, s=400, c = 'r')\n",
      "plt.grid()\n",
      "plt.show()"
     ],
     "language": "python",
     "metadata": {},
     "outputs": [
      {
       "metadata": {},
       "output_type": "display_data",
       "png": "[encoded data removed]",
       "text": [
        "<matplotlib.figure.Figure at 0x10507cd50>"
       ]
      }
     ],
     "prompt_number": 3
    },
    {
     "cell_type": "code",
     "collapsed": false,
     "input": [
      "G = 6.67384 * (10 ** -11) #m^3 kg^-1 s^-2      gravitational constant\n",
      "M = 10 #arbitrary kg                                    mass of central galaxy\n",
      "S = 10 #arbitrary kg                                    mass of disrupting galaxy\n",
      "\n",
      "#star = [r, theta, vr, vtheta, ar, atheta]\n",
      "#dis_gal = [24, np.pi / 3, 4] \n",
      "\n",
      "\n",
      "def deriv(current_locals, t):\n",
      "    \"\"\"\n",
      "    Return the derivatives of the given equation for the position vecort of a star.\n",
      "    \"\"\"\n",
      "    G = 6.67384 * (10 ** -11) #m^3 kg^-1 s^-2               gravitational constant\n",
      "    M = 10 #arbitrary kg                                    mass of central galaxy\n",
      "    S = 10 #arbitrary kg                                    mass of disrupting galaxy\n",
      "    \n",
      "    r = current_locals[0]\n",
      "    theta = current_locals[1]\n",
      "    rvec = [r, theta]\n",
      "    \n",
      "    R = current_locals[0]\n",
      "    phi = current_locals[1]\n",
      "    Rvec = [R, phi]\n",
      "    \n",
      "    rho = R - r\n",
      "    rhovec = [R - r, phi - theta]\n",
      "    \n",
      "    rnew = -G * (((M / (r ** 3.)) * rvec[0]) - ((S / (rho ** 3.)) * rhovec[0])- ((S/(R ** 3.)) * Rvec[0]))\n",
      "    thetanew = -G * (((M / (r ** 3.)) * rvec[1]) - ((S / (rho ** 3.)) * rhovec[1])- ((S/(R ** 3.)) * Rvec[1]))\n",
      "    Rnew = -G * ((M + S) / ((R) ** 3.)) * Rvec[0]\n",
      "    phinew = -G * ((M + S) / ((R) ** 3.)) * Rvec[1]\n",
      "    \n",
      "    return np.array([rnew, thetanew, Rnew, phinew])\n",
      "\n",
      "loc = np.array([.5, np.pi / 2, 2, np.pi / 6])\n",
      "t = np.arange(0, 5, .1)\n",
      "\n",
      "loc = odeint(deriv, loc, t)\n",
      "\n",
      "xstar = loc[:, 0] * np.cos(loc[:, 1])\n",
      "ystar = loc[:, 0] * np.sin(loc[:, 1])\n",
      "\n",
      "xgal = loc[:, 2] * np.cos(loc[:, 3])\n",
      "ygal = loc[:, 2] * np.sin(loc[:, 3])\n",
      "\n",
      "\n",
      "plt.plot(xstar, ystar, 'ro'); #plot trajectory\n",
      "plt.plot(xgal, ygal, 'b^');\n",
      "plt.scatter(0, 0, s=400, c = 'r') #center of galaxy\n",
      "plt.grid();\n",
      "plt.show();"
     ],
     "language": "python",
     "metadata": {},
     "outputs": [
      {
       "output_type": "stream",
       "stream": "stderr",
       "text": [
        "-c:28: RuntimeWarning: divide by zero encountered in double_scalars\n",
        "-c:28: RuntimeWarning: invalid value encountered in double_scalars\n",
        "-c:29: RuntimeWarning: divide by zero encountered in double_scalars\n",
        "-c:29: RuntimeWarning: invalid value encountered in double_scalars\n"
       ]
      },
      {
       "metadata": {},
       "output_type": "display_data",
       "png": "[encoded data removed]",
       "text": [
        "<matplotlib.figure.Figure at 0x1054438d0>"
       ]
      }
     ],
     "prompt_number": 4
    }
   ],
   "metadata": {}
  }
 ]
}