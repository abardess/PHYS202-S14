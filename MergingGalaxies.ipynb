{
 "metadata": {
  "name": "",
  "signature": "sha256:94e71a010ac7eb241bca21598edf61f78a0f12509ab1776b87ebdfd4a82bd8ae"
 },
 "nbformat": 3,
 "nbformat_minor": 0,
 "worksheets": [
  {
   "cells": [
    {
     "cell_type": "heading",
     "level": 1,
     "metadata": {},
     "source": [
      "Merging Galaxies Project"
     ]
    },
    {
     "cell_type": "markdown",
     "metadata": {},
     "source": [
      "What it needs to do:\n",
      "    \n",
      "    Simulate two merging galaxies. This means it keeps track of where one is reletive to the other, where all of the surrounding 'stars' are, how one galaxy center is affected by the other, and how the motion of the stars is affected by the other galaxy.\n",
      "\n",
      "How it can do this:\n",
      "    \n",
      "    Define the 'central' galaxy (the galaxy in whose frame of referance we are in) as a point mass surrounded by massless 'stars'. Create a general function that simulates the force of gravity from both galactic centers on any given star and calculates the resulting movement. Keep track of each stars position and their new positions. Create a function for the motion of the second galactic center reletive to the first and make it fully customizable (initial position, initial velocity, initial acceleration(?), etc.)."
     ]
    },
    {
     "cell_type": "markdown",
     "metadata": {},
     "source": [
      "https://polylearn.calpoly.edu/AY_2013-2014/pluginfile.php/433573/mod_resource/content/1/GalaxyMergers.html"
     ]
    },
    {
     "cell_type": "code",
     "collapsed": false,
     "input": [
      "%pylab inline\n",
      "import numpy as np\n",
      "import matplotlib.pyplot as plt\n",
      "from scipy.integrate import odeint"
     ],
     "language": "python",
     "metadata": {},
     "outputs": [
      {
       "output_type": "stream",
       "stream": "stdout",
       "text": [
        "Populating the interactive namespace from numpy and matplotlib\n"
       ]
      }
     ],
     "prompt_number": 1
    },
    {
     "cell_type": "code",
     "collapsed": false,
     "input": [
      "def create_star_field(stars, r, vr, vtheta, ar, atheta):\n",
      "    \"\"\"\n",
      "    Creates a 'field' of stars (where 'stars' is the desired number of stars) in a ring r distance from the origin\n",
      "    and returns them in a list. vr and vtheta are the desired initial components of the velocity of every star. ar and atheta \n",
      "    are the desired initial components of acceleration of every star. Each star is defined by a list of four numbers:\n",
      "    its initial position components (r and theta), and its initial velocity components (vr and vtheta).\n",
      "    \"\"\"\n",
      "    import numpy as np\n",
      "    star_field = []                                       #creates an empty list\n",
      "    theta = np.arange(0, 2 * np.pi, (2 * np.pi) / stars)  #creates an array of theta coordinates in a ring around the origin\n",
      "    for i in theta:                                       #for each theta a star is creates at (r, theta)\n",
      "        star_field.append([r, theta, vr, vtheta, ar, atheta])     \n",
      "    return star_field                                     #each star is added to the list, which is returned at the very end\n",
      "\n",
      "def star_movement(star, t, da):\n",
      "    \"\"\"\n",
      "    Takes a star and moves it through some time t while applying some change (da) to its initial accelration.\n",
      "    Creates a plot for each time step. Each subsequent plot has a lighter shade of color, making it easy to tell how the\n",
      "    star is moving.\n",
      "    \"\"\"\n",
      "    import numpy as np\n",
      "    import matplotlib.pyplot as plt\n",
      "    r = star[0]; theta = star[1]                         #extracts the position, velocity, and acceleration components \n",
      "    vr = star[2]; vtheta = star[3]                       #of each star and sets them to a variable\n",
      "    ar = star[4]; atheta = star[5]\n",
      "    star_path = []                                       #creates an empty list that will hold the star's new positions\n",
      "    for i in t:\n",
      "        x = r * np.cos(theta)                            #converts positions from polar to cartesian to plot them\n",
      "        y = r * np.sin(theta)\n",
      "        plt.plot(x, y, color = (.0 + i / 6, .0 + i / 6, .0 + i / 6), marker ='o', markersize = 4, linewidth = 0)\n",
      "        r = r + vr                                       #then its position is incrimented by its current velocity,\n",
      "        theta = theta + vtheta                                       \n",
      "        vr = vr + ar                                     #its velocity is incrimented by its current acceleration,\n",
      "        vtheta = vtheta + atheta\n",
      "        ar = da                                          #and finally its acceleration is incrimented by the given da\n",
      "        atheta = da\n",
      "    return star_path                                     #returns a list of the star's aspects at each time step\n",
      "    \n",
      "def field_movement(star_field, t, da):\n",
      "    \"\"\"\n",
      "    Applies the function star_movement, with desired acceleration change da, to each star in \n",
      "    a field of stars over some set of time steps t.\n",
      "    \"\"\"\n",
      "    for i in star_field:\n",
      "        return star_movement(i, t, da)\n",
      "\n",
      "def gal_movement(dis_gal, t, aR, aphi):\n",
      "    \"\"\"\n",
      "    Applies an acceleration (aR, aphi) to the disrupting galaxy and then\n",
      "    moves it through space over some array of time steps t.\n",
      "    \"\"\"\n",
      "    import numpy as np                                \n",
      "    import matplotlib.pyplot as plt                   \n",
      "    R = dis_gal[0]; phi = dis_gal[1]                  #creates a disrupting galaxy with initial position (R, phi)\n",
      "    vR = dis_gal[2]; vphi = dis_gal[3]                #and initial velocity (vR, vphi)\n",
      "    gal_path = []                                     #creates an empty list to hold the galaxy's path\n",
      "    for i in t:                                       #calculates the gal's path at each time step in t\n",
      "        x = R * np.cos(phi)                           #converts gal's position from polar to cartesian to plot it\n",
      "        y = R * np.sin(phi)\n",
      "        plt.plot(x, y, 'b^', markersize = 10)\n",
      "        R = R + vR                                    #positions and velocities are then incrimented\n",
      "        phi = phi + vphi\n",
      "        vR = vR + aR\n",
      "        vphi = vphi + aphi\n",
      "    return gal_path                                   #returns the list of positions"
     ],
     "language": "python",
     "metadata": {},
     "outputs": [],
     "prompt_number": 2
    },
    {
     "cell_type": "code",
     "collapsed": false,
     "input": [
      "t = np.arange(0., 6., 1)\n",
      "ring1 = create_star_field(3, 1, 0, 3 * np.pi / 2, 0, 0)\n",
      "ring2 = create_star_field(6, 2, 0, 2 * np.pi / 5, 0, 0)\n",
      "ring3 = create_star_field(12, 4, 0, np.pi / 18, 0, 0)\n",
      "field_movement(ring1, t, 0)\n",
      "field_movement(ring2, t, 0)\n",
      "field_movement(ring3, t, 0)\n",
      "\n",
      "\n",
      "#dis_gal = [10, np.pi / 3, -2, -np.pi / 3, 2] #creates a galaxy at (R, phi) with velcity (vR, vphi) and mass S = 4\n",
      "#gal_movement(dis_gal, t, 0, 0)\n",
      "\n",
      "plt.scatter(0, 0, s=400, c = 'r')\n",
      "plt.grid()\n",
      "plt.show()"
     ],
     "language": "python",
     "metadata": {},
     "outputs": [
      {
       "metadata": {},
       "output_type": "display_data",
       "png": "[encoded data removed]",
       "text": [
        "<matplotlib.figure.Figure at 0x105032ad0>"
       ]
      }
     ],
     "prompt_number": 3
    },
    {
     "cell_type": "code",
     "collapsed": false,
     "input": [
      "def three_body(current_locals, t):\n",
      "    \"\"\"\n",
      "    Return the derivatives of the given equation for the position vectors of a star and a disrupting galaxy.\n",
      "    \"\"\"\n",
      "    G = 4.5 * (10 ** -8) #kpc^3 solar masses^-1 years^-2            gravitational constant\n",
      "    M = 15 * 10 ** 10 #arbitrary solar masses                      mass of central galaxy\n",
      "    S = 0 #arbitrary solar masses                       mass of disrupting galaxy\n",
      "    \n",
      "    new = np.zeros(8)                                       #initializes an empty array that will hold derivatives\n",
      "    \n",
      "    x = current_locals[0]                                   #extracts position information for the star\n",
      "    y = current_locals[1]                              \n",
      "    r = np.sqrt((x ** 2) + (y ** 2))\n",
      "    \n",
      "    w = current_locals[4]                                   #extracts position information for the disrupting galaxy\n",
      "    z = current_locals[5]\n",
      "    R = np.sqrt((w ** 2) + (z ** 2))\n",
      "    \n",
      "    rhox = w - x\n",
      "    rhoy = z - y\n",
      "    rho = R - r                                             #calculates distance information between star and disrupting galaxy\n",
      "                                    \n",
      "    new[0] = current_locals[2]                               #sets new location information equal to current info's derivatives\n",
      "    new[1] = current_locals[3]\n",
      "    new[2] = -G * (((M / (r ** 3.)) * x) - ((S / (rho ** 3.)) * rhox) + ((S / (R ** 3.)) * w))\n",
      "    new[3] = -G * (((M / (r ** 3.)) * y) - ((S / (rho ** 3.)) * rhoy) + ((S / (R ** 3.)) * z))\n",
      "    new[4] = current_locals[6]\n",
      "    new[5] = current_locals[7]\n",
      "    new[6] = -G * ((M + S) / ((R) ** 3.)) * w\n",
      "    new[7] = -G * ((M + S) / ((R) ** 3.)) * z\n",
      "    \n",
      "    return new"
     ],
     "language": "python",
     "metadata": {},
     "outputs": [],
     "prompt_number": 4
    },
    {
     "cell_type": "code",
     "collapsed": false,
     "input": [
      "star = [1, np.pi / 2, 0, np.pi / 6]\n",
      "\n",
      "x_loc = star[0] * np.cos(star[1]); y_loc = star[0] * np.sin(star[1])\n",
      "x_vel = star[2] * np.cos(star[3]); y_vel = star[2] * np.sin(star[3])\n",
      "\n",
      "gal = [3, np.pi / 3, 0, 0]\n",
      "\n",
      "w_loc = gal[0] * np.cos(gal[1]); z_loc = gal[0] * np.sin(gal[1])\n",
      "w_vel = gal[2] * np.cos(gal[3]); z_vel = gal[2] * np.sin(gal[3])\n",
      "\n",
      "loc = np.array([x_loc, y_loc, x_vel, y_vel, w_loc, z_loc, w_vel, z_vel])    #initial test locations\n",
      "t = np.arange(0, 4, .1)\n",
      "\n",
      "loc = odeint(three_body, loc, t)\n",
      "\n",
      "xstar = loc[:,0]\n",
      "ystar = loc[:,1]\n",
      "\n",
      "xgal = loc[:,4]\n",
      "ygal = loc[:,5]\n",
      "\n",
      "plt.plot(xstar, ystar, 'go')                  #plot motion of the star\n",
      "plt.plot(xgal, ygal, 'bo')                   #plot motion of the disrupting galaxy\n",
      "plt.scatter(0, 0, s=300, c = 'r')            #center of galaxy, for reference\n",
      "plt.grid()\n",
      "plt.show()"
     ],
     "language": "python",
     "metadata": {},
     "outputs": [
      {
       "output_type": "stream",
       "stream": "stdout",
       "text": [
        "Excess work done on this call (perhaps wrong Dfun type).\n",
        "Run with full_output = 1 to get quantitative information.\n"
       ]
      },
      {
       "metadata": {},
       "output_type": "display_data",
       "png": "[encoded data removed]",
       "text": [
        "<matplotlib.figure.Figure at 0x1052eff10>"
       ]
      }
     ],
     "prompt_number": 6
    },
    {
     "cell_type": "code",
     "collapsed": false,
     "input": [],
     "language": "python",
     "metadata": {},
     "outputs": []
    }
   ],
   "metadata": {}
  }
 ]
}