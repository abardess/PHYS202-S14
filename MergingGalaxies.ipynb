{
 "metadata": {
  "name": "",
  "signature": "sha256:6f5ce62e5079c2947902fd16f7f52a9125b476c77c6959ca4aa41a373160baee"
 },
 "nbformat": 3,
 "nbformat_minor": 0,
 "worksheets": [
  {
   "cells": [
    {
     "cell_type": "heading",
     "level": 1,
     "metadata": {},
     "source": [
      "Merging Galaxies Project"
     ]
    },
    {
     "cell_type": "markdown",
     "metadata": {},
     "source": [
      "What it needs to do:\n",
      "    \n",
      "    Simulate two merging galaxies. This means it keeps track of where one is reletive to the other, where all of the surrounding 'stars' are, how one galaxy center is affected by the other, and how the motion of the stars is affected by the other galaxy.\n",
      "\n",
      "How it can do this:\n",
      "    \n",
      "    Define the 'central' galaxy (the galaxy in whose frame of referance we are in) as a point mass surrounded by massless 'stars'. Create a general function that simulates the force of gravity from both galactic centers on any given star and calculates the resulting movement. Keep track of each stars position and their new positions. Create a function for the motion of the second galactic center reletive to the first and make it fully customizable (initial position, initial velocity, initial acceleration(?), etc.)."
     ]
    },
    {
     "cell_type": "markdown",
     "metadata": {},
     "source": [
      "https://polylearn.calpoly.edu/AY_2013-2014/pluginfile.php/433573/mod_resource/content/1/GalaxyMergers.html"
     ]
    },
    {
     "cell_type": "code",
     "collapsed": false,
     "input": [
      "%pylab inline\n",
      "import numpy as np\n",
      "import matplotlib.pyplot as plt"
     ],
     "language": "python",
     "metadata": {},
     "outputs": [
      {
       "output_type": "stream",
       "stream": "stdout",
       "text": [
        "Populating the interactive namespace from numpy and matplotlib\n"
       ]
      }
     ],
     "prompt_number": 27
    },
    {
     "cell_type": "code",
     "collapsed": false,
     "input": [
      "def create_star_field(stars, r, init_vx, init_vy, ax_init, ay_init):\n",
      "    import numpy as np\n",
      "    import matplotlib.pyplot as plt\n",
      "    star_field = []\n",
      "    x = np.arange(-r, r, 1. / stars)\n",
      "    for i in x:\n",
      "        y = sqrt((r ** 2) - (i ** 2))\n",
      "        y2 = -y\n",
      "        star_field.append([i, y, init_vx, init_vy, ax_init, ay_init])\n",
      "        star_field.append([i, y2, init_vx, init_vy, ax_init, ay_init])\n",
      "    return star_field\n",
      "\n",
      "def create_star_field(stars, r):\n",
      "    import numpy as np\n",
      "    star_field = []\n",
      "    for i in r:\n",
      "        theta = (2 * np.pi) / i\n",
      "        tan = np.tan(theta)\n",
      "        star_field.append([r, theta, tan])\n",
      "    return star_field\n",
      "\n",
      "def star_movement(star, t):\n",
      "    import numpy as np\n",
      "    import matplotlib.pyplot as plt\n",
      "    x = star[0]; y = star[1]\n",
      "    vx = star[2]; vy = star[3]\n",
      "    ax = star[4]; ay = star[3]\n",
      "    star_path = []\n",
      "    for i in t:\n",
      "        plt.plot(x, y, 'bo', markersize = 2)\n",
      "        x = x + vx ; y = y + vy\n",
      "        vx = vx + ax ; vy = vy + ay\n",
      "        star_path.append([x, y, vx, vy])\n",
      "    return star_path\n",
      "\n",
      "def star_movement(star, t):\n",
      "    import numpy as np\n",
      "    import matplotlib.pyplot as plt\n",
      "    r = star[0]; theta = star[1]; v = star[3]\n",
      "    star_path = []\n",
      "    for i in t:\n",
      "        x = r * np.cos(theta)\n",
      "        y = r * np.sin(theta)\n",
      "        plt.plot(x, y, 'bo', markersize = 3)\n",
      "        r = \n",
      "        theta = \n",
      "    \n",
      "def field_movement(star_field, t):\n",
      "    for i in star_field:\n",
      "        star_movement(i, t)"
     ],
     "language": "python",
     "metadata": {},
     "outputs": [],
     "prompt_number": 59
    },
    {
     "cell_type": "code",
     "collapsed": false,
     "input": [
      "t = np.arange(0, .5, .1)\n",
      "f = create_star_field(20, 1, 1, 1, 1, 1)\n",
      "field_movement(f, t)\n",
      "plt.show()"
     ],
     "language": "python",
     "metadata": {},
     "outputs": [
      {
       "metadata": {},
       "output_type": "display_data",
       "png": "[encoded data removed]",
       "text": [
        "<matplotlib.figure.Figure at 0x1051ff690>"
       ]
      }
     ],
     "prompt_number": 62
    },
    {
     "cell_type": "code",
     "collapsed": false,
     "input": [
      "def rdot(r, R):\n",
      "    G = 6.67384 * (10 ** 11) #m^3 kg^-1 s^-2\n",
      "    cent_mass = 10 ; diss_mass = 10\n",
      "    M = cent_mass ; S = dis_mass #redundant statement. Here for clarity\n",
      "    rho = R - r\n",
      "    rnew = - G * (((M * r_vec) / (r ** 3)) - ((S * rho_vec) / (rho ** 3)) + ((S * R_vec) / (R ** 3)))\n",
      "    return rnew"
     ],
     "language": "python",
     "metadata": {},
     "outputs": [],
     "prompt_number": 5
    },
    {
     "cell_type": "code",
     "collapsed": false,
     "input": [
      "import numpy as np\n",
      "from matplotlib import pyplot as plt\n",
      "from scipy.integrate import odeint\n",
      "\n",
      "C = -4 # a constant which is a combo of the grav const, masses, etc.\n",
      "timeLimit = 99\n",
      "\n",
      "# format [x velocity, x position, y velocity, y position]\n",
      "loc = [1, 10, 2, 5] # initial values\n",
      "\n",
      "# function used by odeint which returns various derivatives\n",
      "def R(r, t):\n",
      "    xaccel = np.cos(np.arctan2(r[3], r[1])) * (C / (r[1]**2 + r[3]**2)**.5); \n",
      "    xvel = r[0];\n",
      "    yaccel = np.sin(np.arctan2(r[3], r[1])) * C / (r[1]**2 + r[3]**2)**.5;\n",
      "    yvel = r[2];\n",
      "    \n",
      "    return np.array([xaccel, xvel, yaccel, yvel])\n",
      "\n",
      "loc = odeint(R, loc, np.linspace(0, timeLimit, timeLimit + 1));\n",
      "    \n",
      "x = loc[:,1]; # extracts the x values from loc\n",
      "y = loc[:,3]; # extracts the y values from loc\n",
      "\n",
      "plt.plot(x, y); #plot trajectory\n",
      "plt.scatter(0, 0, s=400, c = 'r') #center of galaxy\n",
      "plt.annotate(\"t = 0\", xy = (loc[1, 1], loc[1,3]), xytext=(loc[1, 1] + 2, loc[1,3]- 15), \\\n",
      "            arrowprops=dict(facecolor='black', shrink=0.05, width=.5)); #label start\n",
      "plt.grid();\n",
      "plt.show();\n",
      "\n"
     ],
     "language": "python",
     "metadata": {},
     "outputs": [
      {
       "metadata": {},
       "output_type": "display_data",
       "png": "[encoded data removed]",
       "text": [
        "<matplotlib.figure.Figure at 0x105217a90>"
       ]
      }
     ],
     "prompt_number": 19
    },
    {
     "cell_type": "code",
     "collapsed": false,
     "input": [],
     "language": "python",
     "metadata": {},
     "outputs": []
    }
   ],
   "metadata": {}
  }
 ]
}