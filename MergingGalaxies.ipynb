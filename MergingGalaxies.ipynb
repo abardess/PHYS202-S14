{
 "metadata": {
  "name": "",
  "signature": "sha256:545dd67741662b385f0e65f41d7e6c47afe8a69f80ca697edeb71b88ba6bc548"
 },
 "nbformat": 3,
 "nbformat_minor": 0,
 "worksheets": [
  {
   "cells": [
    {
     "cell_type": "heading",
     "level": 1,
     "metadata": {},
     "source": [
      "Merging Galaxies Project"
     ]
    },
    {
     "cell_type": "markdown",
     "metadata": {},
     "source": [
      "What it needs to do:\n",
      "    \n",
      "    Simulate two merging galaxies. This means it keeps track of where one is reletive to the other, where all of the surrounding 'stars' are, how one galaxy center is affected by the other, and how the motion of the stars is affected by the other galaxy.\n",
      "\n",
      "How it can do this:\n",
      "    \n",
      "    Define the 'central' galaxy (the galaxy in whose frame of referance we are in) as a point mass surrounded by massless 'stars'. Create a general function that simulates the force of gravity from both galactic centers on any given star and calculates the resulting movement. Keep track of each stars position and their new positions. Create a function for the motion of the second galactic center reletive to the first and make it fully customizable (initial position, initial velocity, initial acceleration(?), etc.)."
     ]
    },
    {
     "cell_type": "markdown",
     "metadata": {},
     "source": [
      "https://polylearn.calpoly.edu/AY_2013-2014/pluginfile.php/433573/mod_resource/content/1/GalaxyMergers.html"
     ]
    },
    {
     "cell_type": "code",
     "collapsed": false,
     "input": [
      "def stars_init(number_of_stars):\n",
      "    star = lambda t: x + (v * t) + (1 / 2) * a * (t ** 2)\n",
      "    m = []\n",
      "    for i in number_of_stars:\n",
      "        x = \n",
      "\n",
      "\n",
      "def star_movements(cent_mass, dis_mass, star_radius, galaxy_radius):\n",
      "    G = 6.67384 * (10 ** 11) #m^3 kg^-1 s^-2\n",
      "    M = cent_mass ; S = dis_mass\n",
      "    r = star_radius ; R = galaxy_radius\n",
      "    rho = R - r\n",
      "    rnew = - G * (((M * r_vec) / (r ** 3)) - ((S * rho_vec) / (rho ** 3)) + ((S * R_vec) / (R ** 3)))\n",
      "    return rnew\n",
      "\n"
     ],
     "language": "python",
     "metadata": {},
     "outputs": []
    }
   ],
   "metadata": {}
  }
 ]
}