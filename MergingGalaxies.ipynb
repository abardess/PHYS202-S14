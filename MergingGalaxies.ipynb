{
 "metadata": {
  "name": "",
  "signature": "sha256:dbda67b90e7d0d01b369f8a7885e6cb51c17cdb6693ce36db76e6ea4d3d97379"
 },
 "nbformat": 3,
 "nbformat_minor": 0,
 "worksheets": [
  {
   "cells": [
    {
     "cell_type": "heading",
     "level": 1,
     "metadata": {},
     "source": [
      "Merging Galaxies Project"
     ]
    },
    {
     "cell_type": "markdown",
     "metadata": {},
     "source": [
      "What it needs to do:\n",
      "    \n",
      "    Simulate two merging galaxies. This means it keeps track of where one is reletive to the other, where all of the surrounding 'stars' are, how one galaxy center is affected by the other, and how the motion of the stars is affected by the other galaxy.\n",
      "\n",
      "How it can do this:\n",
      "    \n",
      "    Define the 'central' galaxy (the galaxy in whose frame of referance we are in) as a point mass surrounded by massless 'stars'. Create a general function that simulates the force of gravity from both galactic centers on any given star and calculates the resulting movement. Keep track of each stars position and their new positions. Create a function for the motion of the second galactic center reletive to the first and make it fully customizable (initial position, initial velocity, initial acceleration(?), etc.)."
     ]
    },
    {
     "cell_type": "markdown",
     "metadata": {},
     "source": [
      "https://polylearn.calpoly.edu/AY_2013-2014/pluginfile.php/433573/mod_resource/content/1/GalaxyMergers.html"
     ]
    },
    {
     "cell_type": "code",
     "collapsed": false,
     "input": [
      "%pylab inline\n",
      "import numpy as np\n",
      "import matplotlib.pyplot as plt\n",
      "from scipy.integrate import odeint"
     ],
     "language": "python",
     "metadata": {},
     "outputs": [
      {
       "output_type": "stream",
       "stream": "stdout",
       "text": [
        "Populating the interactive namespace from numpy and matplotlib\n"
       ]
      }
     ],
     "prompt_number": 1
    },
    {
     "cell_type": "code",
     "collapsed": false,
     "input": [
      "def create_star_field(stars, r, vr, vtheta, ar, atheta):\n",
      "    \"\"\"\n",
      "    Creates a 'field' of stars (where 'stars' is the desired number of stars) in a ring r distance from the origin\n",
      "    and returns them in a list. vr and vtheta are the desired initial components of the velocity of every star. ar and atheta \n",
      "    are the desired initial components of acceleration of every star. Each star is defined by a list of four numbers:\n",
      "    its initial position components (r and theta), and its initial velocity components (vr and vtheta).\n",
      "    \"\"\"\n",
      "    import numpy as np\n",
      "    star_field = []                                       #creates an empty list\n",
      "    theta = np.arange(0, 2 * np.pi, (2 * np.pi) / stars)  #creates an array of theta coordinates in a ring around the origin\n",
      "    for i in theta:                                       #for each theta a star is creates at (r, theta)\n",
      "        star_field.append([r, theta, vr, vtheta, ar, atheta])     \n",
      "    return star_field                                     #each star is added to the list, which is returned at the very end\n",
      "\n",
      "def star_movement(star, t, da):\n",
      "    \"\"\"\n",
      "    Takes a star and moves it through some time t while applying some change (da) to its initial accelration.\n",
      "    Creates a plot for each time step. Each subsequent plot has a lighter shade of color, making it easy to tell how the\n",
      "    star is moving.\n",
      "    \"\"\"\n",
      "    import numpy as np\n",
      "    import matplotlib.pyplot as plt\n",
      "    r = star[0]; theta = star[1]                         #extracts the position, velocity, and acceleration components \n",
      "    vr = star[2]; vtheta = star[3]                       #of each star and sets them to a variable\n",
      "    ar = star[4]; atheta = star[5]\n",
      "    star_path = []                                       #creates an empty list that will hold the star's new positions\n",
      "    for i in t:\n",
      "        x = r * np.cos(theta)                            #converts positions from polar to cartesian to plot them\n",
      "        y = r * np.sin(theta)\n",
      "        plt.plot(x, y, color = (.0 + i / 6, .0 + i / 6, .0 + i / 6), marker ='o', markersize = 4, linewidth = 0)\n",
      "        r = r + vr                                       #then its position is incrimented by its current velocity,\n",
      "        theta = theta + vtheta                                       \n",
      "        vr = vr + ar                                     #its velocity is incrimented by its current acceleration,\n",
      "        vtheta = vtheta + atheta\n",
      "        ar = da                                          #and finally its acceleration is incrimented by the given da\n",
      "        atheta = da\n",
      "    return star_path                                     #returns a list of the star's aspects at each time step\n",
      "    \n",
      "def field_movement(star_field, t, da):\n",
      "    \"\"\"\n",
      "    Applies the function star_movement, with desired acceleration change da, to each star in \n",
      "    a field of stars over some set of time steps t.\n",
      "    \"\"\"\n",
      "    for i in star_field:\n",
      "        return star_movement(i, t, da)\n",
      "\n",
      "def gal_movement(dis_gal, t, aR, aphi):\n",
      "    import numpy as np\n",
      "    import matplotlib.pyplot as plt\n",
      "    R = dis_gal[0]; phi = dis_gal[1]\n",
      "    vR = dis_gal[2]; vphi = dis_gal[3]\n",
      "    gal_path = []\n",
      "    for i in t:\n",
      "        x = R * np.cos(phi)                            #converts gal's position from polar to cartesian to plot it\n",
      "        y = R * np.sin(phi)\n",
      "        plt.plot(x, y, 'b^', markersize = 10)\n",
      "        R = R + vR\n",
      "        phi = phi + vphi\n",
      "        vR = vR + aR\n",
      "        vphi = vphi + aphi\n",
      "    return gal_path"
     ],
     "language": "python",
     "metadata": {},
     "outputs": [],
     "prompt_number": 2
    },
    {
     "cell_type": "code",
     "collapsed": false,
     "input": [
      "t = np.arange(0., 6., 1)\n",
      "ring1 = create_star_field(3, 1, 0, 5, 0, 0)\n",
      "ring2 = create_star_field(6, 2, 0, 3, 0, 0)\n",
      "ring3 = create_star_field(12, 4, 0, 1, 0, 0)\n",
      "field_movement(ring1, t, 0)\n",
      "field_movement(ring2, t, 0)\n",
      "field_movement(ring3, t, 0)\n",
      "\n",
      "\n",
      "dis_gal = [24, np.pi / 3, -9, -np.pi / 6, 4] #creates a galaxy at (R = 24, phi = pi/3) with velcity (0, 0) and mass S = 4\n",
      "gal_movement(dis_gal, t, 0, 0)\n",
      "\n",
      "plt.scatter(0, 0, s=400, c = 'r')\n",
      "plt.grid()\n",
      "plt.show()"
     ],
     "language": "python",
     "metadata": {},
     "outputs": [
      {
       "metadata": {},
       "output_type": "display_data",
       "png": "[encoded data removed]",
       "text": [
        "<matplotlib.figure.Figure at 0x105140d50>"
       ]
      }
     ],
     "prompt_number": 3
    },
    {
     "cell_type": "code",
     "collapsed": false,
     "input": [
      "G = 6.67384 * (10 ** -11) #m^3 kg^-1 s^-2      gravitational constant\n",
      "M = 10 #arbitrary kg                                    mass of central galaxy\n",
      "S = 10 #arbitrary kg                                    mass of disrupting galaxy\n",
      "\n",
      "#star = [r, theta, vr, vtheta, ar, atheta]\n",
      "#dis_gal = [24, np.pi / 3, 4] \n",
      "\n",
      "star = [2., 1., 0., 0.]\n",
      "\n",
      "def equations(star, dis_gal, t):\n",
      "    rvec = [star[0], star[1]]\n",
      "    rvel = star[2]\n",
      "    thetavel = star[3]\n",
      "    \n",
      "    Rvec = [dis_gal[0], dis_gal[1]]\n",
      "    Rvel = dis_gal[2]\n",
      "    phivel = dis_gal[3]\n",
      "    \n",
      "    rho = star[0] - dis_gal[0]\n",
      "    rhovec = [rvec[0] - Rvec[0], rvec[1] - Rvec[1]]\n",
      "    \n",
      "      \n",
      "   \n",
      "    func1 = (-G) * (((M/(float(star[0]) ** 3.))*rvec[0])-((S/(float(rho) ** 3.))*rhovec[0])-((S/(dis_gal[0] ** 3.))*Rvec[0]))\n",
      "    func2 = (-G) * ((M + S) / ((dis_gal[0]) ** 3.)) * Rvec[0]\n",
      "    \n",
      "    star = odeint(func1, (star, dis_gal), t)\n",
      "    dis_gal = odeint(func2, (star, dis_gal), t)\n",
      "    \n",
      "    return star, dis_gal\n",
      "  \n",
      "\n",
      "test = [1., np.pi / 2., 0., np.pi / 6., 0, 0]\n",
      "\n",
      "starnew, dis_gal_new = equations(test, star, t)\n",
      "\n",
      "\n",
      "xstar = starnew[0] * np.cos(starnew[1])\n",
      "ystar = starnew[0] * np.sin(starnew[1])\n",
      "\n",
      "plt.plot(xstar, ystar); #plot trajectory\n",
      "plt.scatter(0, 0, s=400, c = 'r') #center of galaxy\n",
      "plt.grid();\n",
      "plt.show();"
     ],
     "language": "python",
     "metadata": {},
     "outputs": [
      {
       "ename": "error",
       "evalue": "The function and its Jacobian must be callable functions.",
       "output_type": "pyerr",
       "traceback": [
        "\u001b[0;31m---------------------------------------------------------------------------\u001b[0m\n\u001b[0;31merror\u001b[0m                                     Traceback (most recent call last)",
        "\u001b[0;32m<ipython-input-5-c22f55867a07>\u001b[0m in \u001b[0;36m<module>\u001b[0;34m()\u001b[0m\n\u001b[1;32m     33\u001b[0m \u001b[0mtest\u001b[0m \u001b[0;34m=\u001b[0m \u001b[0;34m[\u001b[0m\u001b[0;36m1.\u001b[0m\u001b[0;34m,\u001b[0m \u001b[0mnp\u001b[0m\u001b[0;34m.\u001b[0m\u001b[0mpi\u001b[0m \u001b[0;34m/\u001b[0m \u001b[0;36m2.\u001b[0m\u001b[0;34m,\u001b[0m \u001b[0;36m0.\u001b[0m\u001b[0;34m,\u001b[0m \u001b[0mnp\u001b[0m\u001b[0;34m.\u001b[0m\u001b[0mpi\u001b[0m \u001b[0;34m/\u001b[0m \u001b[0;36m6.\u001b[0m\u001b[0;34m,\u001b[0m \u001b[0;36m0\u001b[0m\u001b[0;34m,\u001b[0m \u001b[0;36m0\u001b[0m\u001b[0;34m]\u001b[0m\u001b[0;34m\u001b[0m\u001b[0m\n\u001b[1;32m     34\u001b[0m \u001b[0;34m\u001b[0m\u001b[0m\n\u001b[0;32m---> 35\u001b[0;31m \u001b[0mstarnew\u001b[0m\u001b[0;34m,\u001b[0m \u001b[0mdis_gal_new\u001b[0m \u001b[0;34m=\u001b[0m \u001b[0mequations\u001b[0m\u001b[0;34m(\u001b[0m\u001b[0mtest\u001b[0m\u001b[0;34m,\u001b[0m \u001b[0mstar\u001b[0m\u001b[0;34m,\u001b[0m \u001b[0mt\u001b[0m\u001b[0;34m)\u001b[0m\u001b[0;34m\u001b[0m\u001b[0m\n\u001b[0m\u001b[1;32m     36\u001b[0m \u001b[0;34m\u001b[0m\u001b[0m\n\u001b[1;32m     37\u001b[0m \u001b[0;34m\u001b[0m\u001b[0m\n",
        "\u001b[0;32m<ipython-input-5-c22f55867a07>\u001b[0m in \u001b[0;36mequations\u001b[0;34m(star, dis_gal, t)\u001b[0m\n\u001b[1;32m     25\u001b[0m     \u001b[0mfunc2\u001b[0m \u001b[0;34m=\u001b[0m \u001b[0;34m(\u001b[0m\u001b[0;34m-\u001b[0m\u001b[0mG\u001b[0m\u001b[0;34m)\u001b[0m \u001b[0;34m*\u001b[0m \u001b[0;34m(\u001b[0m\u001b[0;34m(\u001b[0m\u001b[0mM\u001b[0m \u001b[0;34m+\u001b[0m \u001b[0mS\u001b[0m\u001b[0;34m)\u001b[0m \u001b[0;34m/\u001b[0m \u001b[0;34m(\u001b[0m\u001b[0;34m(\u001b[0m\u001b[0mdis_gal\u001b[0m\u001b[0;34m[\u001b[0m\u001b[0;36m0\u001b[0m\u001b[0;34m]\u001b[0m\u001b[0;34m)\u001b[0m \u001b[0;34m**\u001b[0m \u001b[0;36m3.\u001b[0m\u001b[0;34m)\u001b[0m\u001b[0;34m)\u001b[0m \u001b[0;34m*\u001b[0m \u001b[0mRvec\u001b[0m\u001b[0;34m[\u001b[0m\u001b[0;36m0\u001b[0m\u001b[0;34m]\u001b[0m\u001b[0;34m\u001b[0m\u001b[0m\n\u001b[1;32m     26\u001b[0m \u001b[0;34m\u001b[0m\u001b[0m\n\u001b[0;32m---> 27\u001b[0;31m     \u001b[0mstar\u001b[0m \u001b[0;34m=\u001b[0m \u001b[0modeint\u001b[0m\u001b[0;34m(\u001b[0m\u001b[0mfunc1\u001b[0m\u001b[0;34m,\u001b[0m \u001b[0;34m(\u001b[0m\u001b[0mstar\u001b[0m\u001b[0;34m,\u001b[0m \u001b[0mdis_gal\u001b[0m\u001b[0;34m)\u001b[0m\u001b[0;34m,\u001b[0m \u001b[0mt\u001b[0m\u001b[0;34m)\u001b[0m\u001b[0;34m\u001b[0m\u001b[0m\n\u001b[0m\u001b[1;32m     28\u001b[0m     \u001b[0mdis_gal\u001b[0m \u001b[0;34m=\u001b[0m \u001b[0modeint\u001b[0m\u001b[0;34m(\u001b[0m\u001b[0mfunc2\u001b[0m\u001b[0;34m,\u001b[0m \u001b[0;34m(\u001b[0m\u001b[0mstar\u001b[0m\u001b[0;34m,\u001b[0m \u001b[0mdis_gal\u001b[0m\u001b[0;34m)\u001b[0m\u001b[0;34m,\u001b[0m \u001b[0mt\u001b[0m\u001b[0;34m)\u001b[0m\u001b[0;34m\u001b[0m\u001b[0m\n\u001b[1;32m     29\u001b[0m \u001b[0;34m\u001b[0m\u001b[0m\n",
        "\u001b[0;32m/Users/anthonybardessono/anaconda/lib/python2.7/site-packages/scipy/integrate/odepack.pyc\u001b[0m in \u001b[0;36modeint\u001b[0;34m(func, y0, t, args, Dfun, col_deriv, full_output, ml, mu, rtol, atol, tcrit, h0, hmax, hmin, ixpr, mxstep, mxhnil, mxordn, mxords, printmessg)\u001b[0m\n\u001b[1;32m    142\u001b[0m     output = _odepack.odeint(func, y0, t, args, Dfun, col_deriv, ml, mu,\n\u001b[1;32m    143\u001b[0m                              \u001b[0mfull_output\u001b[0m\u001b[0;34m,\u001b[0m \u001b[0mrtol\u001b[0m\u001b[0;34m,\u001b[0m \u001b[0matol\u001b[0m\u001b[0;34m,\u001b[0m \u001b[0mtcrit\u001b[0m\u001b[0;34m,\u001b[0m \u001b[0mh0\u001b[0m\u001b[0;34m,\u001b[0m \u001b[0mhmax\u001b[0m\u001b[0;34m,\u001b[0m \u001b[0mhmin\u001b[0m\u001b[0;34m,\u001b[0m\u001b[0;34m\u001b[0m\u001b[0m\n\u001b[0;32m--> 144\u001b[0;31m                              ixpr, mxstep, mxhnil, mxordn, mxords)\n\u001b[0m\u001b[1;32m    145\u001b[0m     \u001b[0;32mif\u001b[0m \u001b[0moutput\u001b[0m\u001b[0;34m[\u001b[0m\u001b[0;34m-\u001b[0m\u001b[0;36m1\u001b[0m\u001b[0;34m]\u001b[0m \u001b[0;34m<\u001b[0m \u001b[0;36m0\u001b[0m\u001b[0;34m:\u001b[0m\u001b[0;34m\u001b[0m\u001b[0m\n\u001b[1;32m    146\u001b[0m         \u001b[0;32mprint\u001b[0m\u001b[0;34m(\u001b[0m\u001b[0m_msgs\u001b[0m\u001b[0;34m[\u001b[0m\u001b[0moutput\u001b[0m\u001b[0;34m[\u001b[0m\u001b[0;34m-\u001b[0m\u001b[0;36m1\u001b[0m\u001b[0;34m]\u001b[0m\u001b[0;34m]\u001b[0m\u001b[0;34m)\u001b[0m\u001b[0;34m\u001b[0m\u001b[0m\n",
        "\u001b[0;31merror\u001b[0m: The function and its Jacobian must be callable functions."
       ]
      }
     ],
     "prompt_number": 5
    },
    {
     "cell_type": "code",
     "collapsed": false,
     "input": [
      "timeLimit = 99\n",
      "\n",
      "# format [x velocity, x position, y velocity, y position]\n",
      "\n",
      "# function used by odeint which returns various derivatives\n",
      "def R(r, t):\n",
      "    xaccel = np.cos(np.arctan2(r[3], r[1])) * (C / (r[1]**2 + r[3]**2)**.5); \n",
      "    xvel = r[0];\n",
      "    yaccel = np.sin(np.arctan2(r[3], r[1])) * C / (r[1]**2 + r[3]**2)**.5;\n",
      "    yvel = r[2];\n",
      "    \n",
      "    return np.array([xaccel, xvel, yaccel, yvel])\n",
      "\n",
      "loc = odeint(R, loc, np.linspace(0, timeLimit, timeLimit + 1));\n",
      "    \n",
      "x = loc[:,1]; # extracts the x values from loc\n",
      "y = loc[:,3]; # extracts the y values from loc\n",
      "\n",
      "plt.plot(xstar, ystar); #plot trajectory\n",
      "plt.scatter(0, 0, s=400, c = 'r') #center of galaxy\n",
      "plt.annotate(\"t = 0\", xy = (loc[1, 1], loc[1,3]), xytext=(loc[1, 1] + 2, loc[1,3]- 15), \\\n",
      "            arrowprops=dict(facecolor='black', shrink=0.05, width=.5)); #label start\n",
      "plt.grid();\n",
      "plt.show();\n",
      "\n"
     ],
     "language": "python",
     "metadata": {},
     "outputs": []
    }
   ],
   "metadata": {}
  }
 ]
}