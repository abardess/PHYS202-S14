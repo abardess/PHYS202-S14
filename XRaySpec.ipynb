{
 "metadata": {
  "name": "",
  "signature": "sha256:b41f9e314b740ea72d6547c137354076f3a43929fbce2c18d3ae5096b5233ab7"
 },
 "nbformat": 3,
 "nbformat_minor": 0,
 "worksheets": [
  {
   "cells": [
    {
     "cell_type": "code",
     "collapsed": false,
     "input": [
      "%pylab inline\n",
      "import numpy as np\n",
      "import matplotlib.pyplot as plt\n",
      "from random import randint\n",
      "import scipy.optimize as optimization"
     ],
     "language": "python",
     "metadata": {},
     "outputs": [
      {
       "output_type": "stream",
       "stream": "stdout",
       "text": [
        "Populating the interactive namespace from numpy and matplotlib\n"
       ]
      }
     ],
     "prompt_number": 1
    },
    {
     "cell_type": "code",
     "collapsed": false,
     "input": [
      "Fe_K_alpha_channel = 49.73\n",
      "Fe_K_beta_channel = 54.74\n",
      "Fe_K_alpha_FWHM = 2.002\n",
      "Fe_K_alpha_energy = 6.40 #keV\n",
      "Fe_K_beta_energy = 7.06 #keV"
     ],
     "language": "python",
     "metadata": {},
     "outputs": [],
     "prompt_number": 2
    },
    {
     "cell_type": "code",
     "collapsed": false,
     "input": [
      "print \"Measured Resolution:\", (0.66 / 5.01) * 2.002, \"keV\""
     ],
     "language": "python",
     "metadata": {},
     "outputs": [
      {
       "output_type": "stream",
       "stream": "stdout",
       "text": [
        "Measured Resolution: 0.263736526946 keV\n"
       ]
      }
     ],
     "prompt_number": 7
    },
    {
     "cell_type": "code",
     "collapsed": false,
     "input": [
      "#Fe, Ni, Cu, Zr, Sn\n",
      "c_alpha = [49.73, 58.02, 62.54, 122.08, 196.1] #Channel Number\n",
      "c_beta = [54.74, 64.25, 69.22, 137.8, 221.7] #Channel Number\n",
      "\n",
      "E_alpha = [6.40, 7.48, 8.05, 15.78, 25.27] #keV\n",
      "E_beta = [7.06, 8.26, 8.91, 17.67, 28.49] #keV\n",
      "\n",
      "m1, b1 = pylab.polyfit(c_alpha, E_alpha, 1)\n",
      "m2, b2 = pylab.polyfit(c_beta, E_beta, 1)\n",
      "\n",
      "x = np.arange(0, 512, 1)\n",
      "alpha_fit = []\n",
      "beta_fit = []\n",
      "for i in range(512):\n",
      "    alpha_fit.append(b1 + m1*i)\n",
      "    beta_fit.append(b2 + m2*i)\n",
      "\n",
      "plt.plot(c_alpha, E_alpha, 'or')\n",
      "plt.plot(c_beta, E_beta, '^')\n",
      "#plt.plot(alpha_fit, x, 'g')\n",
      "#plt.plot(beta_fit, x, 'g')\n",
      "plt.show()\n",
      "print \"Slopes:\", m1, m2\n",
      "print \"Intercepts:\", b1, b2"
     ],
     "language": "python",
     "metadata": {},
     "outputs": [
      {
       "metadata": {},
       "output_type": "display_data",
       "png": "[encoded data removed]",
       "text": [
        "<matplotlib.figure.Figure at 0x10598b1d0>"
       ]
      },
      {
       "output_type": "stream",
       "stream": "stdout",
       "text": [
        "Slopes: 0.128977617967 0.128345964491\n",
        "Intercepts: -0.00433940963915 0.0187263576988\n"
       ]
      }
     ],
     "prompt_number": 16
    },
    {
     "cell_type": "code",
     "collapsed": false,
     "input": [
      "m1 *135.31 + b1"
     ],
     "language": "python",
     "metadata": {},
     "outputs": [
      {
       "metadata": {},
       "output_type": "pyout",
       "prompt_number": 14,
       "text": [
        "17.44762207743554"
       ]
      }
     ],
     "prompt_number": 14
    },
    {
     "cell_type": "code",
     "collapsed": false,
     "input": [
      "m2 *152.89 +b2"
     ],
     "language": "python",
     "metadata": {},
     "outputs": [
      {
       "metadata": {},
       "output_type": "pyout",
       "prompt_number": 15,
       "text": [
        "19.641540868766985"
       ]
      }
     ],
     "prompt_number": 15
    },
    {
     "cell_type": "code",
     "collapsed": false,
     "input": [
      "#Fe, Ni, Cu, Zr, Mo, Rh, Sn\n",
      "c_alpha2 = [49.73, 58.02, 62.54, 122.08, 135.31, 157.0, 196.1] #Channel Number\n",
      "c_beta2 = [54.74, 64.25, 69.22, 137.8, 152.89, 176.6, 221.7] #Channel Number\n",
      "\n",
      "E_alpha2 = [6.40, 7.48, 8.05, 15.78, 17.48, 20.22, 25.27] #keV\n",
      "E_beta2 = [7.06, 8.26, 8.91, 17.67, 19.61, 22.72, 28.49] #keV\n",
      "\n",
      "m1_2, b1_2 = pylab.polyfit(c_alpha2, E_alpha2, 1)\n",
      "m2_2, b2_2 = pylab.polyfit(c_beta2, E_beta2, 1)\n",
      "plt.plot(c_alpha2, E_alpha2, 'or')\n",
      "plt.plot(c_beta2, E_beta2, '^')\n",
      "plt.show()\n",
      "print \"Slopes:\", m1_2, m2_2\n",
      "print \"Intercepts:\", b1_2, b2_2"
     ],
     "language": "python",
     "metadata": {},
     "outputs": [
      {
       "metadata": {},
       "output_type": "display_data",
       "png": "[encoded data removed]",
       "text": [
        "<matplotlib.figure.Figure at 0x105994590>"
       ]
      },
      {
       "output_type": "stream",
       "stream": "stdout",
       "text": [
        "Slopes: 0.128957936098 0.128384215888\n",
        "Intercepts: -0.00111104948402 0.0144808318507\n"
       ]
      }
     ],
     "prompt_number": 17
    },
    {
     "cell_type": "code",
     "collapsed": false,
     "input": [
      "c = [49.73, 54.74, 58.02, 62.54, 64.25, 69.22, 122.08, 135.31, 137.8, 152.89, 157.0, 176.6, 196.1, 221.7] #Channel Number\n",
      "E = [6.40, 7.06, 7.48, 8.05, 8.26, 8.91, 15.78, 17.48, 17.67, 19.61, 20.22, 22.72, 25.27, 28.49] #keV\n",
      "\n",
      "m, b = pylab.polyfit(c, E, 1)\n",
      "print \"slope:\", m\n",
      "print \"intercept:\", b"
     ],
     "language": "python",
     "metadata": {},
     "outputs": [
      {
       "output_type": "stream",
       "stream": "stdout",
       "text": [
        "slope: 0.128577179415\n",
        "intercept: 0.0158291480607\n"
       ]
      }
     ],
     "prompt_number": 19
    },
    {
     "cell_type": "code",
     "collapsed": false,
     "input": [
      "m*383.94 + b"
     ],
     "language": "python",
     "metadata": {},
     "outputs": [
      {
       "metadata": {},
       "output_type": "pyout",
       "prompt_number": 34,
       "text": [
        "49.381751412810637"
       ]
      }
     ],
     "prompt_number": 34
    },
    {
     "cell_type": "code",
     "collapsed": false,
     "input": [
      "Sn = [196.05, 221.89, 226.8] #K_alpha, K_beta_1, K_beta_2\n",
      "Pb = [71.58, 82.08, 98.08, 115.36] #L_L, L_alpha_1, L_Beta_1, L_gamma_1\n",
      "\n",
      "Brass = [62.55, 67.50, 74.55] #Channels\n",
      "Steel = [49.77, 54.9]\n",
      "SSteel = [49.65, 54.67, 58.26] #Channels\n",
      "GalSteel = [42.16, 49.76, 54.43, 67.09, 74.36] #Channel\n",
      "\n",
      "K1 = [75.45, 89.25, 66.69, 81.77, 98.15, 104.60, 131.96] #unknown 1\n",
      "K2 = [82.04, 98.13, 131.57, 172.13, 194.35] #unknown 2\n",
      "\n",
      "Sample1 = [49.67, 58.14, 63.83, 104.04, 123.14, 130.90, 249.57] #Red Rock\n",
      "Sample2 = [49.58, 58.18, 64.03, 124.03, 131.94, 138.25, 250.01, 109.43] #Small Rock\n",
      "Sample3 = [58.14, 64.19, 108.68, 123.83, 131.57, 138.26, 251.61] #Black Rock\n",
      "\n",
      "Mystery_Peak = 383.94 #????"
     ],
     "language": "python",
     "metadata": {},
     "outputs": [],
     "prompt_number": 54
    },
    {
     "cell_type": "code",
     "collapsed": false,
     "input": [
      "def convert(Channels):\n",
      "    Energies = []\n",
      "    for i in Channels:\n",
      "        Energies.append(m*i + b)\n",
      "    return Energies"
     ],
     "language": "python",
     "metadata": {},
     "outputs": [],
     "prompt_number": 40
    },
    {
     "cell_type": "code",
     "collapsed": false,
     "input": [
      "Sn_E = convert(Sn)\n",
      "Pb_E = convert(Pb)\n",
      "\n",
      "print Sn_E\n",
      "print Pb_E"
     ],
     "language": "python",
     "metadata": {},
     "outputs": [
      {
       "output_type": "stream",
       "stream": "stdout",
       "text": [
        "[25.223385172450509, 28.545819488544527, 29.177133439474161]\n",
        "[9.2193836506152582, 10.569444034476993, 12.626678905123445, 14.848492565421616]\n"
       ]
      }
     ],
     "prompt_number": 52
    },
    {
     "cell_type": "code",
     "collapsed": false,
     "input": [
      "Brass_E = convert(Brass)\n",
      "Steel_E = convert(Steel)\n",
      "SSteel_E = convert(SSteel)\n",
      "GalSteel_E = convert(GalSteel)\n",
      "\n",
      "print Brass_E, \"Copper and Zinc\"\n",
      "print Steel_E, \"Iron and Carbon\"\n",
      "print SSteel_E, \"Steel and Cromium\"\n",
      "print GalSteel_E, \"SSteel and Zinc\""
     ],
     "language": "python",
     "metadata": {},
     "outputs": [
      {
       "output_type": "stream",
       "stream": "stdout",
       "text": [
        "[8.0583317204941665, 8.6947887586004118, 9.6012578734790051] Copper and Zinc\n",
        "[6.4151153675653116, 7.0747162979663294] Iron and Carbon\n",
        "[6.3996861060354622, 7.0451435467007872, 7.5067356208020843] Steel and Cromium\n",
        "[5.4366430322140911, 6.4138295957711566, 7.0142850236410901, 8.6420721150400972, 9.5768282093900794] SSteel and Zinc\n"
       ]
      }
     ],
     "prompt_number": 47
    },
    {
     "cell_type": "code",
     "collapsed": false,
     "input": [
      "K1_E = convert(K1)\n",
      "K2_E = convert(K2)\n",
      "print K1_E\n",
      "print K2_E"
     ],
     "language": "python",
     "metadata": {},
     "outputs": [
      {
       "output_type": "stream",
       "stream": "stdout",
       "text": [
        "[9.716977334952869, 11.491342410885434, 8.5906412432739359, 10.529585108858218, 12.635679307682524, 13.465002114911874, 16.98287374371731]\n",
        "[10.564300947300378, 12.633107764094214, 16.932728643745303, 22.147819040834062, 25.004803967444321]\n"
       ]
      }
     ],
     "prompt_number": 48
    },
    {
     "cell_type": "code",
     "collapsed": false,
     "input": [
      "K1_Guess = ['Gold']\n",
      "Zinc = [8.6, 9.5] #keV\n",
      "\n",
      "K2_Guess = ['Silver']\n",
      "Silver = [22.1, 24.9] #keV"
     ],
     "language": "python",
     "metadata": {},
     "outputs": [],
     "prompt_number": 59
    },
    {
     "cell_type": "code",
     "collapsed": false,
     "input": [
      "Sample1_E = convert(Sample1)\n",
      "Sample2_E = convert(Sample2)\n",
      "Sample3_E = convert(Sample3)\n",
      "\n",
      "print Sample1_E\n",
      "print Sample2_E\n",
      "print Sample3_E"
     ],
     "language": "python",
     "metadata": {},
     "outputs": [
      {
       "output_type": "stream",
       "stream": "stdout",
       "text": [
        "[6.4022576496237704, 7.4913063592722366, 8.2229105101458817, 13.39299889443925, 15.848823021273452, 16.846581933536982, 32.104835814762893]\n",
        "[6.3906857034763842, 7.4964494464488531, 8.2486259460289624, 15.963256710953162, 16.980302200129003, 17.791624202240197, 32.161409773705671, 14.086029891488273]\n",
        "[7.4913063592722366, 8.2691982947354266, 13.989597006926722, 15.93754127507008, 16.932728643745303, 17.792909974034348, 32.367133260770316]\n"
       ]
      }
     ],
     "prompt_number": 55
    },
    {
     "cell_type": "code",
     "collapsed": false,
     "input": [
      "print [6.4, 7.5, 8.2, 15.9, 16.9, 32.1] #common to all three\n",
      "#Iron, Nickle, Nickle, Sr/Zr, Yttrium, Barium\n",
      "print [17.8, 14.0] #common to two\n",
      "#Zr"
     ],
     "language": "python",
     "metadata": {},
     "outputs": [
      {
       "output_type": "stream",
       "stream": "stdout",
       "text": [
        "[6.4, 7.5, 8.2, 15.9, 16.9, 32.1]\n",
        "[17.8, 14.0]\n"
       ]
      }
     ],
     "prompt_number": 58
    },
    {
     "cell_type": "code",
     "collapsed": false,
     "input": [
      "#E^(1/2) = CZ - S\n",
      "#Fe, Ni, Cu, Zr, Mo, Rh, Sn\n",
      "Z_alpha = [26, 28, 29, 40, 42, 45, 50]\n",
      "e = []\n",
      "for i in E_alpha2:\n",
      "    e.append(np.sqrt(i))\n",
      "\n",
      "C, S = pylab.polyfit(Z_alpha, e, 1)  \n",
      "plt.plot(Z_alpha, e, '^')\n",
      "print \"S:\", S\n",
      "print \"C:\", C\n",
      "plt.show()"
     ],
     "language": "python",
     "metadata": {},
     "outputs": [
      {
       "output_type": "stream",
       "stream": "stdout",
       "text": [
        "S: -1.67116185874\n",
        "C: 0.103820966899\n"
       ]
      },
      {
       "metadata": {},
       "output_type": "display_data",
       "png": "[encoded data removed]",
       "text": [
        "<matplotlib.figure.Figure at 0x1059774d0>"
       ]
      }
     ],
     "prompt_number": 36
    },
    {
     "cell_type": "code",
     "collapsed": false,
     "input": [],
     "language": "python",
     "metadata": {},
     "outputs": []
    }
   ],
   "metadata": {}
  }
 ]
}