{
 "metadata": {
  "name": "",
  "signature": "sha256:acf6c3769261f45ce528411bd998f93b6a41a09a55ca0826deb7fb8cc1aa9f99"
 },
 "nbformat": 3,
 "nbformat_minor": 0,
 "worksheets": [
  {
   "cells": [
    {
     "cell_type": "code",
     "collapsed": false,
     "input": [
      "%pylab inline\n",
      "import numpy as np\n",
      "import matplotlib.pyplot as plt\n",
      "from scipy.integrate import odeint"
     ],
     "language": "python",
     "metadata": {},
     "outputs": [
      {
       "output_type": "stream",
       "stream": "stdout",
       "text": [
        "Populating the interactive namespace from numpy and matplotlib\n"
       ]
      }
     ],
     "prompt_number": 1
    },
    {
     "cell_type": "code",
     "collapsed": false,
     "input": [
      "def create_star_field_polar(stars, r, vr, vtheta):\n",
      "    \"\"\"\n",
      "    Creates a 'field' of stars (where 'stars' is the desired number of stars) in a ring r distance from the origin\n",
      "    and returns them in a list. vr and vtheta are the desired initial components of the velocity of every star.\n",
      "    Each star is defined by a list of four numbers: its initial position components (r and theta), \n",
      "    and its initial velocity components (vr and vtheta). Stars are defined using a polar coordinate system.\n",
      "    \"\"\"\n",
      "    import numpy as np\n",
      "    star_field = []                                       #creates an empty list\n",
      "    theta = np.arange(0, 2 * np.pi, (2 * np.pi) / stars)  #creates an array of theta coordinates in a ring around the origin\n",
      "    for i in theta:                                       #for each theta a star is creates at r\n",
      "        star_field.append([r, i, vr, vtheta])     \n",
      "    return star_field                                     #each star is added to the list, which is returned at the very end"
     ],
     "language": "python",
     "metadata": {},
     "outputs": [],
     "prompt_number": 2
    },
    {
     "cell_type": "code",
     "collapsed": false,
     "input": [
      "Rmin = 25 #kpc\n",
      "T = 5.442 #time-units (544.2 million years)\n",
      "ring1 = create_star_field_polar(12, (.2 * Rmin), 0, 2 * np.pi / T)      #create five rings of stars around the galaxy's center\n",
      "ring2 = create_star_field_polar(18, (.3 * Rmin), 0, 2 * np.pi / T)\n",
      "ring3 = create_star_field_polar(24, (.4 * Rmin), 0, 2 * np.pi / T)\n",
      "ring4 = create_star_field_polar(30, (.5 * Rmin), 0, 2 * np.pi / T)\n",
      "ring5 = create_star_field_polar(36, (.6 * Rmin), 0, 2 * np.pi / T)\n",
      "\n",
      "rings = [ring1, ring2, ring3, ring4, ring5]         #save those rings in a list\n",
      "for ring in rings:                                  #plot the positions of each star in each ring\n",
      "    x = []\n",
      "    y = []\n",
      "    for star in ring:\n",
      "        x.append(star[0] * np.cos(star[1]))\n",
      "        y.append(star[0] * np.sin(star[1]))\n",
      "    plt.axis(\"equal\")\n",
      "    plt.plot(x, y, 'bo')\n",
      "plt.scatter(0, 0, s = 400, c = 'r')                 #plots the center of galaxy, for reference\n",
      "plt.show()"
     ],
     "language": "python",
     "metadata": {},
     "outputs": [
      {
       "metadata": {},
       "output_type": "display_data",
       "png": "[encoded data removed]",
       "text": [
        "<matplotlib.figure.Figure at 0x105303bd0>"
       ]
      }
     ],
     "prompt_number": 6
    },
    {
     "cell_type": "code",
     "collapsed": false,
     "input": [
      "def create_star_field_cartesian(stars, r, vx, vy):\n",
      "    \"\"\"\n",
      "    Creates a 'field' of stars (where 'stars' is the desired number of stars) in a ring r distance from the origin\n",
      "    and returns them in a list. vx and vy are the desired initial components of the velocity of every star.\n",
      "    Each star is defined by a list of four numbers: its initial position components (x and y), and its initial\n",
      "    velocity components (vx and vy). Stars are defined using a cartesian coordinate system.\n",
      "    \"\"\"\n",
      "    import numpy as np\n",
      "    star_field = []                                         #creates an empty list\n",
      "    theta = np.arange(0, 2 * np.pi, (2 * np.pi) / stars)    #creates an array of theta coordinates in a ring around the origin\n",
      "    for i in theta:                                         #for each theta a star is creates at r\n",
      "        x = r * np.cos(i)                                   #star's position is converted to a cartesian coordinate\n",
      "        y = r * np.sin(i)\n",
      "        star_field.append([x, y, vx, vy])\n",
      "    return star_field                                       #each star is added to the list, which is returned at the very end"
     ],
     "language": "python",
     "metadata": {},
     "outputs": [],
     "prompt_number": 4
    },
    {
     "cell_type": "code",
     "collapsed": false,
     "input": [
      "ring1c = create_star_field_cartesian(12, 1, 0, 0)           #creates and plots a test field\n",
      "for star in ring1c:\n",
      "    plt.axis(\"equal\")\n",
      "    plt.plot(star[0], star[1], 'bo')\n",
      "plt.scatter(0, 0, s = 400, c = 'r')                         #plots the center of the galaxy, for reference\n",
      "plt.show()"
     ],
     "language": "python",
     "metadata": {},
     "outputs": [
      {
       "metadata": {},
       "output_type": "display_data",
       "png": "[encoded data removed]",
       "text": [
        "<matplotlib.figure.Figure at 0x1053e57d0>"
       ]
      }
     ],
     "prompt_number": 5
    },
    {
     "cell_type": "code",
     "collapsed": false,
     "input": [
      "def create_galaxy(rings, stars, star_increase, r, seperation, cord_sys, v_init):\n",
      "    \"\"\"\n",
      "    Creates a galaxy with 'rings' amount of rings, starting r distance from the galactic center and then propagating\n",
      "    outward with distance 'seperation' between each one. Uses whichever cordinate system is specified, and gives all\n",
      "    stars in the galaxy an initial velocity of v_init (a list which contains both vectors of that velocity).\n",
      "    \"\"\"\n",
      "    galaxy = []\n",
      "    if cord_sys == 'cartesian' or 'Cartesian' or 'car' or 'c':\n",
      "        for i in range(rings):\n",
      "            vx = v_init[0]; vy = v_init[1]\n",
      "            galaxy.append(create_star_field_cartesian(stars, r, vx, vy))\n",
      "            r = r + seperation\n",
      "            stars = stars + star_increase\n",
      "        return galaxy\n",
      "    elif cord_sys == 'polar' or 'Polar' or 'pol' or 'p':\n",
      "        for i in range(rings):\n",
      "            vr = v_init[0]; vtheta = v_init[1]\n",
      "            galaxy.append(create_star_field_polar(stars, r, vr, vtheta))\n",
      "            r = r + seperation\n",
      "            stars = stars + star_increase\n",
      "        return galaxy\n",
      "    else:\n",
      "        print 'Invalid Coordinate system'\n",
      "        return none\n",
      "    \n",
      "#I've just realized that there is a problem here, specifically with the cartesian system. All stars created by this function\n",
      "#will have the same velocity vector. This is not a problem for the polar coordinate system, because in uniform circular motion\n",
      "#all stars will have the same radial velocity (zero) and the same angular velocity. That's how a circle works.\n",
      "#This is not true for a cartesian system. In cartesian coordinates each star's velocity vector is going to be changing\n",
      "#instantaniously as it circles around--a constant velocity vector would be a straight line. This paragraph is somewhat of an \n",
      "#obvious statement, but not understanding the differances between coordiante systems was part of what cause my problems in my \n",
      "#first attempt.\n",
      "#in summary, the first part of this function is useless for what we want to achieve--though it does work as stated."
     ],
     "language": "python",
     "metadata": {},
     "outputs": [],
     "prompt_number": 19
    },
    {
     "cell_type": "code",
     "collapsed": false,
     "input": [
      "galaxy = create_galaxy(4, 12, 6, 1, 1, 'pol', [0, pi/3])\n",
      "for ring in galaxy:\n",
      "    x = []\n",
      "    y = []\n",
      "    for star in ring:\n",
      "        x.append(star[0] * np.cos(star[1]))\n",
      "        y.append(star[0] * np.sin(star[1]))\n",
      "    plt.axis(\"equal\")\n",
      "    plt.plot(x, y, 'bo')\n",
      "plt.scatter(0, 0, s = 400, c = 'r')                 #plots the center of galaxy, for reference\n",
      "plt.show()"
     ],
     "language": "python",
     "metadata": {},
     "outputs": [
      {
       "metadata": {},
       "output_type": "display_data",
       "png": "[encoded data removed]",
       "text": [
        "<matplotlib.figure.Figure at 0x10512ce10>"
       ]
      }
     ],
     "prompt_number": 21
    },
    {
     "cell_type": "code",
     "collapsed": false,
     "input": [
      "def three_body(current_locals, t):\n",
      "    \"\"\"\n",
      "    Return the derivatives of the given equation for the position vectors of a star and a disrupting galaxy.\n",
      "    \"\"\"\n",
      "    import numpy as np\n",
      "    new = np.zeros(8)                                   #initializes an empty array that will hold derivatives\n",
      "                            \n",
      "    M = current_locals[8]                               #mass of central galaxy\n",
      "    S = current_locals[9]                               #mass of disrupting galaxy\n",
      "    G = current_locals[10]                              #gravitational constant     \n",
      "    \n",
      "    x = current_locals[0]                               #extracts position information for the star\n",
      "    y = current_locals[1]                              \n",
      "    r = np.sqrt((x ** 2) + (y ** 2))\n",
      "    \n",
      "    w = current_locals[4]                               #extracts position information for the disrupting galaxy\n",
      "    z = current_locals[5]\n",
      "    R = np.sqrt((w ** 2) + (z ** 2))\n",
      "    \n",
      "    rhox = w - x\n",
      "    rhoy = z - y\n",
      "    rho = R - r                                         #calculates distance information between star and disrupting galaxy\n",
      "\n",
      "    new[0] = current_locals[2]                          #sets new location information equal to current info's derivatives\n",
      "    new[1] = current_locals[3]\n",
      "    new[2] = -G * (((M / (r ** 3.)) * x) - ((S / (rho ** 3.)) * rhox) + ((S / (R ** 3.)) * w))\n",
      "    new[3] = -G * (((M / (r ** 3.)) * y) - ((S / (rho ** 3.)) * rhoy) + ((S / (R ** 3.)) * z))\n",
      "    new[4] = current_locals[6]\n",
      "    new[5] = current_locals[7]\n",
      "    new[6] = -G * (((M + S) / (R ** 3.)) * w)\n",
      "    new[7] = -G * (((M + S) / (R ** 3.)) * z)\n",
      "    \n",
      "    return new"
     ],
     "language": "python",
     "metadata": {},
     "outputs": [],
     "prompt_number": 7
    },
    {
     "cell_type": "code",
     "collapsed": false,
     "input": [
      "ring1 = create_star_field_polar(12, (.2 * Rmin), 0, 2 * np.pi / T)\n",
      "star = ring1[0]\n",
      "print star"
     ],
     "language": "python",
     "metadata": {},
     "outputs": [
      {
       "output_type": "stream",
       "stream": "stdout",
       "text": [
        "[5.0, 0.0, 0, 1.1545728238110229]\n"
       ]
      }
     ],
     "prompt_number": 9
    },
    {
     "cell_type": "code",
     "collapsed": false,
     "input": [
      "#location_data = [x, y, vx, vy, w, z, vw, vz, M, S, G]\n",
      "G = 4.5 * (10 ** -8) #kpc^3 solar masses^-1 years^-2 \n",
      "loc = [5.0, 0.0, 0.0, 1.1545728238110229, 0, 0, 0, 0, 10 ** 11, 0, G]\n",
      "t = np.arange(0, 10, 1)\n",
      "\n",
      "loc = odeint(three_body, loc, t);\n",
      "    \n",
      "x = loc[:,1]; # extracts the x values from loc\n",
      "y = loc[:,3]; # extracts the y values from loc\n",
      "print x\n",
      "print y\n",
      "plt.plot(x, y); #plot trajectory\n",
      "plt.scatter(0, 0, s=400, c = 'r') #center of galaxy\n",
      "plt.grid();\n",
      "plt.show();"
     ],
     "language": "python",
     "metadata": {},
     "outputs": [
      {
       "output_type": "stream",
       "stream": "stdout",
       "text": [
        "[  0.  nan  nan  nan  nan  nan  nan  nan  nan  nan]\n",
        "[ 1.15457282         nan         nan         nan         nan         nan\n",
        "         nan         nan         nan         nan]\n"
       ]
      },
      {
       "metadata": {},
       "output_type": "display_data",
       "png": "[encoded data removed]",
       "text": [
        "<matplotlib.figure.Figure at 0x10538da90>"
       ]
      }
     ],
     "prompt_number": 11
    },
    {
     "cell_type": "code",
     "collapsed": false,
     "input": [],
     "language": "python",
     "metadata": {},
     "outputs": []
    }
   ],
   "metadata": {}
  }
 ]
}