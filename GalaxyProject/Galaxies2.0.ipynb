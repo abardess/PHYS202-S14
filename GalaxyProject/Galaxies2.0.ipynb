{
 "metadata": {
  "name": "",
  "signature": "sha256:a8cc243621ddd3a4b7a19357e6a3ca0808a035293fb0522036f89eb6834b6657"
 },
 "nbformat": 3,
 "nbformat_minor": 0,
 "worksheets": [
  {
   "cells": [
    {
     "cell_type": "code",
     "collapsed": false,
     "input": [
      "%pylab inline\n",
      "import numpy as np\n",
      "import matplotlib.pyplot as plt\n",
      "from scipy.integrate import odeint"
     ],
     "language": "python",
     "metadata": {},
     "outputs": [
      {
       "output_type": "stream",
       "stream": "stdout",
       "text": [
        "Populating the interactive namespace from numpy and matplotlib\n"
       ]
      }
     ],
     "prompt_number": 1
    },
    {
     "cell_type": "code",
     "collapsed": false,
     "input": [
      "def create_star_field_polar(stars, r, vr, vtheta):\n",
      "    \"\"\"\n",
      "    Creates a 'field' of stars (where 'stars' is the desired number of stars) in a ring r distance from the origin\n",
      "    and returns them in a list. vr and vtheta are the desired initial components of the velocity of every star.\n",
      "    Each star is defined by a list of four numbers: its initial position components (r and theta), \n",
      "    and its initial velocity components (vr and vtheta). Stars are defined using a polar coordinate system.\n",
      "    \"\"\"\n",
      "    import numpy as np\n",
      "    star_field = []                                       #creates an empty list\n",
      "    theta = np.arange(0, 2 * np.pi, (2 * np.pi) / stars)  #creates an array of theta coordinates in a ring around the origin\n",
      "    for i in theta:                                       #for each theta a star is creates at r\n",
      "        star_field.append([r, i, vr, vtheta])     \n",
      "    return star_field                                     #each star is added to the list, which is returned at the very end"
     ],
     "language": "python",
     "metadata": {},
     "outputs": [],
     "prompt_number": 5
    },
    {
     "cell_type": "code",
     "collapsed": false,
     "input": [
      "ring1 = create_star_field_polar(12, 1, 0, np.pi / 18)      #create five rings of stars around the galaxy's center\n",
      "ring2 = create_star_field_polar(18, 2, 0, np.pi / 18)\n",
      "ring3 = create_star_field_polar(24, 3, 0, np.pi / 18)\n",
      "ring4 = create_star_field_polar(30, 4, 0, np.pi / 18)\n",
      "ring5 = create_star_field_polar(36, 5, 0, np.pi / 18)\n",
      "\n",
      "rings = [ring1, ring2, ring3, ring4, ring5]         #save those rings in a list\n",
      "for ring in rings:                                  #plot the positions of each star in each ring\n",
      "    x = []\n",
      "    y = []\n",
      "    for star in ring:\n",
      "        x.append(star[0] * np.cos(star[1]))\n",
      "        y.append(star[0] * np.sin(star[1]))\n",
      "    plt.axis(\"equal\")\n",
      "    plt.plot(x, y, 'bo')\n",
      "plt.scatter(0, 0, s = 400, c = 'r')                 #plots the center of galaxy, for reference\n",
      "plt.show()"
     ],
     "language": "python",
     "metadata": {},
     "outputs": [
      {
       "metadata": {},
       "output_type": "display_data",
       "png": "[encoded data removed]",
       "text": [
        "<matplotlib.figure.Figure at 0x10547aa90>"
       ]
      }
     ],
     "prompt_number": 6
    },
    {
     "cell_type": "code",
     "collapsed": false,
     "input": [
      "def create_star_field_cartesian(stars, r, vx, vy):\n",
      "    \"\"\"\n",
      "    Creates a 'field' of stars (where 'stars' is the desired number of stars) in a ring r distance from the origin\n",
      "    and returns them in a list. vx and vy are the desired initial components of the velocity of every star.\n",
      "    Each star is defined by a list of four numbers: its initial position components (x and y), and its initial\n",
      "    velocity components (vx and vy). Stars are defined using a cartesian coordinate system.\n",
      "    \"\"\"\n",
      "    import numpy as np\n",
      "    star_field = []                                         #creates an empty list\n",
      "    theta = np.arange(0, 2 * np.pi, (2 * np.pi) / stars)    #creates an array of theta coordinates in a ring around the origin\n",
      "    for i in theta:                                         #for each theta a star is creates at r\n",
      "        x = r * np.cos(i)                                   #star's position is converted to a cartesian coordinate\n",
      "        y = r * np.sin(i)\n",
      "        star_field.append([x, y, vx, vy])\n",
      "    return star_field                                       #each star is added to the list, which is returned at the very end"
     ],
     "language": "python",
     "metadata": {},
     "outputs": [],
     "prompt_number": 7
    },
    {
     "cell_type": "code",
     "collapsed": false,
     "input": [
      "ring1c = create_star_field_cartesian(12, 1, 0, 0)           #creates and plots a test field\n",
      "for star in ring1c:\n",
      "    plt.axis(\"equal\")\n",
      "    plt.plot(star[0], star[1], 'bo')\n",
      "plt.scatter(0, 0, s = 400, c = 'r')                         #plots the center of the galaxy, for reference\n",
      "plt.show()"
     ],
     "language": "python",
     "metadata": {},
     "outputs": [
      {
       "metadata": {},
       "output_type": "display_data",
       "png": "[encoded data removed]",
       "text": [
        "<matplotlib.figure.Figure at 0x1054742d0>"
       ]
      }
     ],
     "prompt_number": 8
    },
    {
     "cell_type": "code",
     "collapsed": false,
     "input": [
      "def create_galaxy(rings, stars, star_increase, r, seperation, cord_sys, v_init):\n",
      "    \"\"\"\n",
      "    Creates a galaxy with 'rings' amount of rings, starting r distance from the galactic center and then propagating\n",
      "    outward with distance 'seperation' between each one. Uses whichever cordinate system is specified, and gives all\n",
      "    stars in the galaxy an initial velocity of v_init (a list which contains both vectors of that velocity).\n",
      "    \"\"\"\n",
      "    galaxy = []\n",
      "    if cord_sys == 'cartesian' or 'Cartesian' or 'car' or 'c':\n",
      "        for i in range(rings):\n",
      "            vx = v_init[0]; vy = v_init[1]\n",
      "            galaxy.append(create_star_field_cartesian(stars, r, vx, vy))\n",
      "            r = r + seperation\n",
      "            stars = stars + star_increase\n",
      "        return galaxy\n",
      "    elif cord_sys == 'polar' or 'Polar' or 'pol' or 'p':\n",
      "        for i in range(rings):\n",
      "            vr = v_init[0]; vtheta = v_init[1]\n",
      "            galaxy.append(create_star_field_polar(stars, r, vr, vtheta))\n",
      "            r = r + seperation\n",
      "            stars = stars + star_increase\n",
      "        return galaxy\n",
      "    else:\n",
      "        print 'Invalid Coordinate system'\n",
      "        return none\n",
      "\n",
      "galaxy = create_galaxy(4, 12, 6, 1, 1, 'pol', [0, pi/3])\n",
      "print galaxy\n",
      "for rings in galaxy:\n",
      "    x = []\n",
      "    y = []\n",
      "    for star in ring:\n",
      "        x.append(star[0] * np.cos(star[1]))\n",
      "        y.append(star[0] * np.sin(star[1]))\n",
      "    plt.axis(\"equal\")\n",
      "    plt.plot(x, y, 'bo')\n",
      "plt.scatter(0, 0, s = 400, c = 'r')                 #plots the center of galaxy, for reference\n",
      "plt.show()"
     ],
     "language": "python",
     "metadata": {},
     "outputs": [
      {
       "output_type": "stream",
       "stream": "stdout",
       "text": [
        "[[[1.0, 0.0, 0, 1.0471975511965976], [0.86602540378443871, 0.49999999999999994, 0, 1.0471975511965976], [0.50000000000000011, 0.8660254037844386, 0, 1.0471975511965976], [6.123233995736766e-17, 1.0, 0, 1.0471975511965976], [-0.49999999999999978, 0.86602540378443882, 0, 1.0471975511965976], [-0.86602540378443849, 0.50000000000000033, 0, 1.0471975511965976], [-1.0, 1.2246467991473532e-16, 0, 1.0471975511965976], [-0.86602540378443882, -0.49999999999999978, 0, 1.0471975511965976], [-0.50000000000000044, -0.86602540378443837, 0, 1.0471975511965976], [-1.8369701987210297e-16, -1.0, 0, 1.0471975511965976], [0.49999999999999928, -0.86602540378443904, 0, 1.0471975511965976], [0.86602540378443837, -0.50000000000000044, 0, 1.0471975511965976]], [[2.0, 0.0, 0, 1.0471975511965976], [1.8793852415718169, 0.68404028665133743, 0, 1.0471975511965976], [1.5320888862379562, 1.2855752193730785, 0, 1.0471975511965976], [1.0000000000000002, 1.7320508075688772, 0, 1.0471975511965976], [0.34729635533386083, 1.969615506024416, 0, 1.0471975511965976], [-0.34729635533386061, 1.969615506024416, 0, 1.0471975511965976], [-0.99999999999999956, 1.7320508075688776, 0, 1.0471975511965976], [-1.5320888862379558, 1.2855752193730789, 0, 1.0471975511965976], [-1.8793852415718166, 0.68404028665133776, 0, 1.0471975511965976], [-2.0, 2.4492935982947064e-16, 0, 1.0471975511965976], [-1.8793852415718169, -0.68404028665133731, 0, 1.0471975511965976], [-1.5320888862379562, -1.2855752193730785, 0, 1.0471975511965976], [-1.0000000000000009, -1.7320508075688767, 0, 1.0471975511965976], [-0.34729635533386066, -1.969615506024416, 0, 1.0471975511965976], [0.34729635533385994, -1.9696155060244163, 0, 1.0471975511965976], [1.0, -1.7320508075688772, 0, 1.0471975511965976], [1.5320888862379558, -1.2855752193730792, 0, 1.0471975511965976], [1.8793852415718164, -0.68404028665133876, 0, 1.0471975511965976]], [[3.0, 0.0, 0, 1.0471975511965976], [2.897777478867205, 0.77645713530756222, 0, 1.0471975511965976], [2.598076211353316, 1.4999999999999998, 0, 1.0471975511965976], [2.1213203435596428, 2.1213203435596424, 0, 1.0471975511965976], [1.5000000000000004, 2.598076211353316, 0, 1.0471975511965976], [0.77645713530756288, 2.8977774788672046, 0, 1.0471975511965976], [1.8369701987210297e-16, 3.0, 0, 1.0471975511965976], [-0.77645713530756189, 2.897777478867205, 0, 1.0471975511965976], [-1.4999999999999993, 2.5980762113533165, 0, 1.0471975511965976], [-2.1213203435596424, 2.1213203435596428, 0, 1.0471975511965976], [-2.5980762113533156, 1.5000000000000009, 0, 1.0471975511965976], [-2.8977774788672046, 0.77645713530756311, 0, 1.0471975511965976], [-3.0, 3.6739403974420594e-16, 0, 1.0471975511965976], [-2.897777478867205, -0.77645713530756111, 0, 1.0471975511965976], [-2.5980762113533165, -1.4999999999999993, 0, 1.0471975511965976], [-2.1213203435596437, -2.1213203435596415, 0, 1.0471975511965976], [-1.5000000000000013, -2.5980762113533151, 0, 1.0471975511965976], [-0.77645713530756444, -2.8977774788672042, 0, 1.0471975511965976], [-5.5109105961630896e-16, -3.0, 0, 1.0471975511965976], [0.77645713530756089, -2.897777478867205, 0, 1.0471975511965976], [1.4999999999999978, -2.5980762113533169, 0, 1.0471975511965976], [2.1213203435596424, -2.1213203435596428, 0, 1.0471975511965976], [2.5980762113533151, -1.5000000000000013, 0, 1.0471975511965976], [2.8977774788672042, -0.77645713530756455, 0, 1.0471975511965976]], [[4.0, 0.0, 0, 1.0471975511965976], [3.9125904029352228, 0.83164676327103726, 0, 1.0471975511965976], [3.6541818305704035, 1.6269465723032006, 0, 1.0471975511965976], [3.2360679774997898, 2.3511410091698925, 0, 1.0471975511965976], [2.6765224254354334, 2.9725793019095765, 0, 1.0471975511965976], [2.0000000000000004, 3.4641016151377544, 0, 1.0471975511965976], [1.2360679774997898, 3.8042260651806141, 0, 1.0471975511965976], [0.41811385307061466, 3.9780875814730932, 0, 1.0471975511965976], [-0.41811385307061333, 3.9780875814730936, 0, 1.0471975511965976], [-1.2360679774997894, 3.8042260651806146, 0, 1.0471975511965976], [-1.9999999999999991, 3.4641016151377553, 0, 1.0471975511965976], [-2.6765224254354316, 2.9725793019095779, 0, 1.0471975511965976], [-3.2360679774997894, 2.351141009169893, 0, 1.0471975511965976], [-3.654181830570403, 1.6269465723032017, 0, 1.0471975511965976], [-3.9125904029352223, 0.83164676327103892, 0, 1.0471975511965976], [-4.0, 4.8985871965894128e-16, 0, 1.0471975511965976], [-3.9125904029352228, -0.83164676327103626, 0, 1.0471975511965976], [-3.6541818305704044, -1.6269465723031993, 0, 1.0471975511965976], [-3.2360679774997898, -2.3511410091698921, 0, 1.0471975511965976], [-2.6765224254354338, -2.9725793019095761, 0, 1.0471975511965976], [-2.0000000000000018, -3.4641016151377535, 0, 1.0471975511965976], [-1.2360679774997902, -3.8042260651806141, 0, 1.0471975511965976], [-0.41811385307061694, -3.9780875814730932, 0, 1.0471975511965976], [0.418113853070612, -3.9780875814730936, 0, 1.0471975511965976], [1.2360679774997889, -3.8042260651806146, 0, 1.0471975511965976], [1.9999999999999971, -3.4641016151377562, 0, 1.0471975511965976], [2.6765224254354312, -2.9725793019095788, 0, 1.0471975511965976], [3.2360679774997894, -2.351141009169893, 0, 1.0471975511965976], [3.6541818305704021, -1.6269465723032037, 0, 1.0471975511965976], [3.9125904029352223, -0.83164676327103948, 0, 1.0471975511965976]]]\n"
       ]
      },
      {
       "ename": "IndexError",
       "evalue": "invalid index to scalar variable.",
       "output_type": "pyerr",
       "traceback": [
        "\u001b[0;31m---------------------------------------------------------------------------\u001b[0m\n\u001b[0;31mIndexError\u001b[0m                                Traceback (most recent call last)",
        "\u001b[0;32m<ipython-input-16-ca87d0e66d68>\u001b[0m in \u001b[0;36m<module>\u001b[0;34m()\u001b[0m\n\u001b[1;32m     30\u001b[0m     \u001b[0my\u001b[0m \u001b[0;34m=\u001b[0m \u001b[0;34m[\u001b[0m\u001b[0;34m]\u001b[0m\u001b[0;34m\u001b[0m\u001b[0m\n\u001b[1;32m     31\u001b[0m     \u001b[0;32mfor\u001b[0m \u001b[0mstar\u001b[0m \u001b[0;32min\u001b[0m \u001b[0mring\u001b[0m\u001b[0;34m:\u001b[0m\u001b[0;34m\u001b[0m\u001b[0m\n\u001b[0;32m---> 32\u001b[0;31m         \u001b[0mx\u001b[0m\u001b[0;34m.\u001b[0m\u001b[0mappend\u001b[0m\u001b[0;34m(\u001b[0m\u001b[0mstar\u001b[0m\u001b[0;34m[\u001b[0m\u001b[0;36m0\u001b[0m\u001b[0;34m]\u001b[0m \u001b[0;34m*\u001b[0m \u001b[0mnp\u001b[0m\u001b[0;34m.\u001b[0m\u001b[0mcos\u001b[0m\u001b[0;34m(\u001b[0m\u001b[0mstar\u001b[0m\u001b[0;34m[\u001b[0m\u001b[0;36m1\u001b[0m\u001b[0;34m]\u001b[0m\u001b[0;34m)\u001b[0m\u001b[0;34m)\u001b[0m\u001b[0;34m\u001b[0m\u001b[0m\n\u001b[0m\u001b[1;32m     33\u001b[0m         \u001b[0my\u001b[0m\u001b[0;34m.\u001b[0m\u001b[0mappend\u001b[0m\u001b[0;34m(\u001b[0m\u001b[0mstar\u001b[0m\u001b[0;34m[\u001b[0m\u001b[0;36m0\u001b[0m\u001b[0;34m]\u001b[0m \u001b[0;34m*\u001b[0m \u001b[0mnp\u001b[0m\u001b[0;34m.\u001b[0m\u001b[0msin\u001b[0m\u001b[0;34m(\u001b[0m\u001b[0mstar\u001b[0m\u001b[0;34m[\u001b[0m\u001b[0;36m1\u001b[0m\u001b[0;34m]\u001b[0m\u001b[0;34m)\u001b[0m\u001b[0;34m)\u001b[0m\u001b[0;34m\u001b[0m\u001b[0m\n\u001b[1;32m     34\u001b[0m     \u001b[0mplt\u001b[0m\u001b[0;34m.\u001b[0m\u001b[0maxis\u001b[0m\u001b[0;34m(\u001b[0m\u001b[0;34m\"equal\"\u001b[0m\u001b[0;34m)\u001b[0m\u001b[0;34m\u001b[0m\u001b[0m\n",
        "\u001b[0;31mIndexError\u001b[0m: invalid index to scalar variable."
       ]
      }
     ],
     "prompt_number": 16
    },
    {
     "cell_type": "code",
     "collapsed": false,
     "input": [
      "def three_body(current_locals, t):\n",
      "    \"\"\"\n",
      "    Return the derivatives of the given equation for the position vectors of a star and a disrupting galaxy.\n",
      "    \"\"\"\n",
      "    import numpy as np\n",
      "    new = np.zeros(8)                                   #initializes an empty array that will hold derivatives\n",
      "                            \n",
      "    M = current_locals[8]                               #mass of central galaxy\n",
      "    S = current_locals[9]                               #mass of disrupting galaxy\n",
      "    G = current_locals[10]                              #gravitational constant     \n",
      "    \n",
      "    x = current_locals[0]                               #extracts position information for the star\n",
      "    y = current_locals[1]                              \n",
      "    r = np.sqrt((x ** 2) + (y ** 2))\n",
      "    \n",
      "    w = current_locals[4]                               #extracts position information for the disrupting galaxy\n",
      "    z = current_locals[5]\n",
      "    R = np.sqrt((w ** 2) + (z ** 2))\n",
      "    \n",
      "    rhox = w - x\n",
      "    rhoy = z - y\n",
      "    rho = R - r                                         #calculates distance information between star and disrupting galaxy\n",
      "\n",
      "    new[0] = current_locals[2]                          #sets new location information equal to current info's derivatives\n",
      "    new[1] = current_locals[3]\n",
      "    new[2] = -G * (((M / (r ** 3.)) * x) - ((S / (rho ** 3.)) * rhox) + ((S / (R ** 3.)) * w))\n",
      "    new[3] = -G * (((M / (r ** 3.)) * y) - ((S / (rho ** 3.)) * rhoy) + ((S / (R ** 3.)) * z))\n",
      "    new[4] = current_locals[6]\n",
      "    new[5] = current_locals[7]\n",
      "    new[6] = -G * (((M + S) / (R ** 3.)) * w)\n",
      "    new[7] = -G * (((M + S) / (R ** 3.)) * z)\n",
      "    \n",
      "    return new"
     ],
     "language": "python",
     "metadata": {},
     "outputs": [],
     "prompt_number": 7
    },
    {
     "cell_type": "code",
     "collapsed": false,
     "input": [
      "#location_data = [x, y, vx, vy, w, z, vw, vz, M, S, G]\n",
      "loc = [0, 1, -1, 0, 3, 3, 0, 1, 10, 0, 10]\n",
      "t = np.arange(0, 10, 1)\n",
      "\n",
      "loc = odeint(three_body, loc, t);\n",
      "    \n",
      "x = loc[:,1]; # extracts the x values from loc\n",
      "y = loc[:,3]; # extracts the y values from loc\n",
      "print x\n",
      "print y\n",
      "plt.plot(x, y); #plot trajectory\n",
      "plt.scatter(0, 0, s=400, c = 'r') #center of galaxy\n",
      "plt.grid();\n",
      "plt.show();"
     ],
     "language": "python",
     "metadata": {},
     "outputs": [
      {
       "output_type": "stream",
       "stream": "stdout",
       "text": [
        "[  1.  nan  nan  nan  nan  nan  nan  nan  nan  nan]\n",
        "[  0.  nan  nan  nan  nan  nan  nan  nan  nan  nan]\n"
       ]
      },
      {
       "metadata": {},
       "output_type": "display_data",
       "png": "[encoded data removed]",
       "text": [
        "<matplotlib.figure.Figure at 0x101e2d0d0>"
       ]
      }
     ],
     "prompt_number": 8
    },
    {
     "cell_type": "code",
     "collapsed": false,
     "input": [],
     "language": "python",
     "metadata": {},
     "outputs": []
    }
   ],
   "metadata": {}
  }
 ]
}