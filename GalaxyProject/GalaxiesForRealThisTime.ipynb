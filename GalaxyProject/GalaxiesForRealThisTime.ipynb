{
 "cells": [
  {
   "cell_type": "code",
   "execution_count": 1,
   "metadata": {
    "collapsed": false
   },
   "outputs": [
    {
     "name": "stdout",
     "output_type": "stream",
     "text": [
      "Populating the interactive namespace from numpy and matplotlib\n"
     ]
    }
   ],
   "source": [
    "%pylab inline\n",
    "import numpy as np\n",
    "import matplotlib.pyplot as plt\n",
    "from scipy.integrate import odeint"
   ]
  },
  {
   "cell_type": "code",
   "execution_count": 16,
   "metadata": {
    "collapsed": true
   },
   "outputs": [],
   "source": [
    "def create_star_ring_polar(stars, r, vr, vtheta):\n",
    "    \"\"\"\n",
    "    Creates a 'field' of stars (where 'stars' is the desired number of stars) in a ring r distance from the origin\n",
    "    and returns them in a list. vr and vtheta are the desired initial components of the velocity of every star.\n",
    "    Each star is defined by a list of four numbers: its initial position components (r and theta), \n",
    "    and its initial velocity components (vr and vtheta). Stars are defined using a polar coordinate system.\n",
    "    \"\"\"\n",
    "    import numpy as np\n",
    "    star_ring = []                                       #creates an empty list\n",
    "    theta = np.arange(0, 2 * np.pi, (2 * np.pi) / stars)  #creates an array of theta coordinates in a ring around the origin\n",
    "    for i in theta:                                       #for each theta a star is creates at r\n",
    "        star_ring.append([r, i, vr, vtheta])     \n",
    "    return star_ring                                     #each star is added to the list, which is returned at the very end"
   ]
  },
  {
   "cell_type": "code",
   "execution_count": 17,
   "metadata": {
    "collapsed": false
   },
   "outputs": [],
   "source": [
    "def create_galaxy(rings, spacing, Rmin, stars, vr, vtheta):\n",
    "    \"\"\"\n",
    "    Creates a galaxy with rings number of rings all evenly spaced at a distnace spacing from each other beginning at distance\n",
    "    Rmin from the center of the galaxy (which is just the origin). The i-th ring has stars + 6(i-1) number of stars, and each\n",
    "    star has velocity components vr and vtheta.\n",
    "    \"\"\"\n",
    "    \n",
    "    galaxy = []\n",
    "    for i in range(rings):\n",
    "        galaxy.append(create_star_ring_polar(stars + i*6, (spacing*(i + 2) * Rmin), vr, vtheta))\n",
    "    return galaxy"
   ]
  },
  {
   "cell_type": "code",
   "execution_count": 25,
   "metadata": {
    "collapsed": false
   },
   "outputs": [],
   "source": [
    "def plot_galaxy(galaxy):\n",
    "    \"\"\"\n",
    "    Generates a plot of each star in each ring in our galaxy, and returns position and velocity vectors of each star in\n",
    "    cartesian coordiantes. Each component of the given vecotrs is a seperate list.\n",
    "    \"\"\"\n",
    "    for ring in galaxy:\n",
    "        x = []\n",
    "        y = []\n",
    "        xv = []\n",
    "        yv = []\n",
    "        for star in ring:\n",
    "            x.append(star[0] * np.cos(star[1]))\n",
    "            y.append(star[0] * np.sin(star[1]))\n",
    "            xv.append(star[2]*np.cos(star[1]) - star[0]*star[3]*np.sin(star[1]))\n",
    "            yv.append(star[2]*np.sin(star[1]) + star[0]*star[3]*np.cos(star[1]))\n",
    "        plt.axis(\"equal\")\n",
    "        plt.plot(x, y, 'bo')\n",
    "    plt.scatter(0, 0, s = 400, c = 'r')                 #plots the center of galaxy, for reference\n",
    "    plt.show()\n",
    "    \n",
    "    return x, y, xv, yv"
   ]
  },
  {
   "cell_type": "code",
   "execution_count": 27,
   "metadata": {
    "collapsed": true
   },
   "outputs": [],
   "source": [
    "Rmin = 25 #kpc\n",
    "T = 5.442 #time-units (544.2 million years)\n",
    "\n",
    "galaxy = create_galaxy(5, .1, Rmin, 12, 0, 2 * np.pi / T)"
   ]
  },
  {
   "cell_type": "code",
   "execution_count": 28,
   "metadata": {
    "collapsed": false
   },
   "outputs": [
    {
     "data": {
      "image/png": "[encoded data removed]",
      "text/plain": [
       "<matplotlib.figure.Figure at 0x132cf2b0>"
      ]
     },
     "metadata": {},
     "output_type": "display_data"
    }
   ],
   "source": [
    "galaxy_cartesian = plot_galaxy(galaxy)"
   ]
  },
  {
   "cell_type": "code",
   "execution_count": 22,
   "metadata": {
    "collapsed": true
   },
   "outputs": [],
   "source": [
    "#current_locals = [x, y, vx, vy, x_prime, y_prime, vx_prime, vy_prime, M, S]\n",
    "\n",
    "def three_body(current_locals, t):\n",
    "    \"\"\"\n",
    "    Return the derivatives of the given equation for the position vectors of a star and a disrupting galaxy.\n",
    "    \"\"\"\n",
    "    import numpy as np\n",
    "    new = np.zeros(8)                                       #initializes an empty array that will hold derivatives\n",
    "    \n",
    "    G = 4.5 * (10 ** -8) #kpc^3 solar masses^-1 years^-2    (gravitational constant)                               \n",
    "    M = current_locals[8]                                   #mass of central galaxy\n",
    "    S = current_locals[9]                                   #mass of disrupting galaxy\n",
    "    \n",
    "    x = current_locals[0]                               #extracts position information for the star\n",
    "    y = current_locals[1]                              \n",
    "    r = np.sqrt((x ** 2) + (y ** 2)) \n",
    "    \n",
    "    x_prime = current_locals[4]                               #extracts position information for the disrupting galaxy\n",
    "    y_prime = current_locals[5]\n",
    "    R = np.sqrt((x_prime ** 2) + (y_prime ** 2))  \n",
    "    \n",
    "    rhox = x_prime - x\n",
    "    rhoy = y_prime - y\n",
    "    rho = R - r                                         #calculates distance information between star and disrupting galaxy\n",
    "\n",
    "    new[0] = current_locals[2]                          #sets new location information equal to current info's derivatives\n",
    "    new[1] = current_locals[3]\n",
    "    new[2] = -G * (((M / (r ** 3.)) * x) - ((S / (rho ** 3.)) * rhox) + ((S / (R ** 3.)) * x_prime))\n",
    "    new[3] = -G * (((M / (r ** 3.)) * y) - ((S / (rho ** 3.)) * rhoy) + ((S / (R ** 3.)) * y_prime))\n",
    "    new[4] = current_locals[6]\n",
    "    new[5] = current_locals[7]\n",
    "    new[6] = -G * (((M + S) / (R ** 3.)) * x_prime)\n",
    "    new[7] = -G * (((M + S) / (R ** 3.)) * y_prime)\n",
    "    \n",
    "    return new"
   ]
  },
  {
   "cell_type": "code",
   "execution_count": 30,
   "metadata": {
    "collapsed": true
   },
   "outputs": [],
   "source": [
    "#disruptor = [x_prime, y_prime, vx_prime, vy_prime, S]\n",
    "#current_locals = [x, y, vx, vy, x_prime, y_prime, vx_prime, vy_prime, M, S]\n",
    "#galaxy_cartesian = [x, y, vx, vy]\n",
    "\n",
    "def merge_galaxies(galaxy, disruptor, M, t):\n",
    "    \"\"\"\n",
    "    Takes a star with position (x, y) and velocity (vx, vy) and solves its three-body equations to\n",
    "    find its locations at all time steps in t. Also returns the positions velocities of the disrupting body.\n",
    "    \"\"\"\n",
    "    import numpy as np\n",
    "    from scipy.integrate import odeint\n",
    "    \n",
    "    S = disruptor[4]\n",
    "    \n",
    "    current_loc = [galaxy[0], galaxy[1], galaxy[2], galaxy[3], disruptor[0], disruptor[1], disruptor[2], disruptor[3], M, S]\n",
    "    loc = np.asarray(current_loc)\n",
    "    \n",
    "    loc = odeint(three_body, loc, t)\n",
    "    \n",
    "    xstar = loc[:,0]; ystar = loc[:,1]              #extract the location data of the star's path\n",
    "    xvstar = loc[:,2]; yvstar = loc[:,3]\n",
    "    \n",
    "    xgal = loc[:,4]; ygal = loc[:,5]                #do the same for the disrupting galaxy\n",
    "    xvgal = loc[:,6]; yvgal = loc[:,6]\n",
    "\n",
    "    return xstar, ystar, xvstar, yvstar, xgal, ygal, xvgal, yvgal #return vector information for the star and "
   ]
  },
  {
   "cell_type": "code",
   "execution_count": null,
   "metadata": {
    "collapsed": true
   },
   "outputs": [],
   "source": []
  }
 ],
 "metadata": {
  "kernelspec": {
   "display_name": "Python 2",
   "language": "python",
   "name": "python2"
  },
  "language_info": {
   "codemirror_mode": {
    "name": "ipython",
    "version": 2
   },
   "file_extension": ".py",
   "mimetype": "text/x-python",
   "name": "python",
   "nbconvert_exporter": "python",
   "pygments_lexer": "ipython2",
   "version": "2.7.9"
  }
 },
 "nbformat": 4,
 "nbformat_minor": 0
}
