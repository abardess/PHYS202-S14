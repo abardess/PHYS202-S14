{
 "metadata": {
  "name": "",
  "signature": "sha256:1ecab4bd4cb72fe058fa5fe475536db7b096a7ab48592939868ff905a621b33f"
 },
 "nbformat": 3,
 "nbformat_minor": 0,
 "worksheets": [
  {
   "cells": [
    {
     "cell_type": "code",
     "collapsed": false,
     "input": [
      "%pylab inline\n",
      "import numpy as np"
     ],
     "language": "python",
     "metadata": {},
     "outputs": [
      {
       "output_type": "stream",
       "stream": "stdout",
       "text": [
        "Populating the interactive namespace from numpy and matplotlib\n"
       ]
      }
     ],
     "prompt_number": 1
    },
    {
     "cell_type": "code",
     "collapsed": false,
     "input": [
      "Temp = [22.0, 23.0, 24.0]\n",
      "eta = []\n",
      "for i in Temp:\n",
      "    n = 1.800 + (i - 15.0)/209.0\n",
      "    eta.append(n * 10.0 ** -5.0)\n",
      "print eta"
     ],
     "language": "python",
     "metadata": {},
     "outputs": [
      {
       "output_type": "stream",
       "stream": "stdout",
       "text": [
        "[1.8334928229665075e-05, 1.8382775119617225e-05, 1.843062200956938e-05]\n"
       ]
      }
     ],
     "prompt_number": 2
    },
    {
     "cell_type": "code",
     "collapsed": false,
     "input": [
      "tf = [12.00375, 13.11, 4.644666667]\n",
      "tu = [16.03666667, 27.0925, 21.99533333]\n",
      "Vf = []; Vu = []\n",
      "E = 42016.81\n",
      "for i in tf:\n",
      "    V = .0005/i\n",
      "    Vf.append(V)\n",
      "for i in tu:\n",
      "    V = .0005/i\n",
      "    Vu.append(V)\n",
      "rho = 885.0 ; g = 9.8 ; \n",
      "r = [] ;y = 0\n",
      "for i in eta:\n",
      "    R = np.sqrt((9.0 * i * (Vf[y]))/2.0*g* rho)\n",
      "    y += 1\n",
      "    r.append(R * 10.0 ** - 4.0)\n",
      "print r"
     ],
     "language": "python",
     "metadata": {},
     "outputs": [
      {
       "output_type": "stream",
       "stream": "stdout",
       "text": [
        "[5.4595527748682617e-07, 5.2309446372977156e-07, 8.7997159313096095e-07]\n"
       ]
      }
     ],
     "prompt_number": 3
    },
    {
     "cell_type": "code",
     "collapsed": false,
     "input": [
      "mass = []\n",
      "for i in r:\n",
      "    m = (4.0/3.0) * np.pi * (i ** 3.0) * rho\n",
      "    mass.append(m)\n",
      "print mass"
     ],
     "language": "python",
     "metadata": {},
     "outputs": [
      {
       "output_type": "stream",
       "stream": "stdout",
       "text": [
        "[6.0325799367868365e-16, 5.3060611513838589e-16, 2.5260261258128356e-15]\n"
       ]
      }
     ],
     "prompt_number": 4
    },
    {
     "cell_type": "code",
     "collapsed": false,
     "input": [
      "charge = []\n",
      "for i in mass:\n",
      "    y = 0\n",
      "    q = (1/(1+(0.82 * 10 ** -7)/r[y])) * ((i * g) / (E)) * (((Vu[y]/Vf[y])) + 1)\n",
      "    charge.append(q)\n",
      "    y += 1\n",
      "print charge"
     ],
     "language": "python",
     "metadata": {},
     "outputs": [
      {
       "output_type": "stream",
       "stream": "stdout",
       "text": [
        "[2.1389705176307308e-19, 1.8813689145412286e-19, 8.956525179103566e-19]\n"
       ]
      }
     ],
     "prompt_number": 5
    },
    {
     "cell_type": "code",
     "collapsed": false,
     "input": [
      "Vfunc = [-.0005/(tf[0]**2), -.0005/(tf[1]**2), -.0005/(tf[2]**2)]\n",
      "Vuunc = [-.0005/(tu[0]**2), -.0005/(tu[1]**2), -.0005/(tu[2]**2)]\n",
      "munc = [((9.0 * np.pi * (r[0] ** 2.0) * eta[0] * (1.0/9.8)) * (((9.0 * eta[0] * Vf[0])/(2.0 * 9.8 * rho)) ** (-1.0/2.0))) * Vfunc[0], ((9.0 * np.pi * (r[1] ** 2.0) * eta[1] * (1.0/9.8)) * (((9.0 * eta[1] * Vf[1])/(2.0 * 9.8 * rho)) ** (-1.0/2.0))) * Vfunc[1], ((9.0 * np.pi * (r[2] ** 2) * eta[2] * (1.0/9.8)) * (((9 * eta[2] * Vf[2])/(2.0 * 9.8 * rho)) ** (-1.0/2.0))) * Vfunc[2]]\n",
      "qunc = []\n",
      "y = 0\n",
      "for i in charge:\n",
      "    uncer = i * sqrt(((munc[y]/mass[y])**2) + ((Vuunc[y]/(Vu[y] + Vf[y]))**2) + ((Vu[y]/Vf[y]) * (Vfunc[y]/(Vu[y] + Vf[y]))) ** 2)\n",
      "    y += 1\n",
      "    qunc.append(uncer)\n",
      "print qunc\n"
     ],
     "language": "python",
     "metadata": {},
     "outputs": [
      {
       "output_type": "stream",
       "stream": "stdout",
       "text": [
        "[3.2257766732622521e-20, 2.5358152939939354e-20, 3.3527402163742661e-19]\n"
       ]
      }
     ],
     "prompt_number": 6
    },
    {
     "cell_type": "code",
     "collapsed": false,
     "input": [
      "print \"eta =\", eta\n",
      "print \"mass =\", mass\n",
      "print \"radii =\", r\n",
      "print \"q =\", charge\n",
      "print \"uncertainty in q =\", qunc"
     ],
     "language": "python",
     "metadata": {},
     "outputs": [
      {
       "output_type": "stream",
       "stream": "stdout",
       "text": [
        "eta = [1.8334928229665075e-05, 1.8382775119617225e-05, 1.843062200956938e-05]\n",
        "mass = [6.0325799367868365e-16, 5.3060611513838589e-16, 2.5260261258128356e-15]\n",
        "radii = [5.4595527748682617e-07, 5.2309446372977156e-07, 8.7997159313096095e-07]\n",
        "q = [2.1389705176307308e-19, 1.8813689145412286e-19, 8.956525179103566e-19]\n",
        "uncertainty in q = [3.2257766732622521e-20, 2.5358152939939354e-20, 3.3527402163742661e-19]\n"
       ]
      }
     ],
     "prompt_number": 7
    },
    {
     "cell_type": "code",
     "collapsed": false,
     "input": [
      "charge2 = [2.1264e-19, 10.705 * 10 **-19, 36.905 * 10 **-19, 7.5903* 10 **-19]\n",
      "qunc2 = [0.0261e-19, 0.074e-19, 0.185e-19, 0.0353e-19]\n",
      "\n",
      "for i in charge:\n",
      "    charge2.append(i)\n",
      "for i in qunc:\n",
      "    qunc2.append(i)\n",
      "\n",
      "print charge2\n",
      "print qunc2"
     ],
     "language": "python",
     "metadata": {},
     "outputs": [
      {
       "output_type": "stream",
       "stream": "stdout",
       "text": [
        "[2.1264e-19, 1.0705e-18, 3.6905e-18, 7.5903e-19, 2.1389705176307308e-19, 1.8813689145412286e-19, 8.956525179103566e-19]\n",
        "[2.61e-21, 7.4e-21, 1.85e-20, 3.53e-21, 3.2257766732622521e-20, 2.5358152939939354e-20, 3.3527402163742661e-19]\n"
       ]
      }
     ],
     "prompt_number": 12
    },
    {
     "cell_type": "code",
     "collapsed": false,
     "input": [
      "print charge2[0]/1\n",
      "print charge2[1]/6.0\n",
      "print charge2[2]/2\n",
      "print charge2[3]/4\n",
      "print charge2[4]/1\n",
      "print charge2[5]/1\n",
      "print charge2[6]/5"
     ],
     "language": "python",
     "metadata": {},
     "outputs": [
      {
       "output_type": "stream",
       "stream": "stdout",
       "text": [
        "2.1264e-19\n",
        "1.78416666667e-19\n",
        "1.84525e-18\n",
        "1.897575e-19\n",
        "2.13897051763e-19\n",
        "1.88136891454e-19\n",
        "1.79130503582e-19\n"
       ]
      }
     ],
     "prompt_number": 46
    },
    {
     "cell_type": "code",
     "collapsed": false,
     "input": [
      "q = [2.1264e-19, 1.78416666667e-19, 1.84525e-18, 1.897575e-19, 2.13897051763e-19, 1.88136891454e-19, 1.79130503582e-19]\n",
      "ave = 1.92 * 10**-19\n",
      "print ave\n",
      "print 60.7 * 10**-21"
     ],
     "language": "python",
     "metadata": {},
     "outputs": [
      {
       "output_type": "stream",
       "stream": "stdout",
       "text": [
        "1.92e-19\n",
        "6.07e-20\n"
       ]
      }
     ],
     "prompt_number": 58
    },
    {
     "cell_type": "code",
     "collapsed": false,
     "input": [],
     "language": "python",
     "metadata": {},
     "outputs": []
    }
   ],
   "metadata": {}
  }
 ]
}