{
 "metadata": {
  "name": "",
  "signature": "sha256:228407d71127ce647dfd1c672b118f5b254903eee665090f57d56283aa5e393b"
 },
 "nbformat": 3,
 "nbformat_minor": 0,
 "worksheets": [
  {
   "cells": [
    {
     "cell_type": "code",
     "collapsed": false,
     "input": [
      "%pylab inline\n",
      "import numpy as np\n",
      "import matplotlib.pyplot as plt\n",
      "from random import randint\n",
      "import scipy.optimize as optimization"
     ],
     "language": "python",
     "metadata": {},
     "outputs": [
      {
       "output_type": "stream",
       "stream": "stdout",
       "text": [
        "Populating the interactive namespace from numpy and matplotlib\n"
       ]
      }
     ],
     "prompt_number": 1
    },
    {
     "cell_type": "code",
     "collapsed": false,
     "input": [
      "n = 1\n",
      "i = 1j\n",
      "h_bar = 6.582 * 10**-16 #eV s\n",
      "m = 1\n",
      "a = 100\n",
      "E = (h_bar**2)*(n**2)*(np.pi**2)/(2*m*(a**2))\n",
      "\n",
      "omega = E/h_bar\n",
      "\n",
      "\n",
      "rho = lambda t: np.exp(-i*omega*t)\n",
      "\n",
      "phi = lambda x: np.sqrt(2/a)*np.sin((n*np.pi/a)*x)\n",
      "\n",
      "wave = lambda x, t: (np.sqrt(2/a)*np.sin((n*np.pi/a)*x)) * (np.exp(-i*omega*t))"
     ],
     "language": "python",
     "metadata": {},
     "outputs": [],
     "prompt_number": 10
    },
    {
     "cell_type": "code",
     "collapsed": false,
     "input": [
      "x = np.arange(0, a, 1)\n",
      "t = np.arange(0, 100, 1)\n",
      "\n",
      "wave_states = wave(x, t)"
     ],
     "language": "python",
     "metadata": {},
     "outputs": []
    }
   ],
   "metadata": {}
  }
 ]
}