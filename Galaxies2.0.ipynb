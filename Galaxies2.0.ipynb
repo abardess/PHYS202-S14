{
 "metadata": {
  "name": "",
  "signature": "sha256:abe7cdab22c0b1d9b7e08a9741f3ac5404fdf8affcaf39993e4a0be07f7f84fe"
 },
 "nbformat": 3,
 "nbformat_minor": 0,
 "worksheets": [
  {
   "cells": [
    {
     "cell_type": "code",
     "collapsed": false,
     "input": [
      "%pylab inline\n",
      "import numpy as np\n",
      "import matplotlib.pyplot as plt\n",
      "from scipy.integrate import odeint"
     ],
     "language": "python",
     "metadata": {},
     "outputs": [
      {
       "output_type": "stream",
       "stream": "stdout",
       "text": [
        "Populating the interactive namespace from numpy and matplotlib\n"
       ]
      }
     ],
     "prompt_number": 1
    },
    {
     "cell_type": "code",
     "collapsed": false,
     "input": [
      "def create_star_field(stars, r, vr, vtheta):\n",
      "    \"\"\"\n",
      "    Creates a 'field' of stars (where 'stars' is the desired number of stars) in a ring r distance from the origin\n",
      "    and returns them in a list. vr and vtheta are the desired initial components of the velocity of every star.\n",
      "    Each star is defined by a list of four numbers: its initial position components (r and theta), \n",
      "    and its initial velocity components (vr and vtheta).\n",
      "    \"\"\"\n",
      "    import numpy as np\n",
      "    star_field = []                                       #creates an empty list\n",
      "    theta = np.arange(0, 2 * np.pi, (2 * np.pi) / stars)  #creates an array of theta coordinates in a ring around the origin\n",
      "    for i in theta:                                       #for each theta a star is creates at r\n",
      "        star_field.append([r, i, vr, vtheta])     \n",
      "    return star_field                                     #each star is added to the list, which is returned at the very end"
     ],
     "language": "python",
     "metadata": {},
     "outputs": [],
     "prompt_number": 2
    },
    {
     "cell_type": "code",
     "collapsed": false,
     "input": [
      "ring1 = create_star_field(12, 1, 0, np.pi / 18)      #create five rings of stars around the galaxy's center\n",
      "ring2 = create_star_field(18, 2, 0, np.pi / 18)\n",
      "ring3 = create_star_field(24, 3, 0, np.pi / 18)\n",
      "ring4 = create_star_field(30, 4, 0, np.pi / 18)\n",
      "ring5 = create_star_field(36, 5, 0, np.pi / 18)\n",
      "\n",
      "rings = [ring1, ring2, ring3, ring4, ring5]         #save those rings in a list\n",
      "for ring in rings:                                  #plot the positions of each star in each ring\n",
      "    x = []\n",
      "    y = []\n",
      "    for star in ring:\n",
      "        x.append(star[0] * np.cos(star[1]))\n",
      "        y.append(star[0] * np.sin(star[1]))\n",
      "    plt.axis(\"equal\")\n",
      "    plt.plot(x, y, 'bo')\n",
      "plt.scatter(0, 0, s = 400, c = 'r')                 #plots the center of galaxy, for reference\n",
      "plt.show()"
     ],
     "language": "python",
     "metadata": {},
     "outputs": [
      {
       "metadata": {},
       "output_type": "display_data",
       "png": "[encoded data removed]",
       "text": [
        "<matplotlib.figure.Figure at 0x104de0490>"
       ]
      }
     ],
     "prompt_number": 3
    },
    {
     "cell_type": "code",
     "collapsed": false,
     "input": [
      "def create_star_field_cartesian(stars, r, vx, vy):\n",
      "    import numpy as np\n",
      "    star_field = []\n",
      "    theat = np.arange(0, 2 * np.pi, (2 * np.pi) / stars)\n",
      "    for i in theta:\n",
      "        x = r * np.cos(i)\n",
      "        y = r * np.sin(i)\n",
      "        star_field.append([x, y, vx, vy])\n",
      "    return star_field"
     ],
     "language": "python",
     "metadata": {},
     "outputs": [],
     "prompt_number": 6
    },
    {
     "cell_type": "code",
     "collapsed": false,
     "input": [
      "ring1c = create_star_field(12, 1, 0, 0)\n",
      "for star in ring1c:\n",
      "    plt.axis(\"equal\")\n",
      "    plt.plot(star[0], star[1], 'bo')\n",
      "plt.scatter(0, 0, s = 400, c = 'r') \n",
      "plt.show()"
     ],
     "language": "python",
     "metadata": {},
     "outputs": [
      {
       "metadata": {},
       "output_type": "display_data",
       "png": "[encoded data removed]",
       "text": [
        "<matplotlib.figure.Figure at 0x105514f90>"
       ]
      }
     ],
     "prompt_number": 11
    },
    {
     "cell_type": "code",
     "collapsed": false,
     "input": [
      "def three_body(current_locals, t):\n",
      "    \"\"\"\n",
      "    Return the derivatives of the given equation for the position vectors of a star and a disrupting galaxy.\n",
      "    \"\"\"\n",
      "    import numpy as np\n",
      "    new = np.zeros(8)                                       #initializes an empty array that will hold derivatives\n",
      "    \n",
      "    G = 4.5 * (10 ** -8) #kpc^3 solar masses^-1 years^-2    (gravitational constant)                               \n",
      "    M = current_locals[8]                                   #mass of central galaxy\n",
      "    S = current_locals[9]                                   #mass of disrupting galaxy\n",
      "    \n",
      "    x = current_locals[0]                               #extracts position information for the star\n",
      "    y = current_locals[1]                              \n",
      "    r = np.sqrt((x ** 2) + (y ** 2))\n",
      "    \n",
      "    w = current_locals[4]                               #extracts position information for the disrupting galaxy\n",
      "    z = current_locals[5]\n",
      "    R = np.sqrt((w ** 2) + (z ** 2))\n",
      "    \n",
      "    rhox = w - x\n",
      "    rhoy = z - y\n",
      "    rho = R - r                                         #calculates distance information between star and disrupting galaxy\n",
      "\n",
      "    new[0] = current_locals[2]                          #sets new location information equal to current info's derivatives\n",
      "    new[1] = current_locals[3]\n",
      "    new[2] = -G * (((M / (r ** 3.)) * x) - ((S / (rho ** 3.)) * rhox) + ((S / (R ** 3.)) * w))\n",
      "    new[3] = -G * (((M / (r ** 3.)) * y) - ((S / (rho ** 3.)) * rhoy) + ((S / (R ** 3.)) * z))\n",
      "    new[4] = current_locals[6]\n",
      "    new[5] = current_locals[7]\n",
      "    new[6] = -G * (((M + S) / (R ** 3.)) * w)\n",
      "    new[7] = -G * (((M + S) / (R ** 3.)) * z)\n",
      "    \n",
      "    return new"
     ],
     "language": "python",
     "metadata": {},
     "outputs": [],
     "prompt_number": 4
    },
    {
     "cell_type": "code",
     "collapsed": false,
     "input": [],
     "language": "python",
     "metadata": {},
     "outputs": []
    }
   ],
   "metadata": {}
  }
 ]
}