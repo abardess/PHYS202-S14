{
 "metadata": {
  "name": "",
  "signature": "sha256:c3bee2f9794675de2d868ec35d974deefe8a0637281feccfca7bb28014e7ebcd"
 },
 "nbformat": 3,
 "nbformat_minor": 0,
 "worksheets": [
  {
   "cells": [
    {
     "cell_type": "code",
     "collapsed": false,
     "input": [
      "%pylab inline\n",
      "import numpy as np\n",
      "import matplotlib.pyplot as plt\n",
      "from scipy.integrate import odeint\n",
      "\n",
      "def create_star_field(stars, r, vr, vtheta):\n",
      "    \"\"\"\n",
      "    Creates a 'field' of stars (where 'stars' is the desired number of stars) in a ring r distance from the origin\n",
      "    and returns them in a list. vr and vtheta are the desired initial components of the velocity of every star.\n",
      "    Each star is defined by a list of four numbers: its initial position components (r and theta), \n",
      "    and its initial velocity components (vr and vtheta).\n",
      "    \"\"\"\n",
      "    import numpy as np\n",
      "    star_field = []                                       #creates an empty list\n",
      "    theta = np.arange(0, 2 * np.pi, (2 * np.pi) / stars)  #creates an array of theta coordinates in a ring around the origin\n",
      "    for i in theta:                                       #for each theta a star is creates at r\n",
      "        star_field.append([r, i, vr, vtheta])     \n",
      "    return star_field      "
     ],
     "language": "python",
     "metadata": {},
     "outputs": [
      {
       "output_type": "stream",
       "stream": "stdout",
       "text": [
        "Populating the interactive namespace from numpy and matplotlib\n"
       ]
      }
     ],
     "prompt_number": 69
    },
    {
     "cell_type": "code",
     "collapsed": false,
     "input": [
      "ring = create_star_field(6, 1, 0, np.pi / 18)     \n",
      "t = np.arange(0, 5, 1)\n",
      "\n",
      "for i in t:\n",
      "    x = []\n",
      "    y = []\n",
      "    for star in ring:\n",
      "        x.append(star[0] * np.cos(star[1]))\n",
      "        y.append(star[0] * np.sin(star[1]))\n",
      "        star[0] = star[0] + star[2]\n",
      "        star[1] = star[1] + star[3]\n",
      "    plt.axis(\"equal\")\n",
      "    plt.plot(x, y, marker = 'o', color = (1. / (i + 1), 1. / (i + 1), 1. / (i + 1)),  markersize = 5, linewidth = 0)\n",
      "    \n",
      "plt.scatter(0, 0, s = 400, c = 'r')\n",
      "plt.annotate(\"t = 5\", (0.842787609687, 0.766044443119))\n",
      "plt.annotate('t = 0', xy=(0.942787609687, 0.700044443119),  xycoords='data',\n",
      "                xytext=(15, -55), textcoords='offset points',\n",
      "                arrowprops=dict(arrowstyle=\"->\", connectionstyle=\"arc3,rad=.2\"))\n",
      "plt.show()"
     ],
     "language": "python",
     "metadata": {},
     "outputs": [
      {
       "metadata": {},
       "output_type": "display_data",
       "png": "[encoded data removed]",
       "text": [
        "<matplotlib.figure.Figure at 0x10535b9d0>"
       ]
      }
     ],
     "prompt_number": 70
    },
    {
     "cell_type": "code",
     "collapsed": false,
     "input": [],
     "language": "python",
     "metadata": {},
     "outputs": []
    }
   ],
   "metadata": {}
  }
 ]
}