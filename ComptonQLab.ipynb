{
 "metadata": {
  "name": "",
  "signature": "sha256:1926dfe8e1e596edd0f7c9437dadb77065de212fdc2fb2e778a621b5f1de680e"
 },
 "nbformat": 3,
 "nbformat_minor": 0,
 "worksheets": [
  {
   "cells": [
    {
     "cell_type": "code",
     "collapsed": false,
     "input": [
      "%pylab inline\n",
      "import numpy as np\n",
      "import matplotlib.pyplot as plt\n",
      "from random import randint"
     ],
     "language": "python",
     "metadata": {},
     "outputs": [
      {
       "output_type": "stream",
       "stream": "stdout",
       "text": [
        "Populating the interactive namespace from numpy and matplotlib\n"
       ]
      },
      {
       "output_type": "stream",
       "stream": "stderr",
       "text": [
        "WARNING: pylab import has clobbered these variables: ['rate', 'angle']\n",
        "`%matplotlib` prevents importing * from pylab and numpy\n"
       ]
      }
     ],
     "prompt_number": 2
    },
    {
     "cell_type": "code",
     "collapsed": false,
     "input": [
      "power_supply_voltage = 600\n",
      "psv = power_supply_voltage\n",
      "#Energy = 4 * Channel_Number\n",
      "#Ba1, Co, Ba2, Na, Cs\n",
      "centroid_cali = [21.83, 32.23, 89.90, 127.99, 165.66]\n",
      "FWHM_cali = [0, 3.552, 5.727, 8.192, 5.166]\n",
      "rate_cali = [ 24.65, 21.20, 16.70, 25.40, 13.40]\n",
      "uncer_cali = [10.97, 9.00, 14.21, 10.64, 15.62]\n",
      "energies_cali = [81.0, 122.1, 302.9, 511.0, 661.7] #KeV\n",
      "c, b, a = np.polyfit(centroid_cali, energies_cali, 2)\n",
      "print \"a =\", a\n",
      "print \"b =\", b\n",
      "print \"c =\", c\n",
      "\n",
      "\n",
      "plt.plot(centroid_cali, energies_cali, '^')\n",
      "plt.show()"
     ],
     "language": "python",
     "metadata": {},
     "outputs": [
      {
       "output_type": "stream",
       "stream": "stdout",
       "text": [
        "a = 20.1465712376\n",
        "b = 2.71541099051\n",
        "c = 0.00729429983056\n"
       ]
      },
      {
       "metadata": {},
       "output_type": "display_data",
       "png": "[encoded data removed]",
       "text": [
        "<matplotlib.figure.Figure at 0x10263d650>"
       ]
      }
     ],
     "prompt_number": 4
    },
    {
     "cell_type": "code",
     "collapsed": false,
     "input": [
      "#day 2\n",
      "angle = [30, 40, 50, 60, 70, 80, 90, 100, 110]\n",
      "centroid = [139.47, 126.12, 113.35, 100.51, 90.21, 80.42, 73.58, 66.86, 61.89]\n",
      "FWHM = [11.710, 10.565, 11.818, 8.743, 8.749, 6.569, 7.255, 6.570, 6.885]\n",
      "uncer = [5.76, 5.85, 5.80, 5.79, 5.88, 5.82, 5.69, 5.75, 5.66]\n",
      "rate = [5.22, 3.48, 3.10, 1.73, 2.04, 2.85, 2.06, 2.03, 2.43]\n",
      "time = [373.93, 400, 475, 550, 619.40, 469.36, 824.17, 952.9, 864.71]\n",
      "efficiency = [.5, .5, .55, .6,.65, .67, .7, .75, .8]\n",
      "\n",
      "theta_uncer = 4.09 * np.pi/180.0\n",
      "\n",
      "\n",
      "energy = []; energy_uncer = []\n",
      "e_inverse = []\n",
      "\n",
      "coangle = []\n",
      "coangle_uncer = []\n",
      "\n",
      "theoretical = []\n",
      "th_uncer = []\n",
      "\n",
      "for i in range(9):\n",
      "    E_mesu = a + centroid[i]*b + (centroid[i]**2)*c\n",
      "    E_mesu_uncer = (b + 2*centroid[i]*c) * FWHM[i]\n",
      "    energy.append(E_mesu)\n",
      "    energy_uncer.append(E_mesu_uncer)\n",
      "    \n",
      "    mc2 = 0.510998910 * (10**6) #eV/c^2\n",
      "    E0 = 661.7 * 10 **3 #eV\n",
      "    \n",
      "    e_th = ((1.0/E0) + ((1.0/mc2) * (1.0 - np.cos(angle[i] * np.pi/180.0))))\n",
      "    e_inverse.append(e_th * 1000000)\n",
      "    theoretical.append((1.0/(e_th * 10 ** 3)))\n",
      "    \n",
      "    e_th_uncer = np.sin(angle[i]* np.pi/180.0) * (theta_uncer)\n",
      "    th_uncer.append(1.0/e_th_uncer)\n",
      "    \n",
      "    coangle.append((1.0 - np.cos(angle[i] * np.pi/180.0)))\n",
      "    coangle_uncer.append(np.sin(angle[i]* np.pi/180.0) * (theta_uncer))\n",
      "\n",
      "alpha = 0\n",
      "for i in coangle_uncer:\n",
      "    alpha += i\n",
      "alpha = alpha/9\n",
      "\n",
      "delta = 0\n",
      "for i in energy_uncer:\n",
      "    delta += i\n",
      "delta = delta/9\n",
      "\n",
      "plt.figure()\n",
      "plt.subplot(111)\n",
      "plt.errorbar(coangle, e_inverse, 1/delta)\n",
      "plt.plot(coangle, e_inverse, 'r')\n",
      "\n",
      "plt.title(r'E$^{-1}$ as a Function of $\\theta$', fontsize = 16)\n",
      "plt.xlabel(r'$1 - cos(\\theta)$', fontsize = 15)\n",
      "plt.ylabel(r'E$^{-1}$ (MeV$^{-1}$)', fontsize = 13)\n",
      "\n",
      "plt.show()\n",
      "\n",
      "for i in range(9):\n",
      "    print \"Energy Measured:\", energy[i], \"+/-\", delta\n",
      "    print \"Theoretical Energy:\", theoretical[i]\n",
      "    print"
     ],
     "language": "python",
     "metadata": {},
     "outputs": [
      {
       "metadata": {},
       "output_type": "display_data",
       "png": "[encoded data removed]",
       "text": [
        "<matplotlib.figure.Figure at 0x104db3210>"
       ]
      },
      {
       "output_type": "stream",
       "stream": "stdout",
       "text": [
        "Energy Measured: 540.752793637 +/- 36.6009453003\n",
        "Theoretical Energy: 563.875652391\n",
        "\n",
        "Energy Measured: 478.639194135 +/- 36.6009453003\n",
        "Theoretical Energy: 507.846606274\n",
        "\n",
        "Energy Measured: 421.657194217 +/- 36.6009453003\n",
        "Theoretical Energy: 452.42601483\n",
        "\n",
        "Energy Measured: 366.761444029 +/- 36.6009453003\n",
        "Theoretical Energy: 401.649244574\n",
        "\n",
        "Energy Measured: 324.463671531 +/- 36.6009453003\n",
        "Theoretical Energy: 357.284055966\n",
        "\n",
        "Energy Measured: 285.694905673 +/- 36.6009453003\n",
        "Theoretical Energy: 319.653323749\n",
        "\n",
        "Energy Measured: 259.437970828 +/- 36.6009453003\n",
        "Theoretical Energy: 288.333156843\n",
        "\n",
        "Energy Measured: 234.306363906 +/- 36.6009453003\n",
        "Theoretical Energy: 262.602887073\n",
        "\n",
        "Energy Measured: 216.14324 +/- 36.6009453003\n",
        "Theoretical Energy: 241.69026617\n",
        "\n"
       ]
      }
     ],
     "prompt_number": 8
    },
    {
     "cell_type": "code",
     "collapsed": false,
     "input": [],
     "language": "python",
     "metadata": {},
     "outputs": []
    }
   ],
   "metadata": {}
  }
 ]
}