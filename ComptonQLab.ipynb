{
 "metadata": {
  "name": "",
  "signature": "sha256:f297b1ed2726dee79f1042168c60fcf7f93ba1a9ba2db1403357cd769f2426b6"
 },
 "nbformat": 3,
 "nbformat_minor": 0,
 "worksheets": [
  {
   "cells": [
    {
     "cell_type": "code",
     "collapsed": false,
     "input": [
      "%pylab inline\n",
      "import numpy as np\n",
      "import matplotlib.pyplot as plt\n",
      "from random import randint"
     ],
     "language": "python",
     "metadata": {},
     "outputs": [
      {
       "output_type": "stream",
       "stream": "stdout",
       "text": [
        "Populating the interactive namespace from numpy and matplotlib\n"
       ]
      }
     ],
     "prompt_number": 1
    },
    {
     "cell_type": "code",
     "collapsed": false,
     "input": [
      "power_supply_voltage = 600\n",
      "psv = power_supply_voltage\n",
      "#Energy = 4 * Channel_Number\n",
      "#Ba1, Co, Ba2, Na, Cs\n",
      "Centroid = [21.83, 32.23, 89.90, 127.99, 165.66]\n",
      "FWHM = [0, 3.552, 5.727, 8.192, 5.166]\n",
      "Net_rate = [ 24.65, 21.20, 16.70, 25.40, 13.40]\n",
      "Uncertainty = [10.97, 9.00, 14.21, 10.64, 15.62]\n",
      "Energies = [81.0, 122.1, 302.9, 511.0, 661.7] #KeV\n",
      "c, b, a = np.polyfit(Centroid, Energies, 2)\n",
      "print \"a =\", a\n",
      "print \"b =\", b\n",
      "print \"c =\", c\n",
      "\n",
      "\n",
      "plt.plot(Centroid, Energies, '^')\n",
      "plt.show()"
     ],
     "language": "python",
     "metadata": {},
     "outputs": [
      {
       "output_type": "stream",
       "stream": "stdout",
       "text": [
        "a = 20.1465712376\n",
        "b = 2.71541099051\n",
        "c = 0.00729429983056\n"
       ]
      },
      {
       "metadata": {},
       "output_type": "display_data",
       "png": "[encoded data removed]",
       "text": [
        "<matplotlib.figure.Figure at 0x1027585d0>"
       ]
      }
     ],
     "prompt_number": 4
    },
    {
     "cell_type": "code",
     "collapsed": false,
     "input": [
      "source_60 = [102.68, 0, 0.85, 8.14] #Centroid, FWHM, Net Rate, Uncertainty\n",
      "\n",
      "E60 = a + source_60[0]*b + (source_60[0]**2)*c\n",
      "print E60"
     ],
     "language": "python",
     "metadata": {},
     "outputs": [
      {
       "output_type": "stream",
       "stream": "stdout",
       "text": [
        "375.870105337\n"
       ]
      }
     ],
     "prompt_number": 5
    },
    {
     "cell_type": "code",
     "collapsed": false,
     "input": [
      "theta_uncer = 4.09 #deg\n",
      "\n",
      "mc2 = 0.510998910 * (10**6) #eV/c^2\n",
      "E0 = 661.7 * (10 **3) #eV\n",
      "\n",
      "e_th = (1/E0) + ((1/mc2) * (1 - np.cos(60.0 * np.pi/180.0)))\n",
      "E_th = 1/e_th\n",
      "print E_th/1000"
     ],
     "language": "python",
     "metadata": {},
     "outputs": [
      {
       "output_type": "stream",
       "stream": "stdout",
       "text": [
        "401.649244574\n"
       ]
      }
     ],
     "prompt_number": 6
    },
    {
     "cell_type": "code",
     "collapsed": false,
     "input": [
      "source_30 = [142.26, 7.518, 2.83, 8.10]\n",
      "\n",
      "E30 = a + source_30[0]*b + (source_30[0]**2)*c\n",
      "print E30"
     ],
     "language": "python",
     "metadata": {},
     "outputs": [
      {
       "output_type": "stream",
       "stream": "stdout",
       "text": [
        "554.062304725\n"
       ]
      }
     ],
     "prompt_number": 7
    },
    {
     "cell_type": "code",
     "collapsed": false,
     "input": [
      "e_th60 = (1/E0) + ((1/mc2) * (1 - np.cos(30.0 * np.pi/180.0)))\n",
      "E_th60 = 1/e_th60\n",
      "print E_th60/1000"
     ],
     "language": "python",
     "metadata": {},
     "outputs": [
      {
       "output_type": "stream",
       "stream": "stdout",
       "text": [
        "563.875652391\n"
       ]
      }
     ],
     "prompt_number": 9
    },
    {
     "cell_type": "code",
     "collapsed": false,
     "input": [
      "source_20 =[162.26, 9.483, 13.42, 4.27]\n",
      "\n",
      "E20 = a + source_20[0]*b + (source_20[0]**2)*c\n",
      "print E20"
     ],
     "language": "python",
     "metadata": {},
     "outputs": [
      {
       "output_type": "stream",
       "stream": "stdout",
       "text": [
        "652.795728223\n"
       ]
      }
     ],
     "prompt_number": 10
    },
    {
     "cell_type": "code",
     "collapsed": false,
     "input": [
      "e_th20 = (1/E0) + ((1/mc2) * (1 - np.cos(20.0 * np.pi/180.0)))\n",
      "E_th20 = 1/e_th20\n",
      "print E_th20/1000"
     ],
     "language": "python",
     "metadata": {},
     "outputs": [
      {
       "output_type": "stream",
       "stream": "stdout",
       "text": [
        "613.768992205\n"
       ]
      }
     ],
     "prompt_number": 11
    },
    {
     "cell_type": "code",
     "collapsed": false,
     "input": [],
     "language": "python",
     "metadata": {},
     "outputs": []
    }
   ],
   "metadata": {}
  }
 ]
}